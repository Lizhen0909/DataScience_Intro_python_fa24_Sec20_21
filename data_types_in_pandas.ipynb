{
 "cells": [
  {
   "cell_type": "code",
   "execution_count": null,
   "metadata": {},
   "outputs": [],
   "source": [
    "import pandas as pd\n",
    "import numpy as np\n",
    "import matplotlib.pyplot as plt"
   ]
  },
  {
   "cell_type": "code",
   "execution_count": 2,
   "metadata": {},
   "outputs": [
    {
     "data": {
      "text/html": [
       "<div>\n",
       "<style scoped>\n",
       "    .dataframe tbody tr th:only-of-type {\n",
       "        vertical-align: middle;\n",
       "    }\n",
       "\n",
       "    .dataframe tbody tr th {\n",
       "        vertical-align: top;\n",
       "    }\n",
       "\n",
       "    .dataframe thead th {\n",
       "        text-align: right;\n",
       "    }\n",
       "</style>\n",
       "<table border=\"1\" class=\"dataframe\">\n",
       "  <thead>\n",
       "    <tr style=\"text-align: right;\">\n",
       "      <th></th>\n",
       "      <th>Title</th>\n",
       "      <th>US Gross</th>\n",
       "      <th>Worldwide Gross</th>\n",
       "      <th>Production Budget</th>\n",
       "      <th>Release Date</th>\n",
       "      <th>MPAA Rating</th>\n",
       "      <th>Source</th>\n",
       "      <th>Major Genre</th>\n",
       "      <th>Creative Type</th>\n",
       "      <th>IMDB Rating</th>\n",
       "      <th>IMDB Votes</th>\n",
       "    </tr>\n",
       "  </thead>\n",
       "  <tbody>\n",
       "    <tr>\n",
       "      <th>0</th>\n",
       "      <td>Opal Dreams</td>\n",
       "      <td>14443</td>\n",
       "      <td>14443</td>\n",
       "      <td>9000000</td>\n",
       "      <td>Nov 22 2006</td>\n",
       "      <td>PG/PG-13</td>\n",
       "      <td>Adapted screenplay</td>\n",
       "      <td>Drama</td>\n",
       "      <td>Fiction</td>\n",
       "      <td>6.5</td>\n",
       "      <td>468</td>\n",
       "    </tr>\n",
       "    <tr>\n",
       "      <th>1</th>\n",
       "      <td>Major Dundee</td>\n",
       "      <td>14873</td>\n",
       "      <td>14873</td>\n",
       "      <td>3800000</td>\n",
       "      <td>Apr 07 1965</td>\n",
       "      <td>PG/PG-13</td>\n",
       "      <td>Adapted screenplay</td>\n",
       "      <td>Western/Musical</td>\n",
       "      <td>Fiction</td>\n",
       "      <td>6.7</td>\n",
       "      <td>2588</td>\n",
       "    </tr>\n",
       "    <tr>\n",
       "      <th>2</th>\n",
       "      <td>The Informers</td>\n",
       "      <td>315000</td>\n",
       "      <td>315000</td>\n",
       "      <td>18000000</td>\n",
       "      <td>Apr 24 2009</td>\n",
       "      <td>R</td>\n",
       "      <td>Adapted screenplay</td>\n",
       "      <td>Horror/Thriller</td>\n",
       "      <td>Fiction</td>\n",
       "      <td>5.2</td>\n",
       "      <td>7595</td>\n",
       "    </tr>\n",
       "    <tr>\n",
       "      <th>3</th>\n",
       "      <td>Buffalo Soldiers</td>\n",
       "      <td>353743</td>\n",
       "      <td>353743</td>\n",
       "      <td>15000000</td>\n",
       "      <td>Jul 25 2003</td>\n",
       "      <td>R</td>\n",
       "      <td>Adapted screenplay</td>\n",
       "      <td>Comedy</td>\n",
       "      <td>Fiction</td>\n",
       "      <td>6.9</td>\n",
       "      <td>13510</td>\n",
       "    </tr>\n",
       "    <tr>\n",
       "      <th>4</th>\n",
       "      <td>The Last Sin Eater</td>\n",
       "      <td>388390</td>\n",
       "      <td>388390</td>\n",
       "      <td>2200000</td>\n",
       "      <td>Feb 09 2007</td>\n",
       "      <td>PG/PG-13</td>\n",
       "      <td>Adapted screenplay</td>\n",
       "      <td>Drama</td>\n",
       "      <td>Fiction</td>\n",
       "      <td>5.7</td>\n",
       "      <td>1012</td>\n",
       "    </tr>\n",
       "  </tbody>\n",
       "</table>\n",
       "</div>"
      ],
      "text/plain": [
       "                Title  US Gross  Worldwide Gross  Production Budget  \\\n",
       "0         Opal Dreams     14443            14443            9000000   \n",
       "1        Major Dundee     14873            14873            3800000   \n",
       "2       The Informers    315000           315000           18000000   \n",
       "3    Buffalo Soldiers    353743           353743           15000000   \n",
       "4  The Last Sin Eater    388390           388390            2200000   \n",
       "\n",
       "  Release Date MPAA Rating              Source      Major Genre Creative Type  \\\n",
       "0  Nov 22 2006    PG/PG-13  Adapted screenplay            Drama       Fiction   \n",
       "1  Apr 07 1965    PG/PG-13  Adapted screenplay  Western/Musical       Fiction   \n",
       "2  Apr 24 2009           R  Adapted screenplay  Horror/Thriller       Fiction   \n",
       "3  Jul 25 2003           R  Adapted screenplay           Comedy       Fiction   \n",
       "4  Feb 09 2007    PG/PG-13  Adapted screenplay            Drama       Fiction   \n",
       "\n",
       "   IMDB Rating  IMDB Votes  \n",
       "0          6.5         468  \n",
       "1          6.7        2588  \n",
       "2          5.2        7595  \n",
       "3          6.9       13510  \n",
       "4          5.7        1012  "
      ]
     },
     "execution_count": 2,
     "metadata": {},
     "output_type": "execute_result"
    }
   ],
   "source": [
    "movie_ratings = pd.read_csv('./datasets/movie_ratings.csv')\n",
    "movie_ratings.head()"
   ]
  },
  {
   "cell_type": "markdown",
   "metadata": {},
   "source": [
    "## DataType and DataType Conversion\n",
    "\n",
    "The `dtypes` property is used to find the dtypes in the DataFrame."
   ]
  },
  {
   "cell_type": "code",
   "execution_count": null,
   "metadata": {},
   "outputs": [
    {
     "data": {
      "text/plain": [
       "Title                 object\n",
       "US Gross               int64\n",
       "Worldwide Gross        int64\n",
       "Production Budget      int64\n",
       "Release Date          object\n",
       "MPAA Rating           object\n",
       "Source                object\n",
       "Major Genre           object\n",
       "Creative Type         object\n",
       "IMDB Rating          float64\n",
       "IMDB Votes             int64\n",
       "dtype: object"
      ]
     },
     "metadata": {},
     "output_type": "display_data"
    }
   ],
   "source": [
    "movie_ratings.dtypes"
   ]
  },
  {
   "cell_type": "markdown",
   "metadata": {},
   "source": [
    "The `dtypes`attribute returns a Series with the data type of each column.\n",
    "\n",
    "<img src=\"https://www.w3resource.com/w3r_images/pandas-dataframe-dtypes-1.png\" width=\"500\">\n",
    "\n",
    "While it's common for columns containing strings to have the `object` data type, it can also include other types such as lists, dictionaries, or even mixed types within the same column. The `object` data type is a catch-all for columns that contain mixed types or types that aren't easily categorized."
   ]
  },
  {
   "cell_type": "markdown",
   "metadata": {},
   "source": [
    "### Data Type Filtering\n",
    "We can filter the columns based on its data types"
   ]
  },
  {
   "cell_type": "code",
   "execution_count": null,
   "metadata": {},
   "outputs": [
    {
     "data": {
      "text/html": [
       "<div>\n",
       "<style scoped>\n",
       "    .dataframe tbody tr th:only-of-type {\n",
       "        vertical-align: middle;\n",
       "    }\n",
       "\n",
       "    .dataframe tbody tr th {\n",
       "        vertical-align: top;\n",
       "    }\n",
       "\n",
       "    .dataframe thead th {\n",
       "        text-align: right;\n",
       "    }\n",
       "</style>\n",
       "<table border=\"1\" class=\"dataframe\">\n",
       "  <thead>\n",
       "    <tr style=\"text-align: right;\">\n",
       "      <th></th>\n",
       "      <th>Title</th>\n",
       "      <th>MPAA Rating</th>\n",
       "      <th>Source</th>\n",
       "      <th>Major Genre</th>\n",
       "      <th>Creative Type</th>\n",
       "    </tr>\n",
       "  </thead>\n",
       "  <tbody>\n",
       "    <tr>\n",
       "      <th>0</th>\n",
       "      <td>Opal Dreams</td>\n",
       "      <td>PG/PG-13</td>\n",
       "      <td>Adapted screenplay</td>\n",
       "      <td>Drama</td>\n",
       "      <td>Fiction</td>\n",
       "    </tr>\n",
       "    <tr>\n",
       "      <th>1</th>\n",
       "      <td>Major Dundee</td>\n",
       "      <td>PG/PG-13</td>\n",
       "      <td>Adapted screenplay</td>\n",
       "      <td>Western/Musical</td>\n",
       "      <td>Fiction</td>\n",
       "    </tr>\n",
       "    <tr>\n",
       "      <th>2</th>\n",
       "      <td>The Informers</td>\n",
       "      <td>R</td>\n",
       "      <td>Adapted screenplay</td>\n",
       "      <td>Horror/Thriller</td>\n",
       "      <td>Fiction</td>\n",
       "    </tr>\n",
       "    <tr>\n",
       "      <th>3</th>\n",
       "      <td>Buffalo Soldiers</td>\n",
       "      <td>R</td>\n",
       "      <td>Adapted screenplay</td>\n",
       "      <td>Comedy</td>\n",
       "      <td>Fiction</td>\n",
       "    </tr>\n",
       "    <tr>\n",
       "      <th>4</th>\n",
       "      <td>The Last Sin Eater</td>\n",
       "      <td>PG/PG-13</td>\n",
       "      <td>Adapted screenplay</td>\n",
       "      <td>Drama</td>\n",
       "      <td>Fiction</td>\n",
       "    </tr>\n",
       "  </tbody>\n",
       "</table>\n",
       "</div>"
      ],
      "text/plain": [
       "                Title MPAA Rating              Source      Major Genre  \\\n",
       "0         Opal Dreams    PG/PG-13  Adapted screenplay            Drama   \n",
       "1        Major Dundee    PG/PG-13  Adapted screenplay  Western/Musical   \n",
       "2       The Informers           R  Adapted screenplay  Horror/Thriller   \n",
       "3    Buffalo Soldiers           R  Adapted screenplay           Comedy   \n",
       "4  The Last Sin Eater    PG/PG-13  Adapted screenplay            Drama   \n",
       "\n",
       "  Creative Type  \n",
       "0       Fiction  \n",
       "1       Fiction  \n",
       "2       Fiction  \n",
       "3       Fiction  \n",
       "4       Fiction  "
      ]
     },
     "metadata": {},
     "output_type": "display_data"
    }
   ],
   "source": [
    "\n",
    "# select just object columns\n",
    "movie_ratings.select_dtypes(include='object').head()\n"
   ]
  },
  {
   "cell_type": "code",
   "execution_count": null,
   "metadata": {},
   "outputs": [
    {
     "data": {
      "text/html": [
       "<div>\n",
       "<style scoped>\n",
       "    .dataframe tbody tr th:only-of-type {\n",
       "        vertical-align: middle;\n",
       "    }\n",
       "\n",
       "    .dataframe tbody tr th {\n",
       "        vertical-align: top;\n",
       "    }\n",
       "\n",
       "    .dataframe thead th {\n",
       "        text-align: right;\n",
       "    }\n",
       "</style>\n",
       "<table border=\"1\" class=\"dataframe\">\n",
       "  <thead>\n",
       "    <tr style=\"text-align: right;\">\n",
       "      <th></th>\n",
       "      <th>US Gross</th>\n",
       "      <th>Worldwide Gross</th>\n",
       "      <th>Production Budget</th>\n",
       "      <th>IMDB Rating</th>\n",
       "      <th>IMDB Votes</th>\n",
       "      <th>Release Year</th>\n",
       "      <th>ratio_wgross_by_budget</th>\n",
       "    </tr>\n",
       "  </thead>\n",
       "  <tbody>\n",
       "    <tr>\n",
       "      <th>0</th>\n",
       "      <td>14443</td>\n",
       "      <td>14443</td>\n",
       "      <td>9000000</td>\n",
       "      <td>6.5</td>\n",
       "      <td>468</td>\n",
       "      <td>2006</td>\n",
       "      <td>0.001605</td>\n",
       "    </tr>\n",
       "    <tr>\n",
       "      <th>1</th>\n",
       "      <td>14873</td>\n",
       "      <td>14873</td>\n",
       "      <td>3800000</td>\n",
       "      <td>6.7</td>\n",
       "      <td>2588</td>\n",
       "      <td>1965</td>\n",
       "      <td>0.003914</td>\n",
       "    </tr>\n",
       "    <tr>\n",
       "      <th>2</th>\n",
       "      <td>315000</td>\n",
       "      <td>315000</td>\n",
       "      <td>18000000</td>\n",
       "      <td>5.2</td>\n",
       "      <td>7595</td>\n",
       "      <td>2009</td>\n",
       "      <td>0.017500</td>\n",
       "    </tr>\n",
       "    <tr>\n",
       "      <th>3</th>\n",
       "      <td>353743</td>\n",
       "      <td>353743</td>\n",
       "      <td>15000000</td>\n",
       "      <td>6.9</td>\n",
       "      <td>13510</td>\n",
       "      <td>2003</td>\n",
       "      <td>0.023583</td>\n",
       "    </tr>\n",
       "    <tr>\n",
       "      <th>4</th>\n",
       "      <td>388390</td>\n",
       "      <td>388390</td>\n",
       "      <td>2200000</td>\n",
       "      <td>5.7</td>\n",
       "      <td>1012</td>\n",
       "      <td>2007</td>\n",
       "      <td>0.176541</td>\n",
       "    </tr>\n",
       "  </tbody>\n",
       "</table>\n",
       "</div>"
      ],
      "text/plain": [
       "   US Gross  Worldwide Gross  Production Budget  IMDB Rating  IMDB Votes  \\\n",
       "0     14443            14443            9000000          6.5         468   \n",
       "1     14873            14873            3800000          6.7        2588   \n",
       "2    315000           315000           18000000          5.2        7595   \n",
       "3    353743           353743           15000000          6.9       13510   \n",
       "4    388390           388390            2200000          5.7        1012   \n",
       "\n",
       "   Release Year  ratio_wgross_by_budget  \n",
       "0          2006                0.001605  \n",
       "1          1965                0.003914  \n",
       "2          2009                0.017500  \n",
       "3          2003                0.023583  \n",
       "4          2007                0.176541  "
      ]
     },
     "metadata": {},
     "output_type": "display_data"
    }
   ],
   "source": [
    "# select the numeric columns\n",
    "movie_ratings.select_dtypes(include='number').head()"
   ]
  },
  {
   "cell_type": "markdown",
   "metadata": {},
   "source": [
    "### Available Data Types and Associated Built-in Functions\n",
    "\n",
    "In a DataFrame, columns can have different data types. Here are the common data types you'll encounter and some built-in functions associated with each type:\n",
    "\n",
    "1. **Numerical Data (int, float)**\n",
    "   - Built-in functions: `mean()`, `sum()`, `min()`, `max()`, `std()`, `median()`, `quantile()`, etc.\n",
    "\n",
    "2. **Object Data (str or mixed types)**\n",
    "   - Built-in functions: `str.contains()`, `str.startswith()`, `str.endswith()`, `str.lower()`, `str.upper()`, `str.replace()`, etc.\n",
    "\n",
    "3. **Datetime Data (datetime64)**\n",
    "   - Built-in functions: `dt.year`, `dt.month`, `dt.day`, `dt.strftime()`, `dt.weekday()`, `dt.hour`, etc.\n",
    "\n",
    "These functions help in exploring and transforming the data effectively depending on the type of data in each column."
   ]
  },
  {
   "cell_type": "markdown",
   "metadata": {},
   "source": [
    "###  Data Type Conversion\n",
    "  \n",
    "   When you work on a specific column, being mindful of which data type it is, the data type depends on its built in function.\n",
    "\n",
    "   Often, we need to convert the datatypes of some of the columns to make them suitable for analysis. For example, the datatype of Release Date in the DataFrame movie_ratings is object. To perform datetime related computations on this variable, we’ll need to convert it to a datatime format. We’ll use the Pandas function `to_datatime()` to covert it to a datatime format. Similar functions such as `to_numeric()`, `to_string()` etc., can be used for other conversions."
   ]
  },
  {
   "cell_type": "code",
   "execution_count": null,
   "metadata": {},
   "outputs": [
    {
     "data": {
      "text/plain": [
       "0       Nov 22 2006\n",
       "1       Apr 07 1965\n",
       "2       Apr 24 2009\n",
       "3       Jul 25 2003\n",
       "4       Feb 09 2007\n",
       "           ...     \n",
       "2223    Jul 07 2004\n",
       "2224    Jun 19 1998\n",
       "2225    May 14 2010\n",
       "2226    Jun 14 1991\n",
       "2227    Jan 23 1998\n",
       "Name: Release Date, Length: 2228, dtype: object"
      ]
     },
     "metadata": {},
     "output_type": "display_data"
    }
   ],
   "source": [
    "movie_ratings['Release Date']"
   ]
  },
  {
   "cell_type": "code",
   "execution_count": null,
   "metadata": {},
   "outputs": [
    {
     "data": {
      "text/plain": [
       "dtype('O')"
      ]
     },
     "metadata": {},
     "output_type": "display_data"
    }
   ],
   "source": [
    "# check the datatype of release data column \n",
    "movie_ratings['Release Date'].dtypes"
   ]
  },
  {
   "cell_type": "markdown",
   "metadata": {},
   "source": [
    "We can see above that the function `to_datetime()` converts Release Date to a `datetime` format.\n",
    "\n",
    "Next, we’ll update the variable `Release Date` in the DataFrame to be in the `datetime` format:"
   ]
  },
  {
   "cell_type": "code",
   "execution_count": null,
   "metadata": {},
   "outputs": [],
   "source": [
    "movie_ratings['Release Date'] = pd.to_datetime(movie_ratings['Release Date'])"
   ]
  },
  {
   "cell_type": "code",
   "execution_count": null,
   "metadata": {},
   "outputs": [
    {
     "data": {
      "text/plain": [
       "dtype('<M8[ns]')"
      ]
     },
     "metadata": {},
     "output_type": "display_data"
    }
   ],
   "source": [
    "# Let's check the datatype of release data column again\n",
    "movie_ratings['Release Date'].dtypes"
   ]
  },
  {
   "cell_type": "markdown",
   "metadata": {},
   "source": [
    "`dtype('<M8[ns]')` means a 64-bit datetime object with nanosecond precision stored in little-endian format. This data type is commonly used to represent timestamps in high-resolution time series data.\n",
    "\n",
    "Next, we can use the built-in datetime functions to extract the year from this variable and create the 'release year' column."
   ]
  },
  {
   "cell_type": "code",
   "execution_count": null,
   "metadata": {},
   "outputs": [
    {
     "data": {
      "text/html": [
       "<div>\n",
       "<style scoped>\n",
       "    .dataframe tbody tr th:only-of-type {\n",
       "        vertical-align: middle;\n",
       "    }\n",
       "\n",
       "    .dataframe tbody tr th {\n",
       "        vertical-align: top;\n",
       "    }\n",
       "\n",
       "    .dataframe thead th {\n",
       "        text-align: right;\n",
       "    }\n",
       "</style>\n",
       "<table border=\"1\" class=\"dataframe\">\n",
       "  <thead>\n",
       "    <tr style=\"text-align: right;\">\n",
       "      <th></th>\n",
       "      <th>Title</th>\n",
       "      <th>US Gross</th>\n",
       "      <th>Worldwide Gross</th>\n",
       "      <th>Production Budget</th>\n",
       "      <th>Release Date</th>\n",
       "      <th>MPAA Rating</th>\n",
       "      <th>Source</th>\n",
       "      <th>Major Genre</th>\n",
       "      <th>Creative Type</th>\n",
       "      <th>IMDB Rating</th>\n",
       "      <th>IMDB Votes</th>\n",
       "      <th>Release Year</th>\n",
       "      <th>ratio_wgross_by_budget</th>\n",
       "    </tr>\n",
       "  </thead>\n",
       "  <tbody>\n",
       "    <tr>\n",
       "      <th>0</th>\n",
       "      <td>Opal Dreams</td>\n",
       "      <td>14443</td>\n",
       "      <td>14443</td>\n",
       "      <td>9000000</td>\n",
       "      <td>2006-11-22</td>\n",
       "      <td>PG/PG-13</td>\n",
       "      <td>Adapted screenplay</td>\n",
       "      <td>Drama</td>\n",
       "      <td>Fiction</td>\n",
       "      <td>6.5</td>\n",
       "      <td>468</td>\n",
       "      <td>2006</td>\n",
       "      <td>0.001605</td>\n",
       "    </tr>\n",
       "    <tr>\n",
       "      <th>1</th>\n",
       "      <td>Major Dundee</td>\n",
       "      <td>14873</td>\n",
       "      <td>14873</td>\n",
       "      <td>3800000</td>\n",
       "      <td>1965-04-07</td>\n",
       "      <td>PG/PG-13</td>\n",
       "      <td>Adapted screenplay</td>\n",
       "      <td>Western/Musical</td>\n",
       "      <td>Fiction</td>\n",
       "      <td>6.7</td>\n",
       "      <td>2588</td>\n",
       "      <td>1965</td>\n",
       "      <td>0.003914</td>\n",
       "    </tr>\n",
       "    <tr>\n",
       "      <th>2</th>\n",
       "      <td>The Informers</td>\n",
       "      <td>315000</td>\n",
       "      <td>315000</td>\n",
       "      <td>18000000</td>\n",
       "      <td>2009-04-24</td>\n",
       "      <td>R</td>\n",
       "      <td>Adapted screenplay</td>\n",
       "      <td>Horror/Thriller</td>\n",
       "      <td>Fiction</td>\n",
       "      <td>5.2</td>\n",
       "      <td>7595</td>\n",
       "      <td>2009</td>\n",
       "      <td>0.017500</td>\n",
       "    </tr>\n",
       "    <tr>\n",
       "      <th>3</th>\n",
       "      <td>Buffalo Soldiers</td>\n",
       "      <td>353743</td>\n",
       "      <td>353743</td>\n",
       "      <td>15000000</td>\n",
       "      <td>2003-07-25</td>\n",
       "      <td>R</td>\n",
       "      <td>Adapted screenplay</td>\n",
       "      <td>Comedy</td>\n",
       "      <td>Fiction</td>\n",
       "      <td>6.9</td>\n",
       "      <td>13510</td>\n",
       "      <td>2003</td>\n",
       "      <td>0.023583</td>\n",
       "    </tr>\n",
       "    <tr>\n",
       "      <th>4</th>\n",
       "      <td>The Last Sin Eater</td>\n",
       "      <td>388390</td>\n",
       "      <td>388390</td>\n",
       "      <td>2200000</td>\n",
       "      <td>2007-02-09</td>\n",
       "      <td>PG/PG-13</td>\n",
       "      <td>Adapted screenplay</td>\n",
       "      <td>Drama</td>\n",
       "      <td>Fiction</td>\n",
       "      <td>5.7</td>\n",
       "      <td>1012</td>\n",
       "      <td>2007</td>\n",
       "      <td>0.176541</td>\n",
       "    </tr>\n",
       "  </tbody>\n",
       "</table>\n",
       "</div>"
      ],
      "text/plain": [
       "                Title  US Gross  Worldwide Gross  Production Budget  \\\n",
       "0         Opal Dreams     14443            14443            9000000   \n",
       "1        Major Dundee     14873            14873            3800000   \n",
       "2       The Informers    315000           315000           18000000   \n",
       "3    Buffalo Soldiers    353743           353743           15000000   \n",
       "4  The Last Sin Eater    388390           388390            2200000   \n",
       "\n",
       "  Release Date MPAA Rating              Source      Major Genre Creative Type  \\\n",
       "0   2006-11-22    PG/PG-13  Adapted screenplay            Drama       Fiction   \n",
       "1   1965-04-07    PG/PG-13  Adapted screenplay  Western/Musical       Fiction   \n",
       "2   2009-04-24           R  Adapted screenplay  Horror/Thriller       Fiction   \n",
       "3   2003-07-25           R  Adapted screenplay           Comedy       Fiction   \n",
       "4   2007-02-09    PG/PG-13  Adapted screenplay            Drama       Fiction   \n",
       "\n",
       "   IMDB Rating  IMDB Votes  Release Year  ratio_wgross_by_budget  \n",
       "0          6.5         468          2006                0.001605  \n",
       "1          6.7        2588          1965                0.003914  \n",
       "2          5.2        7595          2009                0.017500  \n",
       "3          6.9       13510          2003                0.023583  \n",
       "4          5.7        1012          2007                0.176541  "
      ]
     },
     "metadata": {},
     "output_type": "display_data"
    }
   ],
   "source": [
    "# Extracting the year from the release date\n",
    "movie_ratings['Release Year'] = movie_ratings['Release Date'].dt.year\n",
    "movie_ratings.head()"
   ]
  },
  {
   "cell_type": "markdown",
   "metadata": {},
   "source": [
    "In Pandas, the `errors='coerce'` parameter is often used in the context of data conversion, specifically when using the `pd.to_numeric` function. This argument tells Pandas to convert values that it can and set the ones it cannot convert to `NaN`. It's a way of gracefully handling errors without raising an exception. Read the textbook for an example"
   ]
  },
  {
   "cell_type": "markdown",
   "metadata": {},
   "source": [
    "## Numeric Columns \n",
    "\n",
    "### Summary statistics across rows/columns in Pandas\n",
    "\n",
    "The Pandas DataFrame class has functions such as `sum()` and `mean()` to compute sum over rows or columns of a DataFrame.\n",
    "\n",
    "By default, functions like `mean()` and `sum()` compute the statistics for each column (i.e., all rows are aggregated) in the DataFrame.\n",
    "Let us compute the mean of all the numeric columns of the data:"
   ]
  },
  {
   "cell_type": "code",
   "execution_count": null,
   "metadata": {},
   "outputs": [
    {
     "data": {
      "text/html": [
       "<div>\n",
       "<style scoped>\n",
       "    .dataframe tbody tr th:only-of-type {\n",
       "        vertical-align: middle;\n",
       "    }\n",
       "\n",
       "    .dataframe tbody tr th {\n",
       "        vertical-align: top;\n",
       "    }\n",
       "\n",
       "    .dataframe thead th {\n",
       "        text-align: right;\n",
       "    }\n",
       "</style>\n",
       "<table border=\"1\" class=\"dataframe\">\n",
       "  <thead>\n",
       "    <tr style=\"text-align: right;\">\n",
       "      <th></th>\n",
       "      <th>US Gross</th>\n",
       "      <th>Worldwide Gross</th>\n",
       "      <th>Production Budget</th>\n",
       "      <th>IMDB Rating</th>\n",
       "      <th>IMDB Votes</th>\n",
       "    </tr>\n",
       "  </thead>\n",
       "  <tbody>\n",
       "    <tr>\n",
       "      <th>count</th>\n",
       "      <td>2.228000e+03</td>\n",
       "      <td>2.228000e+03</td>\n",
       "      <td>2.228000e+03</td>\n",
       "      <td>2228.000000</td>\n",
       "      <td>2228.000000</td>\n",
       "    </tr>\n",
       "    <tr>\n",
       "      <th>mean</th>\n",
       "      <td>5.076370e+07</td>\n",
       "      <td>1.019370e+08</td>\n",
       "      <td>3.816055e+07</td>\n",
       "      <td>6.239004</td>\n",
       "      <td>33585.154847</td>\n",
       "    </tr>\n",
       "    <tr>\n",
       "      <th>std</th>\n",
       "      <td>6.643081e+07</td>\n",
       "      <td>1.648589e+08</td>\n",
       "      <td>3.782604e+07</td>\n",
       "      <td>1.243285</td>\n",
       "      <td>47325.651561</td>\n",
       "    </tr>\n",
       "    <tr>\n",
       "      <th>min</th>\n",
       "      <td>0.000000e+00</td>\n",
       "      <td>8.840000e+02</td>\n",
       "      <td>2.180000e+02</td>\n",
       "      <td>1.400000</td>\n",
       "      <td>18.000000</td>\n",
       "    </tr>\n",
       "    <tr>\n",
       "      <th>25%</th>\n",
       "      <td>9.646188e+06</td>\n",
       "      <td>1.320737e+07</td>\n",
       "      <td>1.200000e+07</td>\n",
       "      <td>5.500000</td>\n",
       "      <td>6659.250000</td>\n",
       "    </tr>\n",
       "    <tr>\n",
       "      <th>50%</th>\n",
       "      <td>2.838649e+07</td>\n",
       "      <td>4.266892e+07</td>\n",
       "      <td>2.600000e+07</td>\n",
       "      <td>6.400000</td>\n",
       "      <td>18169.000000</td>\n",
       "    </tr>\n",
       "    <tr>\n",
       "      <th>75%</th>\n",
       "      <td>6.453140e+07</td>\n",
       "      <td>1.200000e+08</td>\n",
       "      <td>5.300000e+07</td>\n",
       "      <td>7.100000</td>\n",
       "      <td>40092.750000</td>\n",
       "    </tr>\n",
       "    <tr>\n",
       "      <th>max</th>\n",
       "      <td>7.601676e+08</td>\n",
       "      <td>2.767891e+09</td>\n",
       "      <td>3.000000e+08</td>\n",
       "      <td>9.200000</td>\n",
       "      <td>519541.000000</td>\n",
       "    </tr>\n",
       "  </tbody>\n",
       "</table>\n",
       "</div>"
      ],
      "text/plain": [
       "           US Gross  Worldwide Gross  Production Budget  IMDB Rating  \\\n",
       "count  2.228000e+03     2.228000e+03       2.228000e+03  2228.000000   \n",
       "mean   5.076370e+07     1.019370e+08       3.816055e+07     6.239004   \n",
       "std    6.643081e+07     1.648589e+08       3.782604e+07     1.243285   \n",
       "min    0.000000e+00     8.840000e+02       2.180000e+02     1.400000   \n",
       "25%    9.646188e+06     1.320737e+07       1.200000e+07     5.500000   \n",
       "50%    2.838649e+07     4.266892e+07       2.600000e+07     6.400000   \n",
       "75%    6.453140e+07     1.200000e+08       5.300000e+07     7.100000   \n",
       "max    7.601676e+08     2.767891e+09       3.000000e+08     9.200000   \n",
       "\n",
       "          IMDB Votes  \n",
       "count    2228.000000  \n",
       "mean    33585.154847  \n",
       "std     47325.651561  \n",
       "min        18.000000  \n",
       "25%      6659.250000  \n",
       "50%     18169.000000  \n",
       "75%     40092.750000  \n",
       "max    519541.000000  "
      ]
     },
     "metadata": {},
     "output_type": "display_data"
    }
   ],
   "source": [
    "movie_ratings.describe()"
   ]
  },
  {
   "cell_type": "code",
   "execution_count": null,
   "metadata": {},
   "outputs": [
    {
     "data": {
      "text/plain": [
       "US Gross                  5.076370e+07\n",
       "Worldwide Gross           1.019370e+08\n",
       "Production Budget         3.816055e+07\n",
       "IMDB Rating               6.239004e+00\n",
       "IMDB Votes                3.358515e+04\n",
       "Release Year              2.002005e+03\n",
       "ratio_wgross_by_budget    1.259483e+01\n",
       "dtype: float64"
      ]
     },
     "metadata": {},
     "output_type": "display_data"
    }
   ],
   "source": [
    "# select the numeric columns\n",
    "movie_ratings.mean(numeric_only=True)"
   ]
  },
  {
   "cell_type": "markdown",
   "metadata": {},
   "source": [
    " **Using the `axis` parameter**:\n",
    "\n",
    "The `axis` parameter controls whether to compute the statistic across rows or columns:\n",
    "* The argument `axis=0`(deafult) denotes that the mean is taken over all the rows of the DataFrame. \n",
    "* For computing a statistic across column the argument `axis=1` will be used.\n",
    "\n",
    "If mean over a subset of columns is desired, then those column names can be subset from the data. \n",
    "\n",
    "For example, let us compute the mean IMDB rating, and mean IMDB votes of all the movies:\n"
   ]
  },
  {
   "cell_type": "code",
   "execution_count": null,
   "metadata": {},
   "outputs": [
    {
     "data": {
      "text/plain": [
       "IMDB Rating        6.239004\n",
       "IMDB Votes     33585.154847\n",
       "dtype: float64"
      ]
     },
     "metadata": {},
     "output_type": "display_data"
    }
   ],
   "source": [
    "movie_ratings[['IMDB Rating','IMDB Votes']].mean(axis = 0)"
   ]
  },
  {
   "cell_type": "markdown",
   "metadata": {},
   "source": [
    " **Pandas `sum`  function**"
   ]
  },
  {
   "cell_type": "code",
   "execution_count": null,
   "metadata": {},
   "outputs": [
    {
     "data": {
      "text/html": [
       "<div>\n",
       "<style scoped>\n",
       "    .dataframe tbody tr th:only-of-type {\n",
       "        vertical-align: middle;\n",
       "    }\n",
       "\n",
       "    .dataframe tbody tr th {\n",
       "        vertical-align: top;\n",
       "    }\n",
       "\n",
       "    .dataframe thead th {\n",
       "        text-align: right;\n",
       "    }\n",
       "</style>\n",
       "<table border=\"1\" class=\"dataframe\">\n",
       "  <thead>\n",
       "    <tr style=\"text-align: right;\">\n",
       "      <th></th>\n",
       "      <th>0</th>\n",
       "      <th>1</th>\n",
       "      <th>2</th>\n",
       "    </tr>\n",
       "  </thead>\n",
       "  <tbody>\n",
       "    <tr>\n",
       "      <th>0</th>\n",
       "      <td>10</td>\n",
       "      <td>18</td>\n",
       "      <td>11</td>\n",
       "    </tr>\n",
       "    <tr>\n",
       "      <th>1</th>\n",
       "      <td>13</td>\n",
       "      <td>15</td>\n",
       "      <td>8</td>\n",
       "    </tr>\n",
       "    <tr>\n",
       "      <th>2</th>\n",
       "      <td>9</td>\n",
       "      <td>20</td>\n",
       "      <td>3</td>\n",
       "    </tr>\n",
       "  </tbody>\n",
       "</table>\n",
       "</div>"
      ],
      "text/plain": [
       "    0   1   2\n",
       "0  10  18  11\n",
       "1  13  15   8\n",
       "2   9  20   3"
      ]
     },
     "metadata": {},
     "output_type": "display_data"
    }
   ],
   "source": [
    "data = [[10, 18, 11], [13, 15, 8], [9, 20, 3]]\n",
    "df = pd.DataFrame(data )\n",
    "df"
   ]
  },
  {
   "cell_type": "code",
   "execution_count": null,
   "metadata": {},
   "outputs": [
    {
     "data": {
      "text/plain": [
       "0    32\n",
       "1    53\n",
       "2    22\n",
       "dtype: int64"
      ]
     },
     "metadata": {},
     "output_type": "display_data"
    }
   ],
   "source": [
    "# By default, the sum method adds values accross rows and returns the sum for each column\n",
    "df.sum()"
   ]
  },
  {
   "cell_type": "code",
   "execution_count": null,
   "metadata": {},
   "outputs": [
    {
     "data": {
      "text/plain": [
       "0    39\n",
       "1    36\n",
       "2    32\n",
       "dtype: int64"
      ]
     },
     "metadata": {},
     "output_type": "display_data"
    }
   ],
   "source": [
    "# By specifying the column axis (axis='columns'), the sum() method add values accross columns and returns the sum of each row.\n",
    "df.sum(axis = 'columns')"
   ]
  },
  {
   "cell_type": "code",
   "execution_count": null,
   "metadata": {},
   "outputs": [
    {
     "data": {
      "text/plain": [
       "0    39\n",
       "1    36\n",
       "2    32\n",
       "dtype: int64"
      ]
     },
     "metadata": {},
     "output_type": "display_data"
    }
   ],
   "source": [
    "# in python, axis=1 stands for column, while axis=0 stands for rows\n",
    "df.sum(axis = 1)"
   ]
  }
 ],
 "metadata": {
  "kernelspec": {
   "display_name": "base",
   "language": "python",
   "name": "python3"
  },
  "language_info": {
   "codemirror_mode": {
    "name": "ipython",
    "version": 3
   },
   "file_extension": ".py",
   "mimetype": "text/x-python",
   "name": "python",
   "nbconvert_exporter": "python",
   "pygments_lexer": "ipython3",
   "version": "3.12.4"
  }
 },
 "nbformat": 4,
 "nbformat_minor": 2
}
