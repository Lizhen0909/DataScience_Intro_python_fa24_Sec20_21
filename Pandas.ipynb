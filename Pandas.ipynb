{
 "cells": [
  {
   "cell_type": "raw",
   "id": "fc01ef48",
   "metadata": {},
   "source": [
    "---\n",
    "title: \"Pandas\"\n",
    "format: \n",
    "  html:\n",
    "    code-fold: false\n",
    "    toc-depth: 4\n",
    "jupyter: python3\n",
    "---"
   ]
  },
  {
   "cell_type": "markdown",
   "id": "bdb60d81",
   "metadata": {},
   "source": [
    "## Introduction\n",
    "\n",
    "Pandas is an essential tool in the data scientist or data analyst’s toolkit due to its ability to handle and transform data with ease and efficiency.\n",
    "\n",
    "<img src=\"https://i.imgur.com/zfxLzEv.png\" alt=\"example image\" style=\"width: 750px;\"/>\n",
    "\n",
    "Built on top of the NumPy package, Pandas extends the capabilities of NumPy by offering support for working with tabular or heterogeneous data. While NumPy is optimized for working with homogeneous numerical arrays, Pandas is specifically designed for handling structured, labeled data, commonly represented in two-dimensional tables known as DataFrames.\n",
    "There are some similarities between the two libraries. Like NumPy, Pandas provides basic mathematical functionalities such as addition, subtraction, conditional operations, and broadcasting. However, while NumPy focuses on multi-dimensional arrays, Pandas excels in offering the powerful 2D `DataFrame` object for data manipulation.\n",
    "\n",
    "Data in Pandas is often used to feed statistical analyses in SciPy, visualization functions in Matplotlib, and machine learning algorithms in Scikit-learn."
   ]
  },
  {
   "cell_type": "markdown",
   "id": "695bb9ca",
   "metadata": {},
   "source": [
    "Typically, the Pandas library is used for:\n",
    "\n",
    "- Data reading/writing from different sources (CSV, Excel, SQL, etc.).\n",
    "- Data manipulation, cleaning, and transformation.\n",
    "- Computing data distribution and summary statistics\n",
    "- Grouping, aggregation, and pivoting for advanced data analysis.\n",
    "- Merging, concatenating, and reshaping data.\n",
    "- Handling time series and datetime data.\n",
    "- Data visualization and plotting."
   ]
  },
  {
   "cell_type": "markdown",
   "id": "cdb882ef",
   "metadata": {},
   "source": [
    "Let's import the Pandas library to use its methods and functions."
   ]
  },
  {
   "cell_type": "code",
   "execution_count": 3,
   "id": "3311c8d5",
   "metadata": {},
   "outputs": [],
   "source": [
    "import pandas as pd"
   ]
  },
  {
   "cell_type": "markdown",
   "id": "713ac012",
   "metadata": {},
   "source": [
    "## Pandas data structures - Series and DataFrame"
   ]
  },
  {
   "cell_type": "markdown",
   "id": "11753efd",
   "metadata": {},
   "source": [
    "There are two core components of the Pandas library - Series and DataFrame."
   ]
  },
  {
   "cell_type": "markdown",
   "id": "bbe1ebce",
   "metadata": {},
   "source": [
    "A DataFrame is a two-dimensional object - comprising of tabular data organized in rows and columns, where individual columns can be of different value types (numeric / string / boolean etc.). A DataFrame has row labels (also called row indices) which refer to individual rows, and column labels (also called column names) that refer to individual columns. By default, the row indices are integers starting from zero. However, both the row indices and column names can be customized by the user."
   ]
  },
  {
   "cell_type": "markdown",
   "id": "5530c6f7",
   "metadata": {},
   "source": [
    "Let us read the spotify data - *spotify_data.csv*, using the Pandas function `read_csv()`."
   ]
  },
  {
   "cell_type": "code",
   "execution_count": 4,
   "id": "85fd4b86",
   "metadata": {},
   "outputs": [
    {
     "data": {
      "text/html": [
       "<div>\n",
       "<style scoped>\n",
       "    .dataframe tbody tr th:only-of-type {\n",
       "        vertical-align: middle;\n",
       "    }\n",
       "\n",
       "    .dataframe tbody tr th {\n",
       "        vertical-align: top;\n",
       "    }\n",
       "\n",
       "    .dataframe thead th {\n",
       "        text-align: right;\n",
       "    }\n",
       "</style>\n",
       "<table border=\"1\" class=\"dataframe\">\n",
       "  <thead>\n",
       "    <tr style=\"text-align: right;\">\n",
       "      <th></th>\n",
       "      <th>artist_followers</th>\n",
       "      <th>genres</th>\n",
       "      <th>artist_name</th>\n",
       "      <th>artist_popularity</th>\n",
       "      <th>track_name</th>\n",
       "      <th>track_popularity</th>\n",
       "      <th>duration_ms</th>\n",
       "      <th>explicit</th>\n",
       "      <th>release_year</th>\n",
       "      <th>danceability</th>\n",
       "      <th>...</th>\n",
       "      <th>key</th>\n",
       "      <th>loudness</th>\n",
       "      <th>mode</th>\n",
       "      <th>speechiness</th>\n",
       "      <th>acousticness</th>\n",
       "      <th>instrumentalness</th>\n",
       "      <th>liveness</th>\n",
       "      <th>valence</th>\n",
       "      <th>tempo</th>\n",
       "      <th>time_signature</th>\n",
       "    </tr>\n",
       "  </thead>\n",
       "  <tbody>\n",
       "    <tr>\n",
       "      <th>0</th>\n",
       "      <td>16996777</td>\n",
       "      <td>rap</td>\n",
       "      <td>Juice WRLD</td>\n",
       "      <td>96</td>\n",
       "      <td>All Girls Are The Same</td>\n",
       "      <td>0</td>\n",
       "      <td>165820</td>\n",
       "      <td>1</td>\n",
       "      <td>2021</td>\n",
       "      <td>0.673</td>\n",
       "      <td>...</td>\n",
       "      <td>0</td>\n",
       "      <td>-7.226</td>\n",
       "      <td>1</td>\n",
       "      <td>0.3060</td>\n",
       "      <td>0.0769</td>\n",
       "      <td>0.000338</td>\n",
       "      <td>0.0856</td>\n",
       "      <td>0.203</td>\n",
       "      <td>161.991</td>\n",
       "      <td>4</td>\n",
       "    </tr>\n",
       "    <tr>\n",
       "      <th>1</th>\n",
       "      <td>16996777</td>\n",
       "      <td>rap</td>\n",
       "      <td>Juice WRLD</td>\n",
       "      <td>96</td>\n",
       "      <td>Lucid Dreams</td>\n",
       "      <td>0</td>\n",
       "      <td>239836</td>\n",
       "      <td>1</td>\n",
       "      <td>2021</td>\n",
       "      <td>0.511</td>\n",
       "      <td>...</td>\n",
       "      <td>6</td>\n",
       "      <td>-7.230</td>\n",
       "      <td>0</td>\n",
       "      <td>0.2000</td>\n",
       "      <td>0.3490</td>\n",
       "      <td>0.000000</td>\n",
       "      <td>0.3400</td>\n",
       "      <td>0.218</td>\n",
       "      <td>83.903</td>\n",
       "      <td>4</td>\n",
       "    </tr>\n",
       "    <tr>\n",
       "      <th>2</th>\n",
       "      <td>16996777</td>\n",
       "      <td>rap</td>\n",
       "      <td>Juice WRLD</td>\n",
       "      <td>96</td>\n",
       "      <td>Hear Me Calling</td>\n",
       "      <td>0</td>\n",
       "      <td>189977</td>\n",
       "      <td>1</td>\n",
       "      <td>2021</td>\n",
       "      <td>0.699</td>\n",
       "      <td>...</td>\n",
       "      <td>7</td>\n",
       "      <td>-3.997</td>\n",
       "      <td>0</td>\n",
       "      <td>0.1060</td>\n",
       "      <td>0.3080</td>\n",
       "      <td>0.000036</td>\n",
       "      <td>0.1210</td>\n",
       "      <td>0.499</td>\n",
       "      <td>88.933</td>\n",
       "      <td>4</td>\n",
       "    </tr>\n",
       "    <tr>\n",
       "      <th>3</th>\n",
       "      <td>16996777</td>\n",
       "      <td>rap</td>\n",
       "      <td>Juice WRLD</td>\n",
       "      <td>96</td>\n",
       "      <td>Robbery</td>\n",
       "      <td>0</td>\n",
       "      <td>240527</td>\n",
       "      <td>1</td>\n",
       "      <td>2021</td>\n",
       "      <td>0.708</td>\n",
       "      <td>...</td>\n",
       "      <td>2</td>\n",
       "      <td>-5.181</td>\n",
       "      <td>1</td>\n",
       "      <td>0.0442</td>\n",
       "      <td>0.3480</td>\n",
       "      <td>0.000000</td>\n",
       "      <td>0.2220</td>\n",
       "      <td>0.543</td>\n",
       "      <td>79.993</td>\n",
       "      <td>4</td>\n",
       "    </tr>\n",
       "    <tr>\n",
       "      <th>4</th>\n",
       "      <td>5988689</td>\n",
       "      <td>rap</td>\n",
       "      <td>Roddy Ricch</td>\n",
       "      <td>88</td>\n",
       "      <td>Big Stepper</td>\n",
       "      <td>0</td>\n",
       "      <td>175170</td>\n",
       "      <td>0</td>\n",
       "      <td>2021</td>\n",
       "      <td>0.753</td>\n",
       "      <td>...</td>\n",
       "      <td>8</td>\n",
       "      <td>-8.469</td>\n",
       "      <td>1</td>\n",
       "      <td>0.2920</td>\n",
       "      <td>0.0477</td>\n",
       "      <td>0.000000</td>\n",
       "      <td>0.1970</td>\n",
       "      <td>0.616</td>\n",
       "      <td>76.997</td>\n",
       "      <td>4</td>\n",
       "    </tr>\n",
       "  </tbody>\n",
       "</table>\n",
       "<p>5 rows × 21 columns</p>\n",
       "</div>"
      ],
      "text/plain": [
       "   artist_followers genres  artist_name  artist_popularity  \\\n",
       "0          16996777    rap   Juice WRLD                 96   \n",
       "1          16996777    rap   Juice WRLD                 96   \n",
       "2          16996777    rap   Juice WRLD                 96   \n",
       "3          16996777    rap   Juice WRLD                 96   \n",
       "4           5988689    rap  Roddy Ricch                 88   \n",
       "\n",
       "               track_name  track_popularity  duration_ms  explicit  \\\n",
       "0  All Girls Are The Same                 0       165820         1   \n",
       "1            Lucid Dreams                 0       239836         1   \n",
       "2         Hear Me Calling                 0       189977         1   \n",
       "3                 Robbery                 0       240527         1   \n",
       "4             Big Stepper                 0       175170         0   \n",
       "\n",
       "   release_year  danceability  ...  key  loudness  mode  speechiness  \\\n",
       "0          2021         0.673  ...    0    -7.226     1       0.3060   \n",
       "1          2021         0.511  ...    6    -7.230     0       0.2000   \n",
       "2          2021         0.699  ...    7    -3.997     0       0.1060   \n",
       "3          2021         0.708  ...    2    -5.181     1       0.0442   \n",
       "4          2021         0.753  ...    8    -8.469     1       0.2920   \n",
       "\n",
       "   acousticness  instrumentalness  liveness  valence    tempo  time_signature  \n",
       "0        0.0769          0.000338    0.0856    0.203  161.991               4  \n",
       "1        0.3490          0.000000    0.3400    0.218   83.903               4  \n",
       "2        0.3080          0.000036    0.1210    0.499   88.933               4  \n",
       "3        0.3480          0.000000    0.2220    0.543   79.993               4  \n",
       "4        0.0477          0.000000    0.1970    0.616   76.997               4  \n",
       "\n",
       "[5 rows x 21 columns]"
      ]
     },
     "execution_count": 4,
     "metadata": {},
     "output_type": "execute_result"
    }
   ],
   "source": [
    "spotify_data = pd.read_csv('../Data/spotify_data.csv')\n",
    "spotify_data.head()"
   ]
  },
  {
   "cell_type": "markdown",
   "id": "22495aae",
   "metadata": {},
   "source": [
    "The object `spotify_data` is a pandas DataFrame:"
   ]
  },
  {
   "cell_type": "code",
   "execution_count": 5,
   "id": "bcd871db",
   "metadata": {},
   "outputs": [
    {
     "data": {
      "text/plain": [
       "pandas.core.frame.DataFrame"
      ]
     },
     "execution_count": 5,
     "metadata": {},
     "output_type": "execute_result"
    }
   ],
   "source": [
    "type(spotify_data)"
   ]
  },
  {
   "cell_type": "markdown",
   "id": "2247e88d",
   "metadata": {},
   "source": [
    " A Series is a one-dimensional array-like object in pandas that contains a sequence of values, where each value is associated with an index. All the values in a Series must have the same data type.  Each column of a DataFrame is Series as shown in the example below."
   ]
  },
  {
   "cell_type": "code",
   "execution_count": 6,
   "id": "11971bce",
   "metadata": {},
   "outputs": [
    {
     "data": {
      "text/plain": [
       "0                           All Girls Are The Same\n",
       "1                                     Lucid Dreams\n",
       "2                                  Hear Me Calling\n",
       "3                                          Robbery\n",
       "4                                      Big Stepper\n",
       "                            ...                   \n",
       "243185                                    Stardust\n",
       "243186             Knockin' A Jug - 78 rpm Version\n",
       "243187            When It's Sleepy Time Down South\n",
       "243188    On The Sunny Side Of The Street - Part 2\n",
       "243189                                    My Sweet\n",
       "Name: track_name, Length: 243190, dtype: object"
      ]
     },
     "execution_count": 6,
     "metadata": {},
     "output_type": "execute_result"
    }
   ],
   "source": [
    "#Extracting song titles from the spotify_songs DataFrame\n",
    "spotify_songs = spotify_data['track_name']\n",
    "spotify_songs"
   ]
  },
  {
   "cell_type": "code",
   "execution_count": 7,
   "id": "18b17621",
   "metadata": {},
   "outputs": [
    {
     "data": {
      "text/plain": [
       "pandas.core.series.Series"
      ]
     },
     "execution_count": 7,
     "metadata": {},
     "output_type": "execute_result"
    }
   ],
   "source": [
    "#The object spotify_songs is a Series\n",
    "type(spotify_songs)"
   ]
  },
  {
   "cell_type": "markdown",
   "id": "6e2b173e",
   "metadata": {},
   "source": [
    "A Series is essentially a column, and a DataFrame is a two-dimensional table made up of a collection of Series"
   ]
  },
  {
   "cell_type": "markdown",
   "id": "01096578",
   "metadata": {},
   "source": [
    "\n",
    "\n",
    "<img src=\"https://encrypted-tbn0.gstatic.com/images?q=tbn:ANd9GcQFmjpTWPpi4cZBAuL7W5H1LvGetG_MwnmvGQ&s\" alt=\"example image\" style=\"width: 300px;\"/>"
   ]
  },
  {
   "cell_type": "markdown",
   "id": "affc8b5a",
   "metadata": {},
   "source": [
    "## Creating a Pandas Series / DataFrame\n",
    "\n",
    "* From a Python List or Dictionary\n",
    "* By Reading Data from a file"
   ]
  },
  {
   "cell_type": "markdown",
   "id": "f7d43235",
   "metadata": {},
   "source": [
    "### Creating a Series/DataFrame from Python List or Dictionary\n",
    "\n",
    "#### Creating a series:"
   ]
  },
  {
   "cell_type": "markdown",
   "id": "b2a371e4",
   "metadata": {},
   "source": [
    "* **From a Python List**: You can create a pandas Series by passing a list of values."
   ]
  },
  {
   "cell_type": "code",
   "execution_count": 8,
   "id": "ed4d01be",
   "metadata": {},
   "outputs": [
    {
     "data": {
      "text/plain": [
       "0      these\n",
       "1        are\n",
       "2    english\n",
       "3      words\n",
       "dtype: object"
      ]
     },
     "execution_count": 8,
     "metadata": {},
     "output_type": "execute_result"
    }
   ],
   "source": [
    "#Defining a Pandas Series\n",
    "series_example = pd.Series(['these','are','english','words'])\n",
    "series_example"
   ]
  },
  {
   "cell_type": "markdown",
   "id": "79b360cf",
   "metadata": {},
   "source": [
    "Note that the default row indices are integers starting from 0. However, the index can be specified with the `index` argument if desired by the user:"
   ]
  },
  {
   "cell_type": "code",
   "execution_count": 9,
   "id": "da2eee62",
   "metadata": {},
   "outputs": [
    {
     "data": {
      "text/plain": [
       "101      these\n",
       "102        are\n",
       "103    english\n",
       "104      words\n",
       "dtype: object"
      ]
     },
     "execution_count": 9,
     "metadata": {},
     "output_type": "execute_result"
    }
   ],
   "source": [
    "#Defining a Pandas Series with custom row labels\n",
    "series_example = pd.Series(['these','are','english','words'], index = range(101,105))\n",
    "series_example"
   ]
  },
  {
   "cell_type": "markdown",
   "id": "fbeb2a15",
   "metadata": {},
   "source": [
    "* **From a Dictionary**: A dictionary can also be used to create a Series, where keys become index labels."
   ]
  },
  {
   "cell_type": "code",
   "execution_count": 10,
   "id": "43196db5",
   "metadata": {},
   "outputs": [],
   "source": [
    "#Dictionary consisting of the GDP per capita of the US from 1960 to 2021 with some missing values\n",
    "GDP_per_capita_dict = {'1960':3007,'1961':3067,'1962':3244,'1963':3375,'1964':3574,'1965':3828,'1966':4146,'1967':4336,'1968':4696,'1970':5234,'1971':5609,'1972':6094,'1973':6726,'1974':7226,'1975':7801,'1976':8592,'1978':10565,'1979':11674, '1980':12575,'1981':13976,'1982':14434,'1983':15544,'1984':17121,'1985':18237,  '1986':19071,'1987':20039,'1988':21417,'1989':22857,'1990':23889,'1991':24342,  '1992':25419,'1993':26387,'1994':27695,'1995':28691,'1996':29968,'1997':31459,  '1998':32854,'2000':36330,'2001':37134,'2002':37998,'2003':39490,'2004':41725,  '2005':44123,'2006':46302,'2007':48050,'2008':48570,'2009':47195,'2010':48651,  '2011':50066,'2012':51784,'2013':53291,'2015':56763,'2016':57867,'2017':59915,'2018':62805, '2019':65095,'2020':63028,'2021':69288}"
   ]
  },
  {
   "cell_type": "code",
   "execution_count": 11,
   "id": "102ca1b6",
   "metadata": {},
   "outputs": [
    {
     "data": {
      "text/plain": [
       "1960    3007\n",
       "1961    3067\n",
       "1962    3244\n",
       "1963    3375\n",
       "1964    3574\n",
       "dtype: int64"
      ]
     },
     "execution_count": 11,
     "metadata": {},
     "output_type": "execute_result"
    }
   ],
   "source": [
    "#Example 2: Creating a Pandas Series from a Dictionary\n",
    "GDP_per_capita_series = pd.Series(GDP_per_capita_dict)\n",
    "GDP_per_capita_series.head()"
   ]
  },
  {
   "cell_type": "markdown",
   "id": "5b9a628d",
   "metadata": {},
   "source": [
    "#### Creating a DataFrame\n",
    "\n",
    "* **From a list of Python Dictionary**: You can create a DataFrame where keys are column names and values are lists representing column data."
   ]
  },
  {
   "cell_type": "code",
   "execution_count": 12,
   "id": "ccc6954d",
   "metadata": {},
   "outputs": [],
   "source": [
    "#List of dictionary consisting of 52 playing cards of the deck\n",
    "deck_list_of_dictionaries = [{'value':i, 'suit':c}\n",
    "for c in ['spades', 'clubs', 'hearts', 'diamonds']\n",
    "for i in range(2,15)]"
   ]
  },
  {
   "cell_type": "code",
   "execution_count": 13,
   "id": "e6e0a8ab",
   "metadata": {
    "scrolled": true
   },
   "outputs": [
    {
     "data": {
      "text/html": [
       "<div>\n",
       "<style scoped>\n",
       "    .dataframe tbody tr th:only-of-type {\n",
       "        vertical-align: middle;\n",
       "    }\n",
       "\n",
       "    .dataframe tbody tr th {\n",
       "        vertical-align: top;\n",
       "    }\n",
       "\n",
       "    .dataframe thead th {\n",
       "        text-align: right;\n",
       "    }\n",
       "</style>\n",
       "<table border=\"1\" class=\"dataframe\">\n",
       "  <thead>\n",
       "    <tr style=\"text-align: right;\">\n",
       "      <th></th>\n",
       "      <th>value</th>\n",
       "      <th>suit</th>\n",
       "    </tr>\n",
       "  </thead>\n",
       "  <tbody>\n",
       "    <tr>\n",
       "      <th>0</th>\n",
       "      <td>2</td>\n",
       "      <td>spades</td>\n",
       "    </tr>\n",
       "    <tr>\n",
       "      <th>1</th>\n",
       "      <td>3</td>\n",
       "      <td>spades</td>\n",
       "    </tr>\n",
       "    <tr>\n",
       "      <th>2</th>\n",
       "      <td>4</td>\n",
       "      <td>spades</td>\n",
       "    </tr>\n",
       "    <tr>\n",
       "      <th>3</th>\n",
       "      <td>5</td>\n",
       "      <td>spades</td>\n",
       "    </tr>\n",
       "    <tr>\n",
       "      <th>4</th>\n",
       "      <td>6</td>\n",
       "      <td>spades</td>\n",
       "    </tr>\n",
       "  </tbody>\n",
       "</table>\n",
       "</div>"
      ],
      "text/plain": [
       "   value    suit\n",
       "0      2  spades\n",
       "1      3  spades\n",
       "2      4  spades\n",
       "3      5  spades\n",
       "4      6  spades"
      ]
     },
     "execution_count": 13,
     "metadata": {},
     "output_type": "execute_result"
    }
   ],
   "source": [
    "#Example 3: Creating a Pandas DataFrame from a List of dictionaries\n",
    "deck_df = pd.DataFrame(deck_list_of_dictionaries)\n",
    "deck_df.head()"
   ]
  },
  {
   "cell_type": "markdown",
   "id": "d15ce020",
   "metadata": {},
   "source": [
    "* **From a Python Dictionary**: You can create a DataFrame where keys are column names and values are lists representing column data."
   ]
  },
  {
   "cell_type": "code",
   "execution_count": 14,
   "id": "59279dc1",
   "metadata": {},
   "outputs": [
    {
     "data": {
      "text/html": [
       "<div>\n",
       "<style scoped>\n",
       "    .dataframe tbody tr th:only-of-type {\n",
       "        vertical-align: middle;\n",
       "    }\n",
       "\n",
       "    .dataframe tbody tr th {\n",
       "        vertical-align: top;\n",
       "    }\n",
       "\n",
       "    .dataframe thead th {\n",
       "        text-align: right;\n",
       "    }\n",
       "</style>\n",
       "<table border=\"1\" class=\"dataframe\">\n",
       "  <thead>\n",
       "    <tr style=\"text-align: right;\">\n",
       "      <th></th>\n",
       "      <th>A</th>\n",
       "      <th>B</th>\n",
       "      <th>C</th>\n",
       "    </tr>\n",
       "  </thead>\n",
       "  <tbody>\n",
       "    <tr>\n",
       "      <th>0</th>\n",
       "      <td>1</td>\n",
       "      <td>20</td>\n",
       "      <td>100</td>\n",
       "    </tr>\n",
       "    <tr>\n",
       "      <th>1</th>\n",
       "      <td>2</td>\n",
       "      <td>10</td>\n",
       "      <td>200</td>\n",
       "    </tr>\n",
       "    <tr>\n",
       "      <th>2</th>\n",
       "      <td>3</td>\n",
       "      <td>50</td>\n",
       "      <td>300</td>\n",
       "    </tr>\n",
       "    <tr>\n",
       "      <th>3</th>\n",
       "      <td>4</td>\n",
       "      <td>40</td>\n",
       "      <td>400</td>\n",
       "    </tr>\n",
       "    <tr>\n",
       "      <th>4</th>\n",
       "      <td>5</td>\n",
       "      <td>30</td>\n",
       "      <td>500</td>\n",
       "    </tr>\n",
       "  </tbody>\n",
       "</table>\n",
       "</div>"
      ],
      "text/plain": [
       "   A   B    C\n",
       "0  1  20  100\n",
       "1  2  10  200\n",
       "2  3  50  300\n",
       "3  4  40  400\n",
       "4  5  30  500"
      ]
     },
     "execution_count": 14,
     "metadata": {},
     "output_type": "execute_result"
    }
   ],
   "source": [
    "#Example 4: Creating a Pandas DataFrame from a Dictionary\n",
    "dict_data = {'A': [1, 2, 3, 4, 5],\n",
    "        'B': [20, 10, 50, 40, 30],\n",
    "        'C': [100, 200, 300, 400, 500]}\n",
    "\n",
    "dict_df = pd.DataFrame(dict_data)\n",
    "dict_df\n"
   ]
  },
  {
   "cell_type": "markdown",
   "id": "1281f7e5",
   "metadata": {},
   "source": [
    "## Creating a Series/DataFrame by Reading Data from a File\n",
    "\n",
    "In the real world, a Pandas DataFrame will typically be created by loading the datasets from existing storage such as SQL Database, CSV file, Excel file, text files, HTML files, etc., as we learned in the perious chapter of the book on Reading data.\n",
    "\n",
    "* **Using `read_csv()`**: This is one of the most common methods to read data from a CSV file into a pandas DataFrame.\n",
    "* **Using `read_excel()`**: You can also read data from Excel files.\n",
    "* **Using `read_json()`**: You can also read data from json files."
   ]
  },
  {
   "cell_type": "markdown",
   "id": "58602e46",
   "metadata": {},
   "source": [
    "## Attributes and Methods of a Pandas DataFrame"
   ]
  },
  {
   "cell_type": "markdown",
   "id": "34d8b656",
   "metadata": {},
   "source": [
    "All attributes and methods of a Pandas DataFrame object can be viewed with the python's built-in [dir()](https://docs.python.org/3/library/functions.html#dir) function."
   ]
  },
  {
   "cell_type": "code",
   "execution_count": 15,
   "id": "47410eca",
   "metadata": {},
   "outputs": [],
   "source": [
    "#List of attributes and methods of a Pandas DataFrame\n",
    "#This code is not executed as the list is too long\n",
    "# dir(spotify_data)"
   ]
  },
  {
   "cell_type": "markdown",
   "id": "973c3502",
   "metadata": {},
   "source": [
    "Although we'll see examples of attributes and methods of a Pandas DataFrame, please note that most of these attributes and methods are also applicable to the Pandas Series object."
   ]
  },
  {
   "cell_type": "markdown",
   "id": "6a1aa2a8",
   "metadata": {},
   "source": [
    "### Attributes of a Pandas DataFrame"
   ]
  },
  {
   "cell_type": "markdown",
   "id": "df9c82e3",
   "metadata": {},
   "source": [
    "Some of the attributes of the Pandas DataFrame class are the following."
   ]
  },
  {
   "cell_type": "markdown",
   "id": "31a0d199",
   "metadata": {},
   "source": [
    "#### [`dtypes`](https://pandas.pydata.org/docs/reference/api/pandas.DataFrame.dtypes.html) \n",
    "This attribute is a Series consisting the datatypes of columns of a Pandas DataFrame."
   ]
  },
  {
   "cell_type": "code",
   "execution_count": 16,
   "id": "febb554f",
   "metadata": {},
   "outputs": [
    {
     "data": {
      "text/plain": [
       "artist_followers       int64\n",
       "genres                object\n",
       "artist_name           object\n",
       "artist_popularity      int64\n",
       "track_name            object\n",
       "track_popularity       int64\n",
       "duration_ms            int64\n",
       "explicit               int64\n",
       "release_year           int64\n",
       "danceability         float64\n",
       "energy               float64\n",
       "key                    int64\n",
       "loudness             float64\n",
       "mode                   int64\n",
       "speechiness          float64\n",
       "acousticness         float64\n",
       "instrumentalness     float64\n",
       "liveness             float64\n",
       "valence              float64\n",
       "tempo                float64\n",
       "time_signature         int64\n",
       "dtype: object"
      ]
     },
     "execution_count": 16,
     "metadata": {},
     "output_type": "execute_result"
    }
   ],
   "source": [
    "spotify_data.dtypes"
   ]
  },
  {
   "cell_type": "code",
   "execution_count": 17,
   "id": "5f4829c6",
   "metadata": {},
   "outputs": [],
   "source": [
    "#| label: tbl-dtype\n",
    "#| tbl-cap: \"Datatypes of columns of a Pandas DataFrame\""
   ]
  },
  {
   "cell_type": "markdown",
   "id": "50ed7eda",
   "metadata": {},
   "source": [
    "The table below describes the datatypes of columns in a Pandas DataFrame."
   ]
  },
  {
   "cell_type": "markdown",
   "id": "cb9022a3",
   "metadata": {},
   "source": [
    "| Pandas Type | Native Python Type | Description |\n",
    "| --- | --- | --- |\n",
    "| object | string | The most general dtype. This datatype is assigned to a column if the column has mixed types (numbers and strings) |\n",
    "| int64 | int | This datatype is for integers from -9,223,372,036,854,775,808 to 9,223,372,036,854,775,807 or for integers having a maximum size of 64 bits|\n",
    "| float64 | float | This datatype is for real numbers. If a column contains integers and NaNs, Pandas will default to float64. This is because the missing values may be a real number |\n",
    "| datetime64, timedelta[ns] | N/A (but see the [datetime](https://docs.python.org/2/library/datetime.html) module in Python’s standard library) | Values meant to hold time data. This datatype is useful for time series analysis |"
   ]
  },
  {
   "cell_type": "markdown",
   "id": "7aa3a151",
   "metadata": {},
   "source": [
    "#### [`columns`](https://pandas.pydata.org/docs/reference/api/pandas.DataFrame.columns.html) \n",
    "This attribute consists of the column labels (or column names) of a Pandas DataFrame."
   ]
  },
  {
   "cell_type": "code",
   "execution_count": 18,
   "id": "9efb8a3c",
   "metadata": {},
   "outputs": [
    {
     "data": {
      "text/plain": [
       "Index(['artist_followers', 'genres', 'artist_name', 'artist_popularity',\n",
       "       'track_name', 'track_popularity', 'duration_ms', 'explicit',\n",
       "       'release_year', 'danceability', 'energy', 'key', 'loudness', 'mode',\n",
       "       'speechiness', 'acousticness', 'instrumentalness', 'liveness',\n",
       "       'valence', 'tempo', 'time_signature'],\n",
       "      dtype='object')"
      ]
     },
     "execution_count": 18,
     "metadata": {},
     "output_type": "execute_result"
    }
   ],
   "source": [
    "spotify_data.columns"
   ]
  },
  {
   "cell_type": "markdown",
   "id": "72cc6448",
   "metadata": {},
   "source": [
    "#### [`index`](https://pandas.pydata.org/docs/reference/api/pandas.Index.html) \n",
    "This attribute consists of the row lables (or row indices) of a Pandas DataFrame."
   ]
  },
  {
   "cell_type": "code",
   "execution_count": 19,
   "id": "9f273f47",
   "metadata": {},
   "outputs": [
    {
     "data": {
      "text/plain": [
       "RangeIndex(start=0, stop=243190, step=1)"
      ]
     },
     "execution_count": 19,
     "metadata": {},
     "output_type": "execute_result"
    }
   ],
   "source": [
    "spotify_data.index"
   ]
  },
  {
   "cell_type": "markdown",
   "id": "e7e474d5",
   "metadata": {},
   "source": [
    "#### [`axes`](https://pandas.pydata.org/docs/reference/api/pandas.DataFrame.axes.html)\n",
    "This is a list of length two, where the first element is the row labels, and the second element is the columns labels. In other words, this attribute combines the information in the attributes - `index` and `columns`."
   ]
  },
  {
   "cell_type": "code",
   "execution_count": 20,
   "id": "fd0cf2d9",
   "metadata": {},
   "outputs": [
    {
     "data": {
      "text/plain": [
       "[RangeIndex(start=0, stop=243190, step=1),\n",
       " Index(['artist_followers', 'genres', 'artist_name', 'artist_popularity',\n",
       "        'track_name', 'track_popularity', 'duration_ms', 'explicit',\n",
       "        'release_year', 'danceability', 'energy', 'key', 'loudness', 'mode',\n",
       "        'speechiness', 'acousticness', 'instrumentalness', 'liveness',\n",
       "        'valence', 'tempo', 'time_signature'],\n",
       "       dtype='object')]"
      ]
     },
     "execution_count": 20,
     "metadata": {},
     "output_type": "execute_result"
    }
   ],
   "source": [
    "spotify_data.axes"
   ]
  },
  {
   "cell_type": "markdown",
   "id": "a868d288",
   "metadata": {},
   "source": [
    "#### [`ndim`](https://pandas.pydata.org/docs/reference/api/pandas.DataFrame.ndim.html) \n",
    "As in NumPy, this attribute specifies the number of dimensions. However, unlike NumPy, a Pandas DataFrame has a fixed dimenstion of 2, and a Pandas Series has a fixed dimesion of 1."
   ]
  },
  {
   "cell_type": "code",
   "execution_count": 21,
   "id": "49ebc684",
   "metadata": {},
   "outputs": [
    {
     "data": {
      "text/plain": [
       "2"
      ]
     },
     "execution_count": 21,
     "metadata": {},
     "output_type": "execute_result"
    }
   ],
   "source": [
    "spotify_data.ndim"
   ]
  },
  {
   "cell_type": "markdown",
   "id": "7f84c7d4",
   "metadata": {},
   "source": [
    "#### [`size`](https://pandas.pydata.org/docs/reference/api/pandas.DataFrame.size.html) \n",
    "This attribute specifies the number of elements in a DataFrame. Its value is the product of the number of rows and columns."
   ]
  },
  {
   "cell_type": "code",
   "execution_count": 22,
   "id": "a83710f5",
   "metadata": {},
   "outputs": [
    {
     "data": {
      "text/plain": [
       "5106990"
      ]
     },
     "execution_count": 22,
     "metadata": {},
     "output_type": "execute_result"
    }
   ],
   "source": [
    "spotify_data.size"
   ]
  },
  {
   "cell_type": "markdown",
   "id": "8a453ac7",
   "metadata": {},
   "source": [
    "#### [`shape`](https://pandas.pydata.org/docs/reference/api/pandas.DataFrame.shape.html)\n",
    "This is a tuple consisting of the number of rows and columns in a Pandas DataFrame."
   ]
  },
  {
   "cell_type": "code",
   "execution_count": 23,
   "id": "37453cbc",
   "metadata": {},
   "outputs": [
    {
     "data": {
      "text/plain": [
       "(243190, 21)"
      ]
     },
     "execution_count": 23,
     "metadata": {},
     "output_type": "execute_result"
    }
   ],
   "source": [
    "spotify_data.shape"
   ]
  },
  {
   "cell_type": "markdown",
   "id": "8468aacd",
   "metadata": {},
   "source": [
    "#### [`values`](https://pandas.pydata.org/docs/reference/api/pandas.DataFrame.values.html)\n",
    "This provides a NumPy representation of a Pandas DataFrame."
   ]
  },
  {
   "cell_type": "code",
   "execution_count": 24,
   "id": "7647ec9b",
   "metadata": {},
   "outputs": [
    {
     "data": {
      "text/plain": [
       "array([[16996777, 'rap', 'Juice WRLD', ..., 0.203, 161.991, 4],\n",
       "       [16996777, 'rap', 'Juice WRLD', ..., 0.218, 83.903, 4],\n",
       "       [16996777, 'rap', 'Juice WRLD', ..., 0.499, 88.933, 4],\n",
       "       ...,\n",
       "       [2256652, 'jazz', 'Louis Armstrong', ..., 0.37, 105.093, 4],\n",
       "       [2256652, 'jazz', 'Louis Armstrong', ..., 0.576, 101.279, 4],\n",
       "       [2256652, 'jazz', 'Louis Armstrong', ..., 0.816, 105.84, 4]],\n",
       "      dtype=object)"
      ]
     },
     "execution_count": 24,
     "metadata": {},
     "output_type": "execute_result"
    }
   ],
   "source": [
    "spotify_data.values"
   ]
  },
  {
   "cell_type": "markdown",
   "id": "10dcca62",
   "metadata": {},
   "source": [
    "### Methods of a Pandas DataFrame"
   ]
  },
  {
   "cell_type": "markdown",
   "id": "c110b199",
   "metadata": {},
   "source": [
    "Some of the commonly used methods of the Pandas DataFrame class are the following."
   ]
  },
  {
   "cell_type": "markdown",
   "id": "2e4e1e8b",
   "metadata": {},
   "source": [
    "#### [`head()`](https://pandas.pydata.org/docs/reference/api/pandas.DataFrame.head.html)\n",
    "Prints the first *n* rows of a DataFrame."
   ]
  },
  {
   "cell_type": "code",
   "execution_count": 25,
   "id": "265d4198",
   "metadata": {},
   "outputs": [
    {
     "data": {
      "text/html": [
       "<div>\n",
       "<style scoped>\n",
       "    .dataframe tbody tr th:only-of-type {\n",
       "        vertical-align: middle;\n",
       "    }\n",
       "\n",
       "    .dataframe tbody tr th {\n",
       "        vertical-align: top;\n",
       "    }\n",
       "\n",
       "    .dataframe thead th {\n",
       "        text-align: right;\n",
       "    }\n",
       "</style>\n",
       "<table border=\"1\" class=\"dataframe\">\n",
       "  <thead>\n",
       "    <tr style=\"text-align: right;\">\n",
       "      <th></th>\n",
       "      <th>artist_followers</th>\n",
       "      <th>genres</th>\n",
       "      <th>artist_name</th>\n",
       "      <th>artist_popularity</th>\n",
       "      <th>track_name</th>\n",
       "      <th>track_popularity</th>\n",
       "      <th>duration_ms</th>\n",
       "      <th>explicit</th>\n",
       "      <th>release_year</th>\n",
       "      <th>danceability</th>\n",
       "      <th>...</th>\n",
       "      <th>key</th>\n",
       "      <th>loudness</th>\n",
       "      <th>mode</th>\n",
       "      <th>speechiness</th>\n",
       "      <th>acousticness</th>\n",
       "      <th>instrumentalness</th>\n",
       "      <th>liveness</th>\n",
       "      <th>valence</th>\n",
       "      <th>tempo</th>\n",
       "      <th>time_signature</th>\n",
       "    </tr>\n",
       "  </thead>\n",
       "  <tbody>\n",
       "    <tr>\n",
       "      <th>0</th>\n",
       "      <td>16996777</td>\n",
       "      <td>rap</td>\n",
       "      <td>Juice WRLD</td>\n",
       "      <td>96</td>\n",
       "      <td>All Girls Are The Same</td>\n",
       "      <td>0</td>\n",
       "      <td>165820</td>\n",
       "      <td>1</td>\n",
       "      <td>2021</td>\n",
       "      <td>0.673</td>\n",
       "      <td>...</td>\n",
       "      <td>0</td>\n",
       "      <td>-7.226</td>\n",
       "      <td>1</td>\n",
       "      <td>0.306</td>\n",
       "      <td>0.0769</td>\n",
       "      <td>0.000338</td>\n",
       "      <td>0.0856</td>\n",
       "      <td>0.203</td>\n",
       "      <td>161.991</td>\n",
       "      <td>4</td>\n",
       "    </tr>\n",
       "    <tr>\n",
       "      <th>1</th>\n",
       "      <td>16996777</td>\n",
       "      <td>rap</td>\n",
       "      <td>Juice WRLD</td>\n",
       "      <td>96</td>\n",
       "      <td>Lucid Dreams</td>\n",
       "      <td>0</td>\n",
       "      <td>239836</td>\n",
       "      <td>1</td>\n",
       "      <td>2021</td>\n",
       "      <td>0.511</td>\n",
       "      <td>...</td>\n",
       "      <td>6</td>\n",
       "      <td>-7.230</td>\n",
       "      <td>0</td>\n",
       "      <td>0.200</td>\n",
       "      <td>0.3490</td>\n",
       "      <td>0.000000</td>\n",
       "      <td>0.3400</td>\n",
       "      <td>0.218</td>\n",
       "      <td>83.903</td>\n",
       "      <td>4</td>\n",
       "    </tr>\n",
       "  </tbody>\n",
       "</table>\n",
       "<p>2 rows × 21 columns</p>\n",
       "</div>"
      ],
      "text/plain": [
       "   artist_followers genres artist_name  artist_popularity  \\\n",
       "0          16996777    rap  Juice WRLD                 96   \n",
       "1          16996777    rap  Juice WRLD                 96   \n",
       "\n",
       "               track_name  track_popularity  duration_ms  explicit  \\\n",
       "0  All Girls Are The Same                 0       165820         1   \n",
       "1            Lucid Dreams                 0       239836         1   \n",
       "\n",
       "   release_year  danceability  ...  key  loudness  mode  speechiness  \\\n",
       "0          2021         0.673  ...    0    -7.226     1        0.306   \n",
       "1          2021         0.511  ...    6    -7.230     0        0.200   \n",
       "\n",
       "   acousticness  instrumentalness  liveness  valence    tempo  time_signature  \n",
       "0        0.0769          0.000338    0.0856    0.203  161.991               4  \n",
       "1        0.3490          0.000000    0.3400    0.218   83.903               4  \n",
       "\n",
       "[2 rows x 21 columns]"
      ]
     },
     "execution_count": 25,
     "metadata": {},
     "output_type": "execute_result"
    }
   ],
   "source": [
    "spotify_data.head(2)"
   ]
  },
  {
   "cell_type": "markdown",
   "id": "5e051b39",
   "metadata": {},
   "source": [
    "#### [`tail()`](https://pandas.pydata.org/docs/reference/api/pandas.DataFrame.tail.html)\n",
    "Prints the last *n* rows of a DataFrame."
   ]
  },
  {
   "cell_type": "code",
   "execution_count": 26,
   "id": "0e1bf4f9",
   "metadata": {},
   "outputs": [
    {
     "data": {
      "text/html": [
       "<div>\n",
       "<style scoped>\n",
       "    .dataframe tbody tr th:only-of-type {\n",
       "        vertical-align: middle;\n",
       "    }\n",
       "\n",
       "    .dataframe tbody tr th {\n",
       "        vertical-align: top;\n",
       "    }\n",
       "\n",
       "    .dataframe thead th {\n",
       "        text-align: right;\n",
       "    }\n",
       "</style>\n",
       "<table border=\"1\" class=\"dataframe\">\n",
       "  <thead>\n",
       "    <tr style=\"text-align: right;\">\n",
       "      <th></th>\n",
       "      <th>artist_followers</th>\n",
       "      <th>genres</th>\n",
       "      <th>artist_name</th>\n",
       "      <th>artist_popularity</th>\n",
       "      <th>track_name</th>\n",
       "      <th>track_popularity</th>\n",
       "      <th>duration_ms</th>\n",
       "      <th>explicit</th>\n",
       "      <th>release_year</th>\n",
       "      <th>danceability</th>\n",
       "      <th>...</th>\n",
       "      <th>key</th>\n",
       "      <th>loudness</th>\n",
       "      <th>mode</th>\n",
       "      <th>speechiness</th>\n",
       "      <th>acousticness</th>\n",
       "      <th>instrumentalness</th>\n",
       "      <th>liveness</th>\n",
       "      <th>valence</th>\n",
       "      <th>tempo</th>\n",
       "      <th>time_signature</th>\n",
       "    </tr>\n",
       "  </thead>\n",
       "  <tbody>\n",
       "    <tr>\n",
       "      <th>243187</th>\n",
       "      <td>2256652</td>\n",
       "      <td>jazz</td>\n",
       "      <td>Louis Armstrong</td>\n",
       "      <td>74</td>\n",
       "      <td>When It's Sleepy Time Down South</td>\n",
       "      <td>4</td>\n",
       "      <td>200200</td>\n",
       "      <td>0</td>\n",
       "      <td>1923</td>\n",
       "      <td>0.527</td>\n",
       "      <td>...</td>\n",
       "      <td>3</td>\n",
       "      <td>-14.814</td>\n",
       "      <td>1</td>\n",
       "      <td>0.0793</td>\n",
       "      <td>0.989</td>\n",
       "      <td>0.00001</td>\n",
       "      <td>0.1040</td>\n",
       "      <td>0.370</td>\n",
       "      <td>105.093</td>\n",
       "      <td>4</td>\n",
       "    </tr>\n",
       "    <tr>\n",
       "      <th>243188</th>\n",
       "      <td>2256652</td>\n",
       "      <td>jazz</td>\n",
       "      <td>Louis Armstrong</td>\n",
       "      <td>74</td>\n",
       "      <td>On The Sunny Side Of The Street - Part 2</td>\n",
       "      <td>4</td>\n",
       "      <td>185973</td>\n",
       "      <td>0</td>\n",
       "      <td>1923</td>\n",
       "      <td>0.559</td>\n",
       "      <td>...</td>\n",
       "      <td>0</td>\n",
       "      <td>-9.804</td>\n",
       "      <td>1</td>\n",
       "      <td>0.0512</td>\n",
       "      <td>0.989</td>\n",
       "      <td>0.84700</td>\n",
       "      <td>0.4480</td>\n",
       "      <td>0.576</td>\n",
       "      <td>101.279</td>\n",
       "      <td>4</td>\n",
       "    </tr>\n",
       "    <tr>\n",
       "      <th>243189</th>\n",
       "      <td>2256652</td>\n",
       "      <td>jazz</td>\n",
       "      <td>Louis Armstrong</td>\n",
       "      <td>74</td>\n",
       "      <td>My Sweet</td>\n",
       "      <td>4</td>\n",
       "      <td>195960</td>\n",
       "      <td>0</td>\n",
       "      <td>1923</td>\n",
       "      <td>0.741</td>\n",
       "      <td>...</td>\n",
       "      <td>3</td>\n",
       "      <td>-10.406</td>\n",
       "      <td>1</td>\n",
       "      <td>0.0505</td>\n",
       "      <td>0.927</td>\n",
       "      <td>0.07880</td>\n",
       "      <td>0.0633</td>\n",
       "      <td>0.816</td>\n",
       "      <td>105.840</td>\n",
       "      <td>4</td>\n",
       "    </tr>\n",
       "  </tbody>\n",
       "</table>\n",
       "<p>3 rows × 21 columns</p>\n",
       "</div>"
      ],
      "text/plain": [
       "        artist_followers genres      artist_name  artist_popularity  \\\n",
       "243187           2256652   jazz  Louis Armstrong                 74   \n",
       "243188           2256652   jazz  Louis Armstrong                 74   \n",
       "243189           2256652   jazz  Louis Armstrong                 74   \n",
       "\n",
       "                                      track_name  track_popularity  \\\n",
       "243187          When It's Sleepy Time Down South                 4   \n",
       "243188  On The Sunny Side Of The Street - Part 2                 4   \n",
       "243189                                  My Sweet                 4   \n",
       "\n",
       "        duration_ms  explicit  release_year  danceability  ...  key  loudness  \\\n",
       "243187       200200         0          1923         0.527  ...    3   -14.814   \n",
       "243188       185973         0          1923         0.559  ...    0    -9.804   \n",
       "243189       195960         0          1923         0.741  ...    3   -10.406   \n",
       "\n",
       "        mode  speechiness  acousticness  instrumentalness  liveness  valence  \\\n",
       "243187     1       0.0793         0.989           0.00001    0.1040    0.370   \n",
       "243188     1       0.0512         0.989           0.84700    0.4480    0.576   \n",
       "243189     1       0.0505         0.927           0.07880    0.0633    0.816   \n",
       "\n",
       "          tempo  time_signature  \n",
       "243187  105.093               4  \n",
       "243188  101.279               4  \n",
       "243189  105.840               4  \n",
       "\n",
       "[3 rows x 21 columns]"
      ]
     },
     "execution_count": 26,
     "metadata": {},
     "output_type": "execute_result"
    }
   ],
   "source": [
    "spotify_data.tail(3)"
   ]
  },
  {
   "cell_type": "markdown",
   "id": "5cff51bc",
   "metadata": {},
   "source": [
    "#### [`describe()`](https://pandas.pydata.org/docs/reference/api/pandas.DataFrame.describe.html)\n",
    "Print summary statistics of a Pandas DataFrame, as seen in chapter 3 on Reading Data."
   ]
  },
  {
   "cell_type": "code",
   "execution_count": 27,
   "id": "e1868353",
   "metadata": {},
   "outputs": [
    {
     "data": {
      "text/html": [
       "<div>\n",
       "<style scoped>\n",
       "    .dataframe tbody tr th:only-of-type {\n",
       "        vertical-align: middle;\n",
       "    }\n",
       "\n",
       "    .dataframe tbody tr th {\n",
       "        vertical-align: top;\n",
       "    }\n",
       "\n",
       "    .dataframe thead th {\n",
       "        text-align: right;\n",
       "    }\n",
       "</style>\n",
       "<table border=\"1\" class=\"dataframe\">\n",
       "  <thead>\n",
       "    <tr style=\"text-align: right;\">\n",
       "      <th></th>\n",
       "      <th>artist_followers</th>\n",
       "      <th>artist_popularity</th>\n",
       "      <th>track_popularity</th>\n",
       "      <th>duration_ms</th>\n",
       "      <th>explicit</th>\n",
       "      <th>release_year</th>\n",
       "      <th>danceability</th>\n",
       "      <th>energy</th>\n",
       "      <th>key</th>\n",
       "      <th>loudness</th>\n",
       "      <th>mode</th>\n",
       "      <th>speechiness</th>\n",
       "      <th>acousticness</th>\n",
       "      <th>instrumentalness</th>\n",
       "      <th>liveness</th>\n",
       "      <th>valence</th>\n",
       "      <th>tempo</th>\n",
       "      <th>time_signature</th>\n",
       "    </tr>\n",
       "  </thead>\n",
       "  <tbody>\n",
       "    <tr>\n",
       "      <th>count</th>\n",
       "      <td>2.431900e+05</td>\n",
       "      <td>243190.000000</td>\n",
       "      <td>243190.000000</td>\n",
       "      <td>2.431900e+05</td>\n",
       "      <td>243190.000000</td>\n",
       "      <td>243190.000000</td>\n",
       "      <td>243190.000000</td>\n",
       "      <td>243190.000000</td>\n",
       "      <td>243190.000000</td>\n",
       "      <td>243190.000000</td>\n",
       "      <td>243190.000000</td>\n",
       "      <td>243190.000000</td>\n",
       "      <td>243190.000000</td>\n",
       "      <td>243190.000000</td>\n",
       "      <td>243190.000000</td>\n",
       "      <td>243190.000000</td>\n",
       "      <td>243190.000000</td>\n",
       "      <td>243190.000000</td>\n",
       "    </tr>\n",
       "    <tr>\n",
       "      <th>mean</th>\n",
       "      <td>1.960931e+06</td>\n",
       "      <td>65.342633</td>\n",
       "      <td>36.080772</td>\n",
       "      <td>2.263209e+05</td>\n",
       "      <td>0.050039</td>\n",
       "      <td>1992.475258</td>\n",
       "      <td>0.568357</td>\n",
       "      <td>0.580633</td>\n",
       "      <td>5.240326</td>\n",
       "      <td>-9.432548</td>\n",
       "      <td>0.670928</td>\n",
       "      <td>0.111984</td>\n",
       "      <td>0.383938</td>\n",
       "      <td>0.071169</td>\n",
       "      <td>0.223756</td>\n",
       "      <td>0.552302</td>\n",
       "      <td>119.335060</td>\n",
       "      <td>3.884177</td>\n",
       "    </tr>\n",
       "    <tr>\n",
       "      <th>std</th>\n",
       "      <td>5.028746e+06</td>\n",
       "      <td>10.289182</td>\n",
       "      <td>16.476836</td>\n",
       "      <td>9.973214e+04</td>\n",
       "      <td>0.218026</td>\n",
       "      <td>18.481463</td>\n",
       "      <td>0.159444</td>\n",
       "      <td>0.236631</td>\n",
       "      <td>3.532546</td>\n",
       "      <td>4.449731</td>\n",
       "      <td>0.469877</td>\n",
       "      <td>0.198068</td>\n",
       "      <td>0.321142</td>\n",
       "      <td>0.209555</td>\n",
       "      <td>0.198076</td>\n",
       "      <td>0.250017</td>\n",
       "      <td>29.864219</td>\n",
       "      <td>0.458082</td>\n",
       "    </tr>\n",
       "    <tr>\n",
       "      <th>min</th>\n",
       "      <td>2.300000e+01</td>\n",
       "      <td>51.000000</td>\n",
       "      <td>0.000000</td>\n",
       "      <td>3.344000e+03</td>\n",
       "      <td>0.000000</td>\n",
       "      <td>1923.000000</td>\n",
       "      <td>0.000000</td>\n",
       "      <td>0.000000</td>\n",
       "      <td>0.000000</td>\n",
       "      <td>-60.000000</td>\n",
       "      <td>0.000000</td>\n",
       "      <td>0.000000</td>\n",
       "      <td>0.000000</td>\n",
       "      <td>0.000000</td>\n",
       "      <td>0.000000</td>\n",
       "      <td>0.000000</td>\n",
       "      <td>0.000000</td>\n",
       "      <td>0.000000</td>\n",
       "    </tr>\n",
       "    <tr>\n",
       "      <th>25%</th>\n",
       "      <td>1.832620e+05</td>\n",
       "      <td>57.000000</td>\n",
       "      <td>25.000000</td>\n",
       "      <td>1.776670e+05</td>\n",
       "      <td>0.000000</td>\n",
       "      <td>1980.000000</td>\n",
       "      <td>0.462000</td>\n",
       "      <td>0.405000</td>\n",
       "      <td>2.000000</td>\n",
       "      <td>-11.990000</td>\n",
       "      <td>0.000000</td>\n",
       "      <td>0.033200</td>\n",
       "      <td>0.070000</td>\n",
       "      <td>0.000000</td>\n",
       "      <td>0.098100</td>\n",
       "      <td>0.353000</td>\n",
       "      <td>96.099250</td>\n",
       "      <td>4.000000</td>\n",
       "    </tr>\n",
       "    <tr>\n",
       "      <th>50%</th>\n",
       "      <td>5.352520e+05</td>\n",
       "      <td>64.000000</td>\n",
       "      <td>36.000000</td>\n",
       "      <td>2.188670e+05</td>\n",
       "      <td>0.000000</td>\n",
       "      <td>1994.000000</td>\n",
       "      <td>0.579000</td>\n",
       "      <td>0.591000</td>\n",
       "      <td>5.000000</td>\n",
       "      <td>-8.645000</td>\n",
       "      <td>1.000000</td>\n",
       "      <td>0.043100</td>\n",
       "      <td>0.325000</td>\n",
       "      <td>0.000011</td>\n",
       "      <td>0.141000</td>\n",
       "      <td>0.560000</td>\n",
       "      <td>118.002000</td>\n",
       "      <td>4.000000</td>\n",
       "    </tr>\n",
       "    <tr>\n",
       "      <th>75%</th>\n",
       "      <td>1.587332e+06</td>\n",
       "      <td>72.000000</td>\n",
       "      <td>48.000000</td>\n",
       "      <td>2.645465e+05</td>\n",
       "      <td>0.000000</td>\n",
       "      <td>2008.000000</td>\n",
       "      <td>0.685000</td>\n",
       "      <td>0.776000</td>\n",
       "      <td>8.000000</td>\n",
       "      <td>-6.131000</td>\n",
       "      <td>1.000000</td>\n",
       "      <td>0.075300</td>\n",
       "      <td>0.671000</td>\n",
       "      <td>0.002220</td>\n",
       "      <td>0.292000</td>\n",
       "      <td>0.760000</td>\n",
       "      <td>137.929000</td>\n",
       "      <td>4.000000</td>\n",
       "    </tr>\n",
       "    <tr>\n",
       "      <th>max</th>\n",
       "      <td>7.890023e+07</td>\n",
       "      <td>100.000000</td>\n",
       "      <td>99.000000</td>\n",
       "      <td>4.995083e+06</td>\n",
       "      <td>1.000000</td>\n",
       "      <td>2021.000000</td>\n",
       "      <td>0.988000</td>\n",
       "      <td>1.000000</td>\n",
       "      <td>11.000000</td>\n",
       "      <td>3.744000</td>\n",
       "      <td>1.000000</td>\n",
       "      <td>0.969000</td>\n",
       "      <td>0.996000</td>\n",
       "      <td>1.000000</td>\n",
       "      <td>1.000000</td>\n",
       "      <td>1.000000</td>\n",
       "      <td>243.507000</td>\n",
       "      <td>5.000000</td>\n",
       "    </tr>\n",
       "  </tbody>\n",
       "</table>\n",
       "</div>"
      ],
      "text/plain": [
       "       artist_followers  artist_popularity  track_popularity   duration_ms  \\\n",
       "count      2.431900e+05      243190.000000     243190.000000  2.431900e+05   \n",
       "mean       1.960931e+06          65.342633         36.080772  2.263209e+05   \n",
       "std        5.028746e+06          10.289182         16.476836  9.973214e+04   \n",
       "min        2.300000e+01          51.000000          0.000000  3.344000e+03   \n",
       "25%        1.832620e+05          57.000000         25.000000  1.776670e+05   \n",
       "50%        5.352520e+05          64.000000         36.000000  2.188670e+05   \n",
       "75%        1.587332e+06          72.000000         48.000000  2.645465e+05   \n",
       "max        7.890023e+07         100.000000         99.000000  4.995083e+06   \n",
       "\n",
       "            explicit   release_year   danceability         energy  \\\n",
       "count  243190.000000  243190.000000  243190.000000  243190.000000   \n",
       "mean        0.050039    1992.475258       0.568357       0.580633   \n",
       "std         0.218026      18.481463       0.159444       0.236631   \n",
       "min         0.000000    1923.000000       0.000000       0.000000   \n",
       "25%         0.000000    1980.000000       0.462000       0.405000   \n",
       "50%         0.000000    1994.000000       0.579000       0.591000   \n",
       "75%         0.000000    2008.000000       0.685000       0.776000   \n",
       "max         1.000000    2021.000000       0.988000       1.000000   \n",
       "\n",
       "                 key       loudness           mode    speechiness  \\\n",
       "count  243190.000000  243190.000000  243190.000000  243190.000000   \n",
       "mean        5.240326      -9.432548       0.670928       0.111984   \n",
       "std         3.532546       4.449731       0.469877       0.198068   \n",
       "min         0.000000     -60.000000       0.000000       0.000000   \n",
       "25%         2.000000     -11.990000       0.000000       0.033200   \n",
       "50%         5.000000      -8.645000       1.000000       0.043100   \n",
       "75%         8.000000      -6.131000       1.000000       0.075300   \n",
       "max        11.000000       3.744000       1.000000       0.969000   \n",
       "\n",
       "        acousticness  instrumentalness       liveness        valence  \\\n",
       "count  243190.000000     243190.000000  243190.000000  243190.000000   \n",
       "mean        0.383938          0.071169       0.223756       0.552302   \n",
       "std         0.321142          0.209555       0.198076       0.250017   \n",
       "min         0.000000          0.000000       0.000000       0.000000   \n",
       "25%         0.070000          0.000000       0.098100       0.353000   \n",
       "50%         0.325000          0.000011       0.141000       0.560000   \n",
       "75%         0.671000          0.002220       0.292000       0.760000   \n",
       "max         0.996000          1.000000       1.000000       1.000000   \n",
       "\n",
       "               tempo  time_signature  \n",
       "count  243190.000000   243190.000000  \n",
       "mean      119.335060        3.884177  \n",
       "std        29.864219        0.458082  \n",
       "min         0.000000        0.000000  \n",
       "25%        96.099250        4.000000  \n",
       "50%       118.002000        4.000000  \n",
       "75%       137.929000        4.000000  \n",
       "max       243.507000        5.000000  "
      ]
     },
     "execution_count": 27,
     "metadata": {},
     "output_type": "execute_result"
    }
   ],
   "source": [
    "spotify_data.describe()"
   ]
  },
  {
   "cell_type": "markdown",
   "id": "a8f6610d",
   "metadata": {},
   "source": [
    "#### [`max()`](https://pandas.pydata.org/docs/reference/api/pandas.DataFrame.max.html)/[`min()`](https://pandas.pydata.org/docs/reference/api/pandas.DataFrame.min.html) \n",
    "Returns the max/min values of numeric columns. If the function is applied on non-numeric columns, it will return the maximum/minimum value based on the order of the alphabet."
   ]
  },
  {
   "cell_type": "code",
   "execution_count": 28,
   "id": "d674fec5",
   "metadata": {},
   "outputs": [
    {
     "data": {
      "text/plain": [
       "np.int64(100)"
      ]
     },
     "execution_count": 28,
     "metadata": {},
     "output_type": "execute_result"
    }
   ],
   "source": [
    "#The max() method applied on a Series\n",
    "spotify_data['artist_popularity'].max()"
   ]
  },
  {
   "cell_type": "code",
   "execution_count": 29,
   "id": "2d7f240e",
   "metadata": {},
   "outputs": [
    {
     "data": {
      "text/plain": [
       "artist_followers                    78900234\n",
       "genres                                  rock\n",
       "artist_name                          高爾宣 OSN\n",
       "artist_popularity                        100\n",
       "track_name           행복했던 날들이었다 days gone by\n",
       "track_popularity                          99\n",
       "duration_ms                          4995083\n",
       "explicit                                   1\n",
       "release_year                            2021\n",
       "danceability                           0.988\n",
       "energy                                   1.0\n",
       "key                                       11\n",
       "loudness                               3.744\n",
       "mode                                       1\n",
       "speechiness                            0.969\n",
       "acousticness                           0.996\n",
       "instrumentalness                         1.0\n",
       "liveness                                 1.0\n",
       "valence                                  1.0\n",
       "tempo                                243.507\n",
       "time_signature                             5\n",
       "dtype: object"
      ]
     },
     "execution_count": 29,
     "metadata": {},
     "output_type": "execute_result"
    }
   ],
   "source": [
    "#The max() method applied on a DataFrame\n",
    "spotify_data.max()"
   ]
  },
  {
   "cell_type": "markdown",
   "id": "70ee3923",
   "metadata": {},
   "source": [
    "#### [`mean()`](https://pandas.pydata.org/docs/reference/api/pandas.DataFrame.mean.html)/[`median()`](https://pandas.pydata.org/docs/reference/api/pandas.DataFrame.median.html)\n",
    "Returns the mean/median values of numeric columns."
   ]
  },
  {
   "cell_type": "code",
   "execution_count": 33,
   "id": "4a2d6b6c",
   "metadata": {},
   "outputs": [
    {
     "data": {
      "text/plain": [
       "artist_followers     535252.000000\n",
       "artist_popularity        64.000000\n",
       "track_popularity         36.000000\n",
       "duration_ms          218867.000000\n",
       "explicit                  0.000000\n",
       "release_year           1994.000000\n",
       "danceability              0.579000\n",
       "energy                    0.591000\n",
       "key                       5.000000\n",
       "loudness                 -8.645000\n",
       "mode                      1.000000\n",
       "speechiness               0.043100\n",
       "acousticness              0.325000\n",
       "instrumentalness          0.000011\n",
       "liveness                  0.141000\n",
       "valence                   0.560000\n",
       "tempo                   118.002000\n",
       "time_signature            4.000000\n",
       "dtype: float64"
      ]
     },
     "execution_count": 33,
     "metadata": {},
     "output_type": "execute_result"
    }
   ],
   "source": [
    "# apply median to the numeric columns\n",
    "\n",
    "spotify_data.select_dtypes(include='number').median()"
   ]
  },
  {
   "cell_type": "markdown",
   "id": "4d6d4af7",
   "metadata": {},
   "source": [
    "#### [`std()`](https://pandas.pydata.org/docs/reference/api/pandas.DataFrame.std.html)\n",
    "Returns the standard deviation of numeric columns."
   ]
  },
  {
   "cell_type": "code",
   "execution_count": 35,
   "id": "a2a59f8b",
   "metadata": {},
   "outputs": [
    {
     "data": {
      "text/plain": [
       "artist_followers     5.028746e+06\n",
       "artist_popularity    1.028918e+01\n",
       "track_popularity     1.647684e+01\n",
       "duration_ms          9.973214e+04\n",
       "explicit             2.180260e-01\n",
       "release_year         1.848146e+01\n",
       "danceability         1.594436e-01\n",
       "energy               2.366309e-01\n",
       "key                  3.532546e+00\n",
       "loudness             4.449731e+00\n",
       "mode                 4.698771e-01\n",
       "speechiness          1.980684e-01\n",
       "acousticness         3.211417e-01\n",
       "instrumentalness     2.095551e-01\n",
       "liveness             1.980759e-01\n",
       "valence              2.500172e-01\n",
       "tempo                2.986422e+01\n",
       "time_signature       4.580822e-01\n",
       "dtype: float64"
      ]
     },
     "execution_count": 35,
     "metadata": {},
     "output_type": "execute_result"
    }
   ],
   "source": [
    "spotify_data.select_dtypes(include='number').std()"
   ]
  },
  {
   "cell_type": "markdown",
   "id": "12d27590",
   "metadata": {},
   "source": [
    "#### [`sample(n)`](https://pandas.pydata.org/docs/reference/api/pandas.DataFrame.sample.html)\n",
    "Returns *n* random observations from a Pandas DataFrame."
   ]
  },
  {
   "cell_type": "code",
   "execution_count": 36,
   "id": "b74493d6",
   "metadata": {},
   "outputs": [
    {
     "data": {
      "text/html": [
       "<div>\n",
       "<style scoped>\n",
       "    .dataframe tbody tr th:only-of-type {\n",
       "        vertical-align: middle;\n",
       "    }\n",
       "\n",
       "    .dataframe tbody tr th {\n",
       "        vertical-align: top;\n",
       "    }\n",
       "\n",
       "    .dataframe thead th {\n",
       "        text-align: right;\n",
       "    }\n",
       "</style>\n",
       "<table border=\"1\" class=\"dataframe\">\n",
       "  <thead>\n",
       "    <tr style=\"text-align: right;\">\n",
       "      <th></th>\n",
       "      <th>artist_followers</th>\n",
       "      <th>genres</th>\n",
       "      <th>artist_name</th>\n",
       "      <th>artist_popularity</th>\n",
       "      <th>track_name</th>\n",
       "      <th>track_popularity</th>\n",
       "      <th>duration_ms</th>\n",
       "      <th>explicit</th>\n",
       "      <th>release_year</th>\n",
       "      <th>danceability</th>\n",
       "      <th>...</th>\n",
       "      <th>key</th>\n",
       "      <th>loudness</th>\n",
       "      <th>mode</th>\n",
       "      <th>speechiness</th>\n",
       "      <th>acousticness</th>\n",
       "      <th>instrumentalness</th>\n",
       "      <th>liveness</th>\n",
       "      <th>valence</th>\n",
       "      <th>tempo</th>\n",
       "      <th>time_signature</th>\n",
       "    </tr>\n",
       "  </thead>\n",
       "  <tbody>\n",
       "    <tr>\n",
       "      <th>95984</th>\n",
       "      <td>1179716</td>\n",
       "      <td>pop &amp; rock</td>\n",
       "      <td>mor ve ötesi</td>\n",
       "      <td>65</td>\n",
       "      <td>Yalnız Şarkı</td>\n",
       "      <td>36</td>\n",
       "      <td>286440</td>\n",
       "      <td>0</td>\n",
       "      <td>1997</td>\n",
       "      <td>0.441</td>\n",
       "      <td>...</td>\n",
       "      <td>9</td>\n",
       "      <td>-9.126</td>\n",
       "      <td>1</td>\n",
       "      <td>0.0305</td>\n",
       "      <td>0.000003</td>\n",
       "      <td>0.000000</td>\n",
       "      <td>0.0698</td>\n",
       "      <td>0.282</td>\n",
       "      <td>89.998</td>\n",
       "      <td>4</td>\n",
       "    </tr>\n",
       "    <tr>\n",
       "      <th>201066</th>\n",
       "      <td>1582426</td>\n",
       "      <td>pop &amp; rock</td>\n",
       "      <td>Andrés Calamaro</td>\n",
       "      <td>73</td>\n",
       "      <td>Clonazepán y circo</td>\n",
       "      <td>36</td>\n",
       "      <td>179093</td>\n",
       "      <td>0</td>\n",
       "      <td>1999</td>\n",
       "      <td>0.381</td>\n",
       "      <td>...</td>\n",
       "      <td>9</td>\n",
       "      <td>-7.031</td>\n",
       "      <td>1</td>\n",
       "      <td>0.0326</td>\n",
       "      <td>0.153000</td>\n",
       "      <td>0.000000</td>\n",
       "      <td>0.0892</td>\n",
       "      <td>0.409</td>\n",
       "      <td>77.131</td>\n",
       "      <td>3</td>\n",
       "    </tr>\n",
       "    <tr>\n",
       "      <th>15002</th>\n",
       "      <td>666680</td>\n",
       "      <td>rock</td>\n",
       "      <td>Indio Solari y los Fundamentalistas del Aire A...</td>\n",
       "      <td>61</td>\n",
       "      <td>El Ruiseñor, el Amor y la Muerte</td>\n",
       "      <td>45</td>\n",
       "      <td>310173</td>\n",
       "      <td>0</td>\n",
       "      <td>2018</td>\n",
       "      <td>0.583</td>\n",
       "      <td>...</td>\n",
       "      <td>0</td>\n",
       "      <td>-6.853</td>\n",
       "      <td>1</td>\n",
       "      <td>0.0251</td>\n",
       "      <td>0.087700</td>\n",
       "      <td>0.008010</td>\n",
       "      <td>0.0830</td>\n",
       "      <td>0.446</td>\n",
       "      <td>80.001</td>\n",
       "      <td>4</td>\n",
       "    </tr>\n",
       "    <tr>\n",
       "      <th>186925</th>\n",
       "      <td>295211</td>\n",
       "      <td>jazz</td>\n",
       "      <td>Stan Getz</td>\n",
       "      <td>68</td>\n",
       "      <td>In Your Own Sweet Way - Live In Kildevælds Chu...</td>\n",
       "      <td>6</td>\n",
       "      <td>365493</td>\n",
       "      <td>0</td>\n",
       "      <td>1960</td>\n",
       "      <td>0.448</td>\n",
       "      <td>...</td>\n",
       "      <td>10</td>\n",
       "      <td>-19.986</td>\n",
       "      <td>0</td>\n",
       "      <td>0.0431</td>\n",
       "      <td>0.901000</td>\n",
       "      <td>0.000008</td>\n",
       "      <td>0.1290</td>\n",
       "      <td>0.482</td>\n",
       "      <td>140.798</td>\n",
       "      <td>4</td>\n",
       "    </tr>\n",
       "  </tbody>\n",
       "</table>\n",
       "<p>4 rows × 21 columns</p>\n",
       "</div>"
      ],
      "text/plain": [
       "        artist_followers      genres  \\\n",
       "95984            1179716  pop & rock   \n",
       "201066           1582426  pop & rock   \n",
       "15002             666680        rock   \n",
       "186925            295211        jazz   \n",
       "\n",
       "                                              artist_name  artist_popularity  \\\n",
       "95984                                        mor ve ötesi                 65   \n",
       "201066                                    Andrés Calamaro                 73   \n",
       "15002   Indio Solari y los Fundamentalistas del Aire A...                 61   \n",
       "186925                                          Stan Getz                 68   \n",
       "\n",
       "                                               track_name  track_popularity  \\\n",
       "95984                                        Yalnız Şarkı                36   \n",
       "201066                                 Clonazepán y circo                36   \n",
       "15002                    El Ruiseñor, el Amor y la Muerte                45   \n",
       "186925  In Your Own Sweet Way - Live In Kildevælds Chu...                 6   \n",
       "\n",
       "        duration_ms  explicit  release_year  danceability  ...  key  loudness  \\\n",
       "95984        286440         0          1997         0.441  ...    9    -9.126   \n",
       "201066       179093         0          1999         0.381  ...    9    -7.031   \n",
       "15002        310173         0          2018         0.583  ...    0    -6.853   \n",
       "186925       365493         0          1960         0.448  ...   10   -19.986   \n",
       "\n",
       "        mode  speechiness  acousticness  instrumentalness  liveness  valence  \\\n",
       "95984      1       0.0305      0.000003          0.000000    0.0698    0.282   \n",
       "201066     1       0.0326      0.153000          0.000000    0.0892    0.409   \n",
       "15002      1       0.0251      0.087700          0.008010    0.0830    0.446   \n",
       "186925     0       0.0431      0.901000          0.000008    0.1290    0.482   \n",
       "\n",
       "          tempo  time_signature  \n",
       "95984    89.998               4  \n",
       "201066   77.131               3  \n",
       "15002    80.001               4  \n",
       "186925  140.798               4  \n",
       "\n",
       "[4 rows x 21 columns]"
      ]
     },
     "execution_count": 36,
     "metadata": {},
     "output_type": "execute_result"
    }
   ],
   "source": [
    "spotify_data.sample(4)"
   ]
  },
  {
   "cell_type": "markdown",
   "id": "ceb22c1f",
   "metadata": {},
   "source": [
    "#### [`dropna()`](https://pandas.pydata.org/docs/reference/api/pandas.DataFrame.dropna.html)\n",
    "Drops all observations with at least one missing value."
   ]
  },
  {
   "cell_type": "code",
   "execution_count": 37,
   "id": "30a46a29",
   "metadata": {},
   "outputs": [
    {
     "data": {
      "text/html": [
       "<div>\n",
       "<style scoped>\n",
       "    .dataframe tbody tr th:only-of-type {\n",
       "        vertical-align: middle;\n",
       "    }\n",
       "\n",
       "    .dataframe tbody tr th {\n",
       "        vertical-align: top;\n",
       "    }\n",
       "\n",
       "    .dataframe thead th {\n",
       "        text-align: right;\n",
       "    }\n",
       "</style>\n",
       "<table border=\"1\" class=\"dataframe\">\n",
       "  <thead>\n",
       "    <tr style=\"text-align: right;\">\n",
       "      <th></th>\n",
       "      <th>artist_followers</th>\n",
       "      <th>genres</th>\n",
       "      <th>artist_name</th>\n",
       "      <th>artist_popularity</th>\n",
       "      <th>track_name</th>\n",
       "      <th>track_popularity</th>\n",
       "      <th>duration_ms</th>\n",
       "      <th>explicit</th>\n",
       "      <th>release_year</th>\n",
       "      <th>danceability</th>\n",
       "      <th>...</th>\n",
       "      <th>key</th>\n",
       "      <th>loudness</th>\n",
       "      <th>mode</th>\n",
       "      <th>speechiness</th>\n",
       "      <th>acousticness</th>\n",
       "      <th>instrumentalness</th>\n",
       "      <th>liveness</th>\n",
       "      <th>valence</th>\n",
       "      <th>tempo</th>\n",
       "      <th>time_signature</th>\n",
       "    </tr>\n",
       "  </thead>\n",
       "  <tbody>\n",
       "    <tr>\n",
       "      <th>0</th>\n",
       "      <td>16996777</td>\n",
       "      <td>rap</td>\n",
       "      <td>Juice WRLD</td>\n",
       "      <td>96</td>\n",
       "      <td>All Girls Are The Same</td>\n",
       "      <td>0</td>\n",
       "      <td>165820</td>\n",
       "      <td>1</td>\n",
       "      <td>2021</td>\n",
       "      <td>0.673</td>\n",
       "      <td>...</td>\n",
       "      <td>0</td>\n",
       "      <td>-7.226</td>\n",
       "      <td>1</td>\n",
       "      <td>0.3060</td>\n",
       "      <td>0.0769</td>\n",
       "      <td>0.000338</td>\n",
       "      <td>0.0856</td>\n",
       "      <td>0.203</td>\n",
       "      <td>161.991</td>\n",
       "      <td>4</td>\n",
       "    </tr>\n",
       "    <tr>\n",
       "      <th>1</th>\n",
       "      <td>16996777</td>\n",
       "      <td>rap</td>\n",
       "      <td>Juice WRLD</td>\n",
       "      <td>96</td>\n",
       "      <td>Lucid Dreams</td>\n",
       "      <td>0</td>\n",
       "      <td>239836</td>\n",
       "      <td>1</td>\n",
       "      <td>2021</td>\n",
       "      <td>0.511</td>\n",
       "      <td>...</td>\n",
       "      <td>6</td>\n",
       "      <td>-7.230</td>\n",
       "      <td>0</td>\n",
       "      <td>0.2000</td>\n",
       "      <td>0.3490</td>\n",
       "      <td>0.000000</td>\n",
       "      <td>0.3400</td>\n",
       "      <td>0.218</td>\n",
       "      <td>83.903</td>\n",
       "      <td>4</td>\n",
       "    </tr>\n",
       "    <tr>\n",
       "      <th>2</th>\n",
       "      <td>16996777</td>\n",
       "      <td>rap</td>\n",
       "      <td>Juice WRLD</td>\n",
       "      <td>96</td>\n",
       "      <td>Hear Me Calling</td>\n",
       "      <td>0</td>\n",
       "      <td>189977</td>\n",
       "      <td>1</td>\n",
       "      <td>2021</td>\n",
       "      <td>0.699</td>\n",
       "      <td>...</td>\n",
       "      <td>7</td>\n",
       "      <td>-3.997</td>\n",
       "      <td>0</td>\n",
       "      <td>0.1060</td>\n",
       "      <td>0.3080</td>\n",
       "      <td>0.000036</td>\n",
       "      <td>0.1210</td>\n",
       "      <td>0.499</td>\n",
       "      <td>88.933</td>\n",
       "      <td>4</td>\n",
       "    </tr>\n",
       "    <tr>\n",
       "      <th>3</th>\n",
       "      <td>16996777</td>\n",
       "      <td>rap</td>\n",
       "      <td>Juice WRLD</td>\n",
       "      <td>96</td>\n",
       "      <td>Robbery</td>\n",
       "      <td>0</td>\n",
       "      <td>240527</td>\n",
       "      <td>1</td>\n",
       "      <td>2021</td>\n",
       "      <td>0.708</td>\n",
       "      <td>...</td>\n",
       "      <td>2</td>\n",
       "      <td>-5.181</td>\n",
       "      <td>1</td>\n",
       "      <td>0.0442</td>\n",
       "      <td>0.3480</td>\n",
       "      <td>0.000000</td>\n",
       "      <td>0.2220</td>\n",
       "      <td>0.543</td>\n",
       "      <td>79.993</td>\n",
       "      <td>4</td>\n",
       "    </tr>\n",
       "    <tr>\n",
       "      <th>4</th>\n",
       "      <td>5988689</td>\n",
       "      <td>rap</td>\n",
       "      <td>Roddy Ricch</td>\n",
       "      <td>88</td>\n",
       "      <td>Big Stepper</td>\n",
       "      <td>0</td>\n",
       "      <td>175170</td>\n",
       "      <td>0</td>\n",
       "      <td>2021</td>\n",
       "      <td>0.753</td>\n",
       "      <td>...</td>\n",
       "      <td>8</td>\n",
       "      <td>-8.469</td>\n",
       "      <td>1</td>\n",
       "      <td>0.2920</td>\n",
       "      <td>0.0477</td>\n",
       "      <td>0.000000</td>\n",
       "      <td>0.1970</td>\n",
       "      <td>0.616</td>\n",
       "      <td>76.997</td>\n",
       "      <td>4</td>\n",
       "    </tr>\n",
       "    <tr>\n",
       "      <th>...</th>\n",
       "      <td>...</td>\n",
       "      <td>...</td>\n",
       "      <td>...</td>\n",
       "      <td>...</td>\n",
       "      <td>...</td>\n",
       "      <td>...</td>\n",
       "      <td>...</td>\n",
       "      <td>...</td>\n",
       "      <td>...</td>\n",
       "      <td>...</td>\n",
       "      <td>...</td>\n",
       "      <td>...</td>\n",
       "      <td>...</td>\n",
       "      <td>...</td>\n",
       "      <td>...</td>\n",
       "      <td>...</td>\n",
       "      <td>...</td>\n",
       "      <td>...</td>\n",
       "      <td>...</td>\n",
       "      <td>...</td>\n",
       "      <td>...</td>\n",
       "    </tr>\n",
       "    <tr>\n",
       "      <th>243185</th>\n",
       "      <td>2256652</td>\n",
       "      <td>jazz</td>\n",
       "      <td>Louis Armstrong</td>\n",
       "      <td>74</td>\n",
       "      <td>Stardust</td>\n",
       "      <td>5</td>\n",
       "      <td>213667</td>\n",
       "      <td>0</td>\n",
       "      <td>1923</td>\n",
       "      <td>0.614</td>\n",
       "      <td>...</td>\n",
       "      <td>3</td>\n",
       "      <td>-11.004</td>\n",
       "      <td>0</td>\n",
       "      <td>0.0541</td>\n",
       "      <td>0.9700</td>\n",
       "      <td>0.646000</td>\n",
       "      <td>0.0514</td>\n",
       "      <td>0.772</td>\n",
       "      <td>122.319</td>\n",
       "      <td>4</td>\n",
       "    </tr>\n",
       "    <tr>\n",
       "      <th>243186</th>\n",
       "      <td>2256652</td>\n",
       "      <td>jazz</td>\n",
       "      <td>Louis Armstrong</td>\n",
       "      <td>74</td>\n",
       "      <td>Knockin' A Jug - 78 rpm Version</td>\n",
       "      <td>6</td>\n",
       "      <td>193760</td>\n",
       "      <td>0</td>\n",
       "      <td>1923</td>\n",
       "      <td>0.788</td>\n",
       "      <td>...</td>\n",
       "      <td>10</td>\n",
       "      <td>-14.032</td>\n",
       "      <td>1</td>\n",
       "      <td>0.3010</td>\n",
       "      <td>0.8820</td>\n",
       "      <td>0.844000</td>\n",
       "      <td>0.1240</td>\n",
       "      <td>0.676</td>\n",
       "      <td>113.336</td>\n",
       "      <td>4</td>\n",
       "    </tr>\n",
       "    <tr>\n",
       "      <th>243187</th>\n",
       "      <td>2256652</td>\n",
       "      <td>jazz</td>\n",
       "      <td>Louis Armstrong</td>\n",
       "      <td>74</td>\n",
       "      <td>When It's Sleepy Time Down South</td>\n",
       "      <td>4</td>\n",
       "      <td>200200</td>\n",
       "      <td>0</td>\n",
       "      <td>1923</td>\n",
       "      <td>0.527</td>\n",
       "      <td>...</td>\n",
       "      <td>3</td>\n",
       "      <td>-14.814</td>\n",
       "      <td>1</td>\n",
       "      <td>0.0793</td>\n",
       "      <td>0.9890</td>\n",
       "      <td>0.000010</td>\n",
       "      <td>0.1040</td>\n",
       "      <td>0.370</td>\n",
       "      <td>105.093</td>\n",
       "      <td>4</td>\n",
       "    </tr>\n",
       "    <tr>\n",
       "      <th>243188</th>\n",
       "      <td>2256652</td>\n",
       "      <td>jazz</td>\n",
       "      <td>Louis Armstrong</td>\n",
       "      <td>74</td>\n",
       "      <td>On The Sunny Side Of The Street - Part 2</td>\n",
       "      <td>4</td>\n",
       "      <td>185973</td>\n",
       "      <td>0</td>\n",
       "      <td>1923</td>\n",
       "      <td>0.559</td>\n",
       "      <td>...</td>\n",
       "      <td>0</td>\n",
       "      <td>-9.804</td>\n",
       "      <td>1</td>\n",
       "      <td>0.0512</td>\n",
       "      <td>0.9890</td>\n",
       "      <td>0.847000</td>\n",
       "      <td>0.4480</td>\n",
       "      <td>0.576</td>\n",
       "      <td>101.279</td>\n",
       "      <td>4</td>\n",
       "    </tr>\n",
       "    <tr>\n",
       "      <th>243189</th>\n",
       "      <td>2256652</td>\n",
       "      <td>jazz</td>\n",
       "      <td>Louis Armstrong</td>\n",
       "      <td>74</td>\n",
       "      <td>My Sweet</td>\n",
       "      <td>4</td>\n",
       "      <td>195960</td>\n",
       "      <td>0</td>\n",
       "      <td>1923</td>\n",
       "      <td>0.741</td>\n",
       "      <td>...</td>\n",
       "      <td>3</td>\n",
       "      <td>-10.406</td>\n",
       "      <td>1</td>\n",
       "      <td>0.0505</td>\n",
       "      <td>0.9270</td>\n",
       "      <td>0.078800</td>\n",
       "      <td>0.0633</td>\n",
       "      <td>0.816</td>\n",
       "      <td>105.840</td>\n",
       "      <td>4</td>\n",
       "    </tr>\n",
       "  </tbody>\n",
       "</table>\n",
       "<p>243190 rows × 21 columns</p>\n",
       "</div>"
      ],
      "text/plain": [
       "        artist_followers genres      artist_name  artist_popularity  \\\n",
       "0               16996777    rap       Juice WRLD                 96   \n",
       "1               16996777    rap       Juice WRLD                 96   \n",
       "2               16996777    rap       Juice WRLD                 96   \n",
       "3               16996777    rap       Juice WRLD                 96   \n",
       "4                5988689    rap      Roddy Ricch                 88   \n",
       "...                  ...    ...              ...                ...   \n",
       "243185           2256652   jazz  Louis Armstrong                 74   \n",
       "243186           2256652   jazz  Louis Armstrong                 74   \n",
       "243187           2256652   jazz  Louis Armstrong                 74   \n",
       "243188           2256652   jazz  Louis Armstrong                 74   \n",
       "243189           2256652   jazz  Louis Armstrong                 74   \n",
       "\n",
       "                                      track_name  track_popularity  \\\n",
       "0                         All Girls Are The Same                 0   \n",
       "1                                   Lucid Dreams                 0   \n",
       "2                                Hear Me Calling                 0   \n",
       "3                                        Robbery                 0   \n",
       "4                                    Big Stepper                 0   \n",
       "...                                          ...               ...   \n",
       "243185                                  Stardust                 5   \n",
       "243186           Knockin' A Jug - 78 rpm Version                 6   \n",
       "243187          When It's Sleepy Time Down South                 4   \n",
       "243188  On The Sunny Side Of The Street - Part 2                 4   \n",
       "243189                                  My Sweet                 4   \n",
       "\n",
       "        duration_ms  explicit  release_year  danceability  ...  key  loudness  \\\n",
       "0            165820         1          2021         0.673  ...    0    -7.226   \n",
       "1            239836         1          2021         0.511  ...    6    -7.230   \n",
       "2            189977         1          2021         0.699  ...    7    -3.997   \n",
       "3            240527         1          2021         0.708  ...    2    -5.181   \n",
       "4            175170         0          2021         0.753  ...    8    -8.469   \n",
       "...             ...       ...           ...           ...  ...  ...       ...   \n",
       "243185       213667         0          1923         0.614  ...    3   -11.004   \n",
       "243186       193760         0          1923         0.788  ...   10   -14.032   \n",
       "243187       200200         0          1923         0.527  ...    3   -14.814   \n",
       "243188       185973         0          1923         0.559  ...    0    -9.804   \n",
       "243189       195960         0          1923         0.741  ...    3   -10.406   \n",
       "\n",
       "        mode  speechiness  acousticness  instrumentalness  liveness  valence  \\\n",
       "0          1       0.3060        0.0769          0.000338    0.0856    0.203   \n",
       "1          0       0.2000        0.3490          0.000000    0.3400    0.218   \n",
       "2          0       0.1060        0.3080          0.000036    0.1210    0.499   \n",
       "3          1       0.0442        0.3480          0.000000    0.2220    0.543   \n",
       "4          1       0.2920        0.0477          0.000000    0.1970    0.616   \n",
       "...      ...          ...           ...               ...       ...      ...   \n",
       "243185     0       0.0541        0.9700          0.646000    0.0514    0.772   \n",
       "243186     1       0.3010        0.8820          0.844000    0.1240    0.676   \n",
       "243187     1       0.0793        0.9890          0.000010    0.1040    0.370   \n",
       "243188     1       0.0512        0.9890          0.847000    0.4480    0.576   \n",
       "243189     1       0.0505        0.9270          0.078800    0.0633    0.816   \n",
       "\n",
       "          tempo  time_signature  \n",
       "0       161.991               4  \n",
       "1        83.903               4  \n",
       "2        88.933               4  \n",
       "3        79.993               4  \n",
       "4        76.997               4  \n",
       "...         ...             ...  \n",
       "243185  122.319               4  \n",
       "243186  113.336               4  \n",
       "243187  105.093               4  \n",
       "243188  101.279               4  \n",
       "243189  105.840               4  \n",
       "\n",
       "[243190 rows x 21 columns]"
      ]
     },
     "execution_count": 37,
     "metadata": {},
     "output_type": "execute_result"
    }
   ],
   "source": [
    "#| eval: false\n",
    "#This code is not executed to avoid prining a large table\n",
    "spotify_data.dropna()"
   ]
  },
  {
   "cell_type": "markdown",
   "id": "43a88f21",
   "metadata": {},
   "source": [
    "#### [`unique()`](https://pandas.pydata.org/docs/reference/api/pandas.unique.html)\n",
    "This functions provides the unique values of a Series. For example, let us find the number of unique genres of songs in the spotify dataset: "
   ]
  },
  {
   "cell_type": "code",
   "execution_count": 39,
   "id": "7d94de0f",
   "metadata": {},
   "outputs": [
    {
     "data": {
      "text/plain": [
       "array(['rap', 'pop', 'miscellaneous', 'metal', 'hip hop', 'rock',\n",
       "       'pop & rock', 'hoerspiel', 'folk', 'electronic', 'jazz', 'country',\n",
       "       'latin'], dtype=object)"
      ]
     },
     "execution_count": 39,
     "metadata": {},
     "output_type": "execute_result"
    }
   ],
   "source": [
    "spotify_data.genres.unique()"
   ]
  },
  {
   "cell_type": "markdown",
   "id": "0505d81c",
   "metadata": {},
   "source": [
    "#### [`value_counts()`](https://pandas.pydata.org/docs/reference/api/pandas.Series.value_counts.html) \n",
    "This function provides the number of observations of each value of a Series. For example, let us find the number of songs of each genre in the spotify dataset:"
   ]
  },
  {
   "cell_type": "code",
   "execution_count": 40,
   "id": "8f55b314",
   "metadata": {},
   "outputs": [
    {
     "data": {
      "text/plain": [
       "genres\n",
       "pop              70441\n",
       "rock             49785\n",
       "pop & rock       43437\n",
       "miscellaneous    35848\n",
       "jazz             13363\n",
       "hoerspiel        12514\n",
       "hip hop           7373\n",
       "folk              2821\n",
       "latin             2125\n",
       "rap               1798\n",
       "metal             1659\n",
       "country           1236\n",
       "electronic         790\n",
       "Name: count, dtype: int64"
      ]
     },
     "execution_count": 40,
     "metadata": {},
     "output_type": "execute_result"
    }
   ],
   "source": [
    "spotify_data.genres.value_counts()"
   ]
  },
  {
   "cell_type": "markdown",
   "id": "7270a8cb",
   "metadata": {},
   "source": [
    "More than half the songs in the dataset are *pop, rock* or *pop & rock*."
   ]
  },
  {
   "cell_type": "markdown",
   "id": "f5f4b22c",
   "metadata": {},
   "source": [
    "#### [`isin()`](https://pandas.pydata.org/docs/reference/api/pandas.DataFrame.isin.html)\n",
    "This function provides a boolean Series indicating the position of certain values in a Series. The function is helpful in sub-setting data. For example, let us subset the songs that are either *latin, rap,* or *metal*:"
   ]
  },
  {
   "cell_type": "code",
   "execution_count": 41,
   "id": "2eb06f55",
   "metadata": {},
   "outputs": [
    {
     "data": {
      "text/html": [
       "<div>\n",
       "<style scoped>\n",
       "    .dataframe tbody tr th:only-of-type {\n",
       "        vertical-align: middle;\n",
       "    }\n",
       "\n",
       "    .dataframe tbody tr th {\n",
       "        vertical-align: top;\n",
       "    }\n",
       "\n",
       "    .dataframe thead th {\n",
       "        text-align: right;\n",
       "    }\n",
       "</style>\n",
       "<table border=\"1\" class=\"dataframe\">\n",
       "  <thead>\n",
       "    <tr style=\"text-align: right;\">\n",
       "      <th></th>\n",
       "      <th>artist_followers</th>\n",
       "      <th>genres</th>\n",
       "      <th>artist_name</th>\n",
       "      <th>artist_popularity</th>\n",
       "      <th>track_name</th>\n",
       "      <th>track_popularity</th>\n",
       "      <th>duration_ms</th>\n",
       "      <th>explicit</th>\n",
       "      <th>release_year</th>\n",
       "      <th>danceability</th>\n",
       "      <th>...</th>\n",
       "      <th>key</th>\n",
       "      <th>loudness</th>\n",
       "      <th>mode</th>\n",
       "      <th>speechiness</th>\n",
       "      <th>acousticness</th>\n",
       "      <th>instrumentalness</th>\n",
       "      <th>liveness</th>\n",
       "      <th>valence</th>\n",
       "      <th>tempo</th>\n",
       "      <th>time_signature</th>\n",
       "    </tr>\n",
       "  </thead>\n",
       "  <tbody>\n",
       "    <tr>\n",
       "      <th>0</th>\n",
       "      <td>16996777</td>\n",
       "      <td>rap</td>\n",
       "      <td>Juice WRLD</td>\n",
       "      <td>96</td>\n",
       "      <td>All Girls Are The Same</td>\n",
       "      <td>0</td>\n",
       "      <td>165820</td>\n",
       "      <td>1</td>\n",
       "      <td>2021</td>\n",
       "      <td>0.673</td>\n",
       "      <td>...</td>\n",
       "      <td>0</td>\n",
       "      <td>-7.226</td>\n",
       "      <td>1</td>\n",
       "      <td>0.3060</td>\n",
       "      <td>0.0769</td>\n",
       "      <td>0.000338</td>\n",
       "      <td>0.0856</td>\n",
       "      <td>0.203</td>\n",
       "      <td>161.991</td>\n",
       "      <td>4</td>\n",
       "    </tr>\n",
       "    <tr>\n",
       "      <th>1</th>\n",
       "      <td>16996777</td>\n",
       "      <td>rap</td>\n",
       "      <td>Juice WRLD</td>\n",
       "      <td>96</td>\n",
       "      <td>Lucid Dreams</td>\n",
       "      <td>0</td>\n",
       "      <td>239836</td>\n",
       "      <td>1</td>\n",
       "      <td>2021</td>\n",
       "      <td>0.511</td>\n",
       "      <td>...</td>\n",
       "      <td>6</td>\n",
       "      <td>-7.230</td>\n",
       "      <td>0</td>\n",
       "      <td>0.2000</td>\n",
       "      <td>0.3490</td>\n",
       "      <td>0.000000</td>\n",
       "      <td>0.3400</td>\n",
       "      <td>0.218</td>\n",
       "      <td>83.903</td>\n",
       "      <td>4</td>\n",
       "    </tr>\n",
       "    <tr>\n",
       "      <th>2</th>\n",
       "      <td>16996777</td>\n",
       "      <td>rap</td>\n",
       "      <td>Juice WRLD</td>\n",
       "      <td>96</td>\n",
       "      <td>Hear Me Calling</td>\n",
       "      <td>0</td>\n",
       "      <td>189977</td>\n",
       "      <td>1</td>\n",
       "      <td>2021</td>\n",
       "      <td>0.699</td>\n",
       "      <td>...</td>\n",
       "      <td>7</td>\n",
       "      <td>-3.997</td>\n",
       "      <td>0</td>\n",
       "      <td>0.1060</td>\n",
       "      <td>0.3080</td>\n",
       "      <td>0.000036</td>\n",
       "      <td>0.1210</td>\n",
       "      <td>0.499</td>\n",
       "      <td>88.933</td>\n",
       "      <td>4</td>\n",
       "    </tr>\n",
       "    <tr>\n",
       "      <th>3</th>\n",
       "      <td>16996777</td>\n",
       "      <td>rap</td>\n",
       "      <td>Juice WRLD</td>\n",
       "      <td>96</td>\n",
       "      <td>Robbery</td>\n",
       "      <td>0</td>\n",
       "      <td>240527</td>\n",
       "      <td>1</td>\n",
       "      <td>2021</td>\n",
       "      <td>0.708</td>\n",
       "      <td>...</td>\n",
       "      <td>2</td>\n",
       "      <td>-5.181</td>\n",
       "      <td>1</td>\n",
       "      <td>0.0442</td>\n",
       "      <td>0.3480</td>\n",
       "      <td>0.000000</td>\n",
       "      <td>0.2220</td>\n",
       "      <td>0.543</td>\n",
       "      <td>79.993</td>\n",
       "      <td>4</td>\n",
       "    </tr>\n",
       "    <tr>\n",
       "      <th>4</th>\n",
       "      <td>5988689</td>\n",
       "      <td>rap</td>\n",
       "      <td>Roddy Ricch</td>\n",
       "      <td>88</td>\n",
       "      <td>Big Stepper</td>\n",
       "      <td>0</td>\n",
       "      <td>175170</td>\n",
       "      <td>0</td>\n",
       "      <td>2021</td>\n",
       "      <td>0.753</td>\n",
       "      <td>...</td>\n",
       "      <td>8</td>\n",
       "      <td>-8.469</td>\n",
       "      <td>1</td>\n",
       "      <td>0.2920</td>\n",
       "      <td>0.0477</td>\n",
       "      <td>0.000000</td>\n",
       "      <td>0.1970</td>\n",
       "      <td>0.616</td>\n",
       "      <td>76.997</td>\n",
       "      <td>4</td>\n",
       "    </tr>\n",
       "  </tbody>\n",
       "</table>\n",
       "<p>5 rows × 21 columns</p>\n",
       "</div>"
      ],
      "text/plain": [
       "   artist_followers genres  artist_name  artist_popularity  \\\n",
       "0          16996777    rap   Juice WRLD                 96   \n",
       "1          16996777    rap   Juice WRLD                 96   \n",
       "2          16996777    rap   Juice WRLD                 96   \n",
       "3          16996777    rap   Juice WRLD                 96   \n",
       "4           5988689    rap  Roddy Ricch                 88   \n",
       "\n",
       "               track_name  track_popularity  duration_ms  explicit  \\\n",
       "0  All Girls Are The Same                 0       165820         1   \n",
       "1            Lucid Dreams                 0       239836         1   \n",
       "2         Hear Me Calling                 0       189977         1   \n",
       "3                 Robbery                 0       240527         1   \n",
       "4             Big Stepper                 0       175170         0   \n",
       "\n",
       "   release_year  danceability  ...  key  loudness  mode  speechiness  \\\n",
       "0          2021         0.673  ...    0    -7.226     1       0.3060   \n",
       "1          2021         0.511  ...    6    -7.230     0       0.2000   \n",
       "2          2021         0.699  ...    7    -3.997     0       0.1060   \n",
       "3          2021         0.708  ...    2    -5.181     1       0.0442   \n",
       "4          2021         0.753  ...    8    -8.469     1       0.2920   \n",
       "\n",
       "   acousticness  instrumentalness  liveness  valence    tempo  time_signature  \n",
       "0        0.0769          0.000338    0.0856    0.203  161.991               4  \n",
       "1        0.3490          0.000000    0.3400    0.218   83.903               4  \n",
       "2        0.3080          0.000036    0.1210    0.499   88.933               4  \n",
       "3        0.3480          0.000000    0.2220    0.543   79.993               4  \n",
       "4        0.0477          0.000000    0.1970    0.616   76.997               4  \n",
       "\n",
       "[5 rows x 21 columns]"
      ]
     },
     "execution_count": 41,
     "metadata": {},
     "output_type": "execute_result"
    }
   ],
   "source": [
    "latin_rap_metal_songs = spotify_data.loc[spotify_data.genres.isin(['latin','rap','metal']),:]\n",
    "latin_rap_metal_songs.head()"
   ]
  },
  {
   "cell_type": "markdown",
   "id": "18d3c0c5",
   "metadata": {},
   "source": [
    "## Data manipulations with Pandas"
   ]
  },
  {
   "cell_type": "markdown",
   "id": "ed2aaf8a",
   "metadata": {},
   "source": [
    "### Sub-setting data\n",
    "\n",
    "In the chapter on reading data, we learned about different ways for subsetting data, specifically:\n",
    "\n",
    "* Selecting columns: `df['column_name']`, `df[['col1', 'col2']]`\n",
    "* Selecting rows by label: `df.loc[]`\n",
    "* Selecting rows by integer position: `df.iloc[]`\n",
    "* Selecting by condition (Boolean indexing): `df[df['column_name'] > value]`\n",
    "* Selecting by multiple conditions: `df[(df['column_name'] > value) & (df['other_column'] == another_value)]`\n"
   ]
  },
  {
   "cell_type": "markdown",
   "id": "30c07964",
   "metadata": {},
   "source": [
    "### Setting and Resetting indices\n",
    "\n",
    "In pandas, the `index` of a dataframe can be accessed by using `index` attribute, it represents the row labels of a DataFrame. When you create a DataFrame without specifying an index, pandas automatically assigns a RangeIndex, which is a sequence of integers starting from 0.\n"
   ]
  },
  {
   "cell_type": "code",
   "execution_count": 42,
   "id": "953d1f9b",
   "metadata": {},
   "outputs": [
    {
     "data": {
      "text/html": [
       "<div>\n",
       "<style scoped>\n",
       "    .dataframe tbody tr th:only-of-type {\n",
       "        vertical-align: middle;\n",
       "    }\n",
       "\n",
       "    .dataframe tbody tr th {\n",
       "        vertical-align: top;\n",
       "    }\n",
       "\n",
       "    .dataframe thead th {\n",
       "        text-align: right;\n",
       "    }\n",
       "</style>\n",
       "<table border=\"1\" class=\"dataframe\">\n",
       "  <thead>\n",
       "    <tr style=\"text-align: right;\">\n",
       "      <th></th>\n",
       "      <th>Unnamed: 0.1</th>\n",
       "      <th>Unnamed: 0</th>\n",
       "      <th>Name</th>\n",
       "      <th>Author</th>\n",
       "      <th>User Rating</th>\n",
       "      <th>Reviews</th>\n",
       "      <th>Price</th>\n",
       "      <th>Year</th>\n",
       "      <th>Genre</th>\n",
       "    </tr>\n",
       "  </thead>\n",
       "  <tbody>\n",
       "    <tr>\n",
       "      <th>0</th>\n",
       "      <td>0</td>\n",
       "      <td>0</td>\n",
       "      <td>10-Day Green Smoothie Cleanse</td>\n",
       "      <td>JJ Smith</td>\n",
       "      <td>4.7</td>\n",
       "      <td>17350</td>\n",
       "      <td>8</td>\n",
       "      <td>2016</td>\n",
       "      <td>Non Fiction</td>\n",
       "    </tr>\n",
       "    <tr>\n",
       "      <th>1</th>\n",
       "      <td>1</td>\n",
       "      <td>1</td>\n",
       "      <td>11/22/63: A Novel</td>\n",
       "      <td>Stephen King</td>\n",
       "      <td>4.6</td>\n",
       "      <td>2052</td>\n",
       "      <td>22</td>\n",
       "      <td>2011</td>\n",
       "      <td>Fiction</td>\n",
       "    </tr>\n",
       "    <tr>\n",
       "      <th>2</th>\n",
       "      <td>2</td>\n",
       "      <td>2</td>\n",
       "      <td>12 Rules for Life: An Antidote to Chaos</td>\n",
       "      <td>Jordan B. Peterson</td>\n",
       "      <td>4.7</td>\n",
       "      <td>18979</td>\n",
       "      <td>15</td>\n",
       "      <td>2018</td>\n",
       "      <td>Non Fiction</td>\n",
       "    </tr>\n",
       "    <tr>\n",
       "      <th>3</th>\n",
       "      <td>3</td>\n",
       "      <td>3</td>\n",
       "      <td>1984 (Signet Classics)</td>\n",
       "      <td>George Orwell</td>\n",
       "      <td>4.7</td>\n",
       "      <td>21424</td>\n",
       "      <td>6</td>\n",
       "      <td>2017</td>\n",
       "      <td>Fiction</td>\n",
       "    </tr>\n",
       "    <tr>\n",
       "      <th>4</th>\n",
       "      <td>4</td>\n",
       "      <td>4</td>\n",
       "      <td>5,000 Awesome Facts (About Everything!) (Natio...</td>\n",
       "      <td>National Geographic Kids</td>\n",
       "      <td>4.8</td>\n",
       "      <td>7665</td>\n",
       "      <td>12</td>\n",
       "      <td>2019</td>\n",
       "      <td>Non Fiction</td>\n",
       "    </tr>\n",
       "  </tbody>\n",
       "</table>\n",
       "</div>"
      ],
      "text/plain": [
       "   Unnamed: 0.1  Unnamed: 0  \\\n",
       "0             0           0   \n",
       "1             1           1   \n",
       "2             2           2   \n",
       "3             3           3   \n",
       "4             4           4   \n",
       "\n",
       "                                                Name  \\\n",
       "0                      10-Day Green Smoothie Cleanse   \n",
       "1                                  11/22/63: A Novel   \n",
       "2            12 Rules for Life: An Antidote to Chaos   \n",
       "3                             1984 (Signet Classics)   \n",
       "4  5,000 Awesome Facts (About Everything!) (Natio...   \n",
       "\n",
       "                     Author  User Rating  Reviews  Price  Year        Genre  \n",
       "0                  JJ Smith          4.7    17350      8  2016  Non Fiction  \n",
       "1              Stephen King          4.6     2052     22  2011      Fiction  \n",
       "2        Jordan B. Peterson          4.7    18979     15  2018  Non Fiction  \n",
       "3             George Orwell          4.7    21424      6  2017      Fiction  \n",
       "4  National Geographic Kids          4.8     7665     12  2019  Non Fiction  "
      ]
     },
     "execution_count": 42,
     "metadata": {},
     "output_type": "execute_result"
    }
   ],
   "source": [
    "# read the txt data\n",
    "bestseller_data = pd.read_csv('../Data/bestseller_books.txt', sep=';')\n",
    "bestseller_data.head()"
   ]
  },
  {
   "cell_type": "code",
   "execution_count": 43,
   "id": "633d3726",
   "metadata": {},
   "outputs": [
    {
     "data": {
      "text/plain": [
       "RangeIndex(start=0, stop=550, step=1)"
      ]
     },
     "execution_count": 43,
     "metadata": {},
     "output_type": "execute_result"
    }
   ],
   "source": [
    "# accessing the index of the DataFrame\n",
    "bestseller_data.index"
   ]
  },
  {
   "cell_type": "markdown",
   "id": "be17fbb6",
   "metadata": {},
   "source": [
    "Alternatively, we can use the `index_col` parameter in the `pd.read_csv()` function to set a specific column as the index when reading a CSV file in pandas. This allows us to directly specify which column should be used as the index of the resulting DataFrame."
   ]
  },
  {
   "cell_type": "code",
   "execution_count": 44,
   "id": "9adfbe9c",
   "metadata": {},
   "outputs": [
    {
     "data": {
      "text/html": [
       "<div>\n",
       "<style scoped>\n",
       "    .dataframe tbody tr th:only-of-type {\n",
       "        vertical-align: middle;\n",
       "    }\n",
       "\n",
       "    .dataframe tbody tr th {\n",
       "        vertical-align: top;\n",
       "    }\n",
       "\n",
       "    .dataframe thead th {\n",
       "        text-align: right;\n",
       "    }\n",
       "</style>\n",
       "<table border=\"1\" class=\"dataframe\">\n",
       "  <thead>\n",
       "    <tr style=\"text-align: right;\">\n",
       "      <th></th>\n",
       "      <th>Unnamed: 0</th>\n",
       "      <th>Name</th>\n",
       "      <th>Author</th>\n",
       "      <th>User Rating</th>\n",
       "      <th>Reviews</th>\n",
       "      <th>Price</th>\n",
       "      <th>Year</th>\n",
       "      <th>Genre</th>\n",
       "    </tr>\n",
       "  </thead>\n",
       "  <tbody>\n",
       "    <tr>\n",
       "      <th>0</th>\n",
       "      <td>0</td>\n",
       "      <td>10-Day Green Smoothie Cleanse</td>\n",
       "      <td>JJ Smith</td>\n",
       "      <td>4.7</td>\n",
       "      <td>17350</td>\n",
       "      <td>8</td>\n",
       "      <td>2016</td>\n",
       "      <td>Non Fiction</td>\n",
       "    </tr>\n",
       "    <tr>\n",
       "      <th>1</th>\n",
       "      <td>1</td>\n",
       "      <td>11/22/63: A Novel</td>\n",
       "      <td>Stephen King</td>\n",
       "      <td>4.6</td>\n",
       "      <td>2052</td>\n",
       "      <td>22</td>\n",
       "      <td>2011</td>\n",
       "      <td>Fiction</td>\n",
       "    </tr>\n",
       "    <tr>\n",
       "      <th>2</th>\n",
       "      <td>2</td>\n",
       "      <td>12 Rules for Life: An Antidote to Chaos</td>\n",
       "      <td>Jordan B. Peterson</td>\n",
       "      <td>4.7</td>\n",
       "      <td>18979</td>\n",
       "      <td>15</td>\n",
       "      <td>2018</td>\n",
       "      <td>Non Fiction</td>\n",
       "    </tr>\n",
       "    <tr>\n",
       "      <th>3</th>\n",
       "      <td>3</td>\n",
       "      <td>1984 (Signet Classics)</td>\n",
       "      <td>George Orwell</td>\n",
       "      <td>4.7</td>\n",
       "      <td>21424</td>\n",
       "      <td>6</td>\n",
       "      <td>2017</td>\n",
       "      <td>Fiction</td>\n",
       "    </tr>\n",
       "    <tr>\n",
       "      <th>4</th>\n",
       "      <td>4</td>\n",
       "      <td>5,000 Awesome Facts (About Everything!) (Natio...</td>\n",
       "      <td>National Geographic Kids</td>\n",
       "      <td>4.8</td>\n",
       "      <td>7665</td>\n",
       "      <td>12</td>\n",
       "      <td>2019</td>\n",
       "      <td>Non Fiction</td>\n",
       "    </tr>\n",
       "  </tbody>\n",
       "</table>\n",
       "</div>"
      ],
      "text/plain": [
       "   Unnamed: 0                                               Name  \\\n",
       "0           0                      10-Day Green Smoothie Cleanse   \n",
       "1           1                                  11/22/63: A Novel   \n",
       "2           2            12 Rules for Life: An Antidote to Chaos   \n",
       "3           3                             1984 (Signet Classics)   \n",
       "4           4  5,000 Awesome Facts (About Everything!) (Natio...   \n",
       "\n",
       "                     Author  User Rating  Reviews  Price  Year        Genre  \n",
       "0                  JJ Smith          4.7    17350      8  2016  Non Fiction  \n",
       "1              Stephen King          4.6     2052     22  2011      Fiction  \n",
       "2        Jordan B. Peterson          4.7    18979     15  2018  Non Fiction  \n",
       "3             George Orwell          4.7    21424      6  2017      Fiction  \n",
       "4  National Geographic Kids          4.8     7665     12  2019  Non Fiction  "
      ]
     },
     "execution_count": 44,
     "metadata": {},
     "output_type": "execute_result"
    }
   ],
   "source": [
    "bestseller_index_data = pd.read_csv('../Data/bestseller_books.txt', sep=';', index_col='Unnamed: 0.1')\n",
    "bestseller_index_data.head()"
   ]
  },
  {
   "cell_type": "code",
   "execution_count": 45,
   "id": "f9590b5a",
   "metadata": {},
   "outputs": [
    {
     "data": {
      "text/plain": [
       "Index([  0,   1,   2,   3,   4,   5,   6,   7,   8,   9,\n",
       "       ...\n",
       "       540, 541, 542, 543, 544, 545, 546, 547, 548, 549],\n",
       "      dtype='int64', length=550)"
      ]
     },
     "execution_count": 45,
     "metadata": {},
     "output_type": "execute_result"
    }
   ],
   "source": [
    "bestseller_index_data.index"
   ]
  },
  {
   "cell_type": "markdown",
   "id": "5f39266a",
   "metadata": {},
   "source": [
    "The `index` is crucial when subsetting your dataset using methods like `loc[]`, as it identifies the rows you want to select based on their labels."
   ]
  },
  {
   "cell_type": "code",
   "execution_count": 46,
   "id": "6f238b17",
   "metadata": {},
   "outputs": [
    {
     "data": {
      "text/html": [
       "<div>\n",
       "<style scoped>\n",
       "    .dataframe tbody tr th:only-of-type {\n",
       "        vertical-align: middle;\n",
       "    }\n",
       "\n",
       "    .dataframe tbody tr th {\n",
       "        vertical-align: top;\n",
       "    }\n",
       "\n",
       "    .dataframe thead th {\n",
       "        text-align: right;\n",
       "    }\n",
       "</style>\n",
       "<table border=\"1\" class=\"dataframe\">\n",
       "  <thead>\n",
       "    <tr style=\"text-align: right;\">\n",
       "      <th></th>\n",
       "      <th>Unnamed: 0</th>\n",
       "      <th>Name</th>\n",
       "      <th>Author</th>\n",
       "      <th>User Rating</th>\n",
       "      <th>Reviews</th>\n",
       "      <th>Price</th>\n",
       "      <th>Year</th>\n",
       "      <th>Genre</th>\n",
       "    </tr>\n",
       "  </thead>\n",
       "  <tbody>\n",
       "    <tr>\n",
       "      <th>40</th>\n",
       "      <td>40</td>\n",
       "      <td>Brown Bear, Brown Bear, What Do You See?</td>\n",
       "      <td>Bill Martin Jr.</td>\n",
       "      <td>4.9</td>\n",
       "      <td>14344</td>\n",
       "      <td>5</td>\n",
       "      <td>2017</td>\n",
       "      <td>Fiction</td>\n",
       "    </tr>\n",
       "    <tr>\n",
       "      <th>41</th>\n",
       "      <td>41</td>\n",
       "      <td>Brown Bear, Brown Bear, What Do You See?</td>\n",
       "      <td>Bill Martin Jr.</td>\n",
       "      <td>4.9</td>\n",
       "      <td>14344</td>\n",
       "      <td>5</td>\n",
       "      <td>2019</td>\n",
       "      <td>Fiction</td>\n",
       "    </tr>\n",
       "    <tr>\n",
       "      <th>81</th>\n",
       "      <td>81</td>\n",
       "      <td>Dog Man and Cat Kid: From the Creator of Capta...</td>\n",
       "      <td>Dav Pilkey</td>\n",
       "      <td>4.9</td>\n",
       "      <td>5062</td>\n",
       "      <td>6</td>\n",
       "      <td>2018</td>\n",
       "      <td>Fiction</td>\n",
       "    </tr>\n",
       "    <tr>\n",
       "      <th>82</th>\n",
       "      <td>82</td>\n",
       "      <td>Dog Man: A Tale of Two Kitties: From the Creat...</td>\n",
       "      <td>Dav Pilkey</td>\n",
       "      <td>4.9</td>\n",
       "      <td>4786</td>\n",
       "      <td>8</td>\n",
       "      <td>2017</td>\n",
       "      <td>Fiction</td>\n",
       "    </tr>\n",
       "    <tr>\n",
       "      <th>83</th>\n",
       "      <td>83</td>\n",
       "      <td>Dog Man: Brawl of the Wild: From the Creator o...</td>\n",
       "      <td>Dav Pilkey</td>\n",
       "      <td>4.9</td>\n",
       "      <td>7235</td>\n",
       "      <td>4</td>\n",
       "      <td>2018</td>\n",
       "      <td>Fiction</td>\n",
       "    </tr>\n",
       "  </tbody>\n",
       "</table>\n",
       "</div>"
      ],
      "text/plain": [
       "    Unnamed: 0                                               Name  \\\n",
       "40          40           Brown Bear, Brown Bear, What Do You See?   \n",
       "41          41           Brown Bear, Brown Bear, What Do You See?   \n",
       "81          81  Dog Man and Cat Kid: From the Creator of Capta...   \n",
       "82          82  Dog Man: A Tale of Two Kitties: From the Creat...   \n",
       "83          83  Dog Man: Brawl of the Wild: From the Creator o...   \n",
       "\n",
       "             Author  User Rating  Reviews  Price  Year    Genre  \n",
       "40  Bill Martin Jr.          4.9    14344      5  2017  Fiction  \n",
       "41  Bill Martin Jr.          4.9    14344      5  2019  Fiction  \n",
       "81       Dav Pilkey          4.9     5062      6  2018  Fiction  \n",
       "82       Dav Pilkey          4.9     4786      8  2017  Fiction  \n",
       "83       Dav Pilkey          4.9     7235      4  2018  Fiction  "
      ]
     },
     "execution_count": 46,
     "metadata": {},
     "output_type": "execute_result"
    }
   ],
   "source": [
    "# get the book that User rating is greater than 4.5\n",
    "bestseller_index_data.loc[bestseller_index_data['User Rating']== 4.9].head()\n"
   ]
  },
  {
   "cell_type": "markdown",
   "id": "1a35403c",
   "metadata": {},
   "source": [
    "Additionally, you can modify the index at any point after the DataFrame is created by using the [set_index()](https://pandas.pydata.org/docs/reference/api/pandas.DataFrame.set_index.html) function to re-index the rows based on existing column(s) of the DataFrame. "
   ]
  },
  {
   "cell_type": "code",
   "execution_count": 47,
   "id": "42348d86",
   "metadata": {},
   "outputs": [
    {
     "data": {
      "text/plain": [
       "Index([  0,   1,   2,   3,   4,   5,   6,   7,   8,   9,\n",
       "       ...\n",
       "       540, 541, 542, 543, 544, 545, 546, 547, 548, 549],\n",
       "      dtype='int64', name='Unnamed: 0.1', length=550)"
      ]
     },
     "execution_count": 47,
     "metadata": {},
     "output_type": "execute_result"
    }
   ],
   "source": [
    "bestseller_data_reindexed = bestseller_data.set_index('Unnamed: 0.1')\n",
    "bestseller_data_reindexed.index"
   ]
  },
  {
   "cell_type": "markdown",
   "id": "dcb3aa0a",
   "metadata": {},
   "source": [
    "Note that, the index column does not have to uniquely identify each row.  For example, if we need to subset data by `Author` frequently in our analysis, we can set it as our index"
   ]
  },
  {
   "cell_type": "code",
   "execution_count": 48,
   "id": "d155315b",
   "metadata": {},
   "outputs": [
    {
     "data": {
      "text/html": [
       "<div>\n",
       "<style scoped>\n",
       "    .dataframe tbody tr th:only-of-type {\n",
       "        vertical-align: middle;\n",
       "    }\n",
       "\n",
       "    .dataframe tbody tr th {\n",
       "        vertical-align: top;\n",
       "    }\n",
       "\n",
       "    .dataframe thead th {\n",
       "        text-align: right;\n",
       "    }\n",
       "</style>\n",
       "<table border=\"1\" class=\"dataframe\">\n",
       "  <thead>\n",
       "    <tr style=\"text-align: right;\">\n",
       "      <th></th>\n",
       "      <th>Unnamed: 0.1</th>\n",
       "      <th>Unnamed: 0</th>\n",
       "      <th>Name</th>\n",
       "      <th>User Rating</th>\n",
       "      <th>Reviews</th>\n",
       "      <th>Price</th>\n",
       "      <th>Year</th>\n",
       "      <th>Genre</th>\n",
       "    </tr>\n",
       "    <tr>\n",
       "      <th>Author</th>\n",
       "      <th></th>\n",
       "      <th></th>\n",
       "      <th></th>\n",
       "      <th></th>\n",
       "      <th></th>\n",
       "      <th></th>\n",
       "      <th></th>\n",
       "      <th></th>\n",
       "    </tr>\n",
       "  </thead>\n",
       "  <tbody>\n",
       "    <tr>\n",
       "      <th>Jen Sincero</th>\n",
       "      <td>546</td>\n",
       "      <td>546</td>\n",
       "      <td>You Are a Badass: How to Stop Doubting Your Gr...</td>\n",
       "      <td>4.7</td>\n",
       "      <td>14331</td>\n",
       "      <td>8</td>\n",
       "      <td>2016</td>\n",
       "      <td>Non Fiction</td>\n",
       "    </tr>\n",
       "    <tr>\n",
       "      <th>Jen Sincero</th>\n",
       "      <td>547</td>\n",
       "      <td>547</td>\n",
       "      <td>You Are a Badass: How to Stop Doubting Your Gr...</td>\n",
       "      <td>4.7</td>\n",
       "      <td>14331</td>\n",
       "      <td>8</td>\n",
       "      <td>2017</td>\n",
       "      <td>Non Fiction</td>\n",
       "    </tr>\n",
       "    <tr>\n",
       "      <th>Jen Sincero</th>\n",
       "      <td>548</td>\n",
       "      <td>548</td>\n",
       "      <td>You Are a Badass: How to Stop Doubting Your Gr...</td>\n",
       "      <td>4.7</td>\n",
       "      <td>14331</td>\n",
       "      <td>8</td>\n",
       "      <td>2018</td>\n",
       "      <td>Non Fiction</td>\n",
       "    </tr>\n",
       "    <tr>\n",
       "      <th>Jen Sincero</th>\n",
       "      <td>549</td>\n",
       "      <td>549</td>\n",
       "      <td>You Are a Badass: How to Stop Doubting Your Gr...</td>\n",
       "      <td>4.7</td>\n",
       "      <td>14331</td>\n",
       "      <td>8</td>\n",
       "      <td>2019</td>\n",
       "      <td>Non Fiction</td>\n",
       "    </tr>\n",
       "  </tbody>\n",
       "</table>\n",
       "</div>"
      ],
      "text/plain": [
       "             Unnamed: 0.1  Unnamed: 0  \\\n",
       "Author                                  \n",
       "Jen Sincero           546         546   \n",
       "Jen Sincero           547         547   \n",
       "Jen Sincero           548         548   \n",
       "Jen Sincero           549         549   \n",
       "\n",
       "                                                          Name  User Rating  \\\n",
       "Author                                                                        \n",
       "Jen Sincero  You Are a Badass: How to Stop Doubting Your Gr...          4.7   \n",
       "Jen Sincero  You Are a Badass: How to Stop Doubting Your Gr...          4.7   \n",
       "Jen Sincero  You Are a Badass: How to Stop Doubting Your Gr...          4.7   \n",
       "Jen Sincero  You Are a Badass: How to Stop Doubting Your Gr...          4.7   \n",
       "\n",
       "             Reviews  Price  Year        Genre  \n",
       "Author                                          \n",
       "Jen Sincero    14331      8  2016  Non Fiction  \n",
       "Jen Sincero    14331      8  2017  Non Fiction  \n",
       "Jen Sincero    14331      8  2018  Non Fiction  \n",
       "Jen Sincero    14331      8  2019  Non Fiction  "
      ]
     },
     "execution_count": 48,
     "metadata": {},
     "output_type": "execute_result"
    }
   ],
   "source": [
    "bestseller_author_index = bestseller_data.set_index('Author')\n",
    "bestseller_author_index.loc['Jen Sincero']\n"
   ]
  },
  {
   "cell_type": "code",
   "execution_count": 49,
   "id": "40fdb126",
   "metadata": {},
   "outputs": [
    {
     "data": {
      "text/plain": [
       "Index(['JJ Smith', 'Stephen King', 'Jordan B. Peterson', 'George Orwell',\n",
       "       'National Geographic Kids', 'George R. R. Martin',\n",
       "       'George R. R. Martin', 'Amor Towles', 'James Comey', 'Fredrik Backman',\n",
       "       ...\n",
       "       'R. J. Palacio', 'R. J. Palacio', 'R. J. Palacio', 'R. J. Palacio',\n",
       "       'R. J. Palacio', 'Jeff Kinney', 'Jen Sincero', 'Jen Sincero',\n",
       "       'Jen Sincero', 'Jen Sincero'],\n",
       "      dtype='object', name='Author', length=550)"
      ]
     },
     "execution_count": 49,
     "metadata": {},
     "output_type": "execute_result"
    }
   ],
   "source": [
    "bestseller_author_index.index"
   ]
  },
  {
   "cell_type": "markdown",
   "id": "a15ae601",
   "metadata": {},
   "source": [
    "You can revert it back to a default index using `reset_index()`. It converts the current index into a regular column and resets the index to a default integer sequence."
   ]
  },
  {
   "cell_type": "code",
   "execution_count": 50,
   "id": "fff78969",
   "metadata": {},
   "outputs": [
    {
     "data": {
      "text/html": [
       "<div>\n",
       "<style scoped>\n",
       "    .dataframe tbody tr th:only-of-type {\n",
       "        vertical-align: middle;\n",
       "    }\n",
       "\n",
       "    .dataframe tbody tr th {\n",
       "        vertical-align: top;\n",
       "    }\n",
       "\n",
       "    .dataframe thead th {\n",
       "        text-align: right;\n",
       "    }\n",
       "</style>\n",
       "<table border=\"1\" class=\"dataframe\">\n",
       "  <thead>\n",
       "    <tr style=\"text-align: right;\">\n",
       "      <th></th>\n",
       "      <th>Author</th>\n",
       "      <th>Unnamed: 0.1</th>\n",
       "      <th>Unnamed: 0</th>\n",
       "      <th>Name</th>\n",
       "      <th>User Rating</th>\n",
       "      <th>Reviews</th>\n",
       "      <th>Price</th>\n",
       "      <th>Year</th>\n",
       "      <th>Genre</th>\n",
       "    </tr>\n",
       "  </thead>\n",
       "  <tbody>\n",
       "    <tr>\n",
       "      <th>0</th>\n",
       "      <td>JJ Smith</td>\n",
       "      <td>0</td>\n",
       "      <td>0</td>\n",
       "      <td>10-Day Green Smoothie Cleanse</td>\n",
       "      <td>4.7</td>\n",
       "      <td>17350</td>\n",
       "      <td>8</td>\n",
       "      <td>2016</td>\n",
       "      <td>Non Fiction</td>\n",
       "    </tr>\n",
       "    <tr>\n",
       "      <th>1</th>\n",
       "      <td>Stephen King</td>\n",
       "      <td>1</td>\n",
       "      <td>1</td>\n",
       "      <td>11/22/63: A Novel</td>\n",
       "      <td>4.6</td>\n",
       "      <td>2052</td>\n",
       "      <td>22</td>\n",
       "      <td>2011</td>\n",
       "      <td>Fiction</td>\n",
       "    </tr>\n",
       "    <tr>\n",
       "      <th>2</th>\n",
       "      <td>Jordan B. Peterson</td>\n",
       "      <td>2</td>\n",
       "      <td>2</td>\n",
       "      <td>12 Rules for Life: An Antidote to Chaos</td>\n",
       "      <td>4.7</td>\n",
       "      <td>18979</td>\n",
       "      <td>15</td>\n",
       "      <td>2018</td>\n",
       "      <td>Non Fiction</td>\n",
       "    </tr>\n",
       "    <tr>\n",
       "      <th>3</th>\n",
       "      <td>George Orwell</td>\n",
       "      <td>3</td>\n",
       "      <td>3</td>\n",
       "      <td>1984 (Signet Classics)</td>\n",
       "      <td>4.7</td>\n",
       "      <td>21424</td>\n",
       "      <td>6</td>\n",
       "      <td>2017</td>\n",
       "      <td>Fiction</td>\n",
       "    </tr>\n",
       "    <tr>\n",
       "      <th>4</th>\n",
       "      <td>National Geographic Kids</td>\n",
       "      <td>4</td>\n",
       "      <td>4</td>\n",
       "      <td>5,000 Awesome Facts (About Everything!) (Natio...</td>\n",
       "      <td>4.8</td>\n",
       "      <td>7665</td>\n",
       "      <td>12</td>\n",
       "      <td>2019</td>\n",
       "      <td>Non Fiction</td>\n",
       "    </tr>\n",
       "    <tr>\n",
       "      <th>...</th>\n",
       "      <td>...</td>\n",
       "      <td>...</td>\n",
       "      <td>...</td>\n",
       "      <td>...</td>\n",
       "      <td>...</td>\n",
       "      <td>...</td>\n",
       "      <td>...</td>\n",
       "      <td>...</td>\n",
       "      <td>...</td>\n",
       "    </tr>\n",
       "    <tr>\n",
       "      <th>545</th>\n",
       "      <td>Jeff Kinney</td>\n",
       "      <td>545</td>\n",
       "      <td>545</td>\n",
       "      <td>Wrecking Ball (Diary of a Wimpy Kid Book 14)</td>\n",
       "      <td>4.9</td>\n",
       "      <td>9413</td>\n",
       "      <td>8</td>\n",
       "      <td>2019</td>\n",
       "      <td>Fiction</td>\n",
       "    </tr>\n",
       "    <tr>\n",
       "      <th>546</th>\n",
       "      <td>Jen Sincero</td>\n",
       "      <td>546</td>\n",
       "      <td>546</td>\n",
       "      <td>You Are a Badass: How to Stop Doubting Your Gr...</td>\n",
       "      <td>4.7</td>\n",
       "      <td>14331</td>\n",
       "      <td>8</td>\n",
       "      <td>2016</td>\n",
       "      <td>Non Fiction</td>\n",
       "    </tr>\n",
       "    <tr>\n",
       "      <th>547</th>\n",
       "      <td>Jen Sincero</td>\n",
       "      <td>547</td>\n",
       "      <td>547</td>\n",
       "      <td>You Are a Badass: How to Stop Doubting Your Gr...</td>\n",
       "      <td>4.7</td>\n",
       "      <td>14331</td>\n",
       "      <td>8</td>\n",
       "      <td>2017</td>\n",
       "      <td>Non Fiction</td>\n",
       "    </tr>\n",
       "    <tr>\n",
       "      <th>548</th>\n",
       "      <td>Jen Sincero</td>\n",
       "      <td>548</td>\n",
       "      <td>548</td>\n",
       "      <td>You Are a Badass: How to Stop Doubting Your Gr...</td>\n",
       "      <td>4.7</td>\n",
       "      <td>14331</td>\n",
       "      <td>8</td>\n",
       "      <td>2018</td>\n",
       "      <td>Non Fiction</td>\n",
       "    </tr>\n",
       "    <tr>\n",
       "      <th>549</th>\n",
       "      <td>Jen Sincero</td>\n",
       "      <td>549</td>\n",
       "      <td>549</td>\n",
       "      <td>You Are a Badass: How to Stop Doubting Your Gr...</td>\n",
       "      <td>4.7</td>\n",
       "      <td>14331</td>\n",
       "      <td>8</td>\n",
       "      <td>2019</td>\n",
       "      <td>Non Fiction</td>\n",
       "    </tr>\n",
       "  </tbody>\n",
       "</table>\n",
       "<p>550 rows × 9 columns</p>\n",
       "</div>"
      ],
      "text/plain": [
       "                       Author  Unnamed: 0.1  Unnamed: 0  \\\n",
       "0                    JJ Smith             0           0   \n",
       "1                Stephen King             1           1   \n",
       "2          Jordan B. Peterson             2           2   \n",
       "3               George Orwell             3           3   \n",
       "4    National Geographic Kids             4           4   \n",
       "..                        ...           ...         ...   \n",
       "545               Jeff Kinney           545         545   \n",
       "546               Jen Sincero           546         546   \n",
       "547               Jen Sincero           547         547   \n",
       "548               Jen Sincero           548         548   \n",
       "549               Jen Sincero           549         549   \n",
       "\n",
       "                                                  Name  User Rating  Reviews  \\\n",
       "0                        10-Day Green Smoothie Cleanse          4.7    17350   \n",
       "1                                    11/22/63: A Novel          4.6     2052   \n",
       "2              12 Rules for Life: An Antidote to Chaos          4.7    18979   \n",
       "3                               1984 (Signet Classics)          4.7    21424   \n",
       "4    5,000 Awesome Facts (About Everything!) (Natio...          4.8     7665   \n",
       "..                                                 ...          ...      ...   \n",
       "545       Wrecking Ball (Diary of a Wimpy Kid Book 14)          4.9     9413   \n",
       "546  You Are a Badass: How to Stop Doubting Your Gr...          4.7    14331   \n",
       "547  You Are a Badass: How to Stop Doubting Your Gr...          4.7    14331   \n",
       "548  You Are a Badass: How to Stop Doubting Your Gr...          4.7    14331   \n",
       "549  You Are a Badass: How to Stop Doubting Your Gr...          4.7    14331   \n",
       "\n",
       "     Price  Year        Genre  \n",
       "0        8  2016  Non Fiction  \n",
       "1       22  2011      Fiction  \n",
       "2       15  2018  Non Fiction  \n",
       "3        6  2017      Fiction  \n",
       "4       12  2019  Non Fiction  \n",
       "..     ...   ...          ...  \n",
       "545      8  2019      Fiction  \n",
       "546      8  2016  Non Fiction  \n",
       "547      8  2017  Non Fiction  \n",
       "548      8  2018  Non Fiction  \n",
       "549      8  2019  Non Fiction  \n",
       "\n",
       "[550 rows x 9 columns]"
      ]
     },
     "execution_count": 50,
     "metadata": {},
     "output_type": "execute_result"
    }
   ],
   "source": [
    "bestseller_author_index.reset_index()"
   ]
  },
  {
   "cell_type": "markdown",
   "id": "f9c5039c",
   "metadata": {},
   "source": [
    "In summary, the index is a powerful feature of pandas for organizing and accessing data, and it can be set, changed, or reset as needed to suit your data analysis.\n",
    "\n",
    "Later, you will learn about **hierarchical indexing**, which allows you to create multi-level indices by passing multiple columns."
   ]
  },
  {
   "cell_type": "markdown",
   "id": "0cedb3bb",
   "metadata": {},
   "source": [
    "### Dropping a column\n",
    "\n",
    "\n",
    "In pandas, you can drop a column from a DataFrame using the drop() method. This is useful when you want to remove columns that are redundant or when you want to simplify your DataFrame by excluding unnecessary data.\n",
    "```\n",
    "df.drop(columns='column_name')\n",
    "df.drop(columns= ['col_1', 'col_2'])\n",
    "```\n",
    "\n"
   ]
  },
  {
   "cell_type": "code",
   "execution_count": 52,
   "id": "1b53084c",
   "metadata": {},
   "outputs": [
    {
     "data": {
      "text/html": [
       "<div>\n",
       "<style scoped>\n",
       "    .dataframe tbody tr th:only-of-type {\n",
       "        vertical-align: middle;\n",
       "    }\n",
       "\n",
       "    .dataframe tbody tr th {\n",
       "        vertical-align: top;\n",
       "    }\n",
       "\n",
       "    .dataframe thead th {\n",
       "        text-align: right;\n",
       "    }\n",
       "</style>\n",
       "<table border=\"1\" class=\"dataframe\">\n",
       "  <thead>\n",
       "    <tr style=\"text-align: right;\">\n",
       "      <th></th>\n",
       "      <th>Name</th>\n",
       "      <th>Author</th>\n",
       "      <th>User Rating</th>\n",
       "      <th>Reviews</th>\n",
       "      <th>Price</th>\n",
       "      <th>Year</th>\n",
       "      <th>Genre</th>\n",
       "    </tr>\n",
       "  </thead>\n",
       "  <tbody>\n",
       "    <tr>\n",
       "      <th>0</th>\n",
       "      <td>10-Day Green Smoothie Cleanse</td>\n",
       "      <td>JJ Smith</td>\n",
       "      <td>4.7</td>\n",
       "      <td>17350</td>\n",
       "      <td>8</td>\n",
       "      <td>2016</td>\n",
       "      <td>Non Fiction</td>\n",
       "    </tr>\n",
       "    <tr>\n",
       "      <th>1</th>\n",
       "      <td>11/22/63: A Novel</td>\n",
       "      <td>Stephen King</td>\n",
       "      <td>4.6</td>\n",
       "      <td>2052</td>\n",
       "      <td>22</td>\n",
       "      <td>2011</td>\n",
       "      <td>Fiction</td>\n",
       "    </tr>\n",
       "    <tr>\n",
       "      <th>2</th>\n",
       "      <td>12 Rules for Life: An Antidote to Chaos</td>\n",
       "      <td>Jordan B. Peterson</td>\n",
       "      <td>4.7</td>\n",
       "      <td>18979</td>\n",
       "      <td>15</td>\n",
       "      <td>2018</td>\n",
       "      <td>Non Fiction</td>\n",
       "    </tr>\n",
       "    <tr>\n",
       "      <th>3</th>\n",
       "      <td>1984 (Signet Classics)</td>\n",
       "      <td>George Orwell</td>\n",
       "      <td>4.7</td>\n",
       "      <td>21424</td>\n",
       "      <td>6</td>\n",
       "      <td>2017</td>\n",
       "      <td>Fiction</td>\n",
       "    </tr>\n",
       "    <tr>\n",
       "      <th>4</th>\n",
       "      <td>5,000 Awesome Facts (About Everything!) (Natio...</td>\n",
       "      <td>National Geographic Kids</td>\n",
       "      <td>4.8</td>\n",
       "      <td>7665</td>\n",
       "      <td>12</td>\n",
       "      <td>2019</td>\n",
       "      <td>Non Fiction</td>\n",
       "    </tr>\n",
       "  </tbody>\n",
       "</table>\n",
       "</div>"
      ],
      "text/plain": [
       "                                                Name  \\\n",
       "0                      10-Day Green Smoothie Cleanse   \n",
       "1                                  11/22/63: A Novel   \n",
       "2            12 Rules for Life: An Antidote to Chaos   \n",
       "3                             1984 (Signet Classics)   \n",
       "4  5,000 Awesome Facts (About Everything!) (Natio...   \n",
       "\n",
       "                     Author  User Rating  Reviews  Price  Year        Genre  \n",
       "0                  JJ Smith          4.7    17350      8  2016  Non Fiction  \n",
       "1              Stephen King          4.6     2052     22  2011      Fiction  \n",
       "2        Jordan B. Peterson          4.7    18979     15  2018  Non Fiction  \n",
       "3             George Orwell          4.7    21424      6  2017      Fiction  \n",
       "4  National Geographic Kids          4.8     7665     12  2019  Non Fiction  "
      ]
     },
     "execution_count": 52,
     "metadata": {},
     "output_type": "execute_result"
    }
   ],
   "source": [
    "# drop the repeated rows in the bestseller dataframe\n",
    "bestseller_df = bestseller_index_data.drop(columns = 'Unnamed: 0')\n",
    "bestseller_df.head()"
   ]
  },
  {
   "cell_type": "code",
   "execution_count": 53,
   "id": "9ce9b405",
   "metadata": {},
   "outputs": [
    {
     "data": {
      "text/html": [
       "<div>\n",
       "<style scoped>\n",
       "    .dataframe tbody tr th:only-of-type {\n",
       "        vertical-align: middle;\n",
       "    }\n",
       "\n",
       "    .dataframe tbody tr th {\n",
       "        vertical-align: top;\n",
       "    }\n",
       "\n",
       "    .dataframe thead th {\n",
       "        text-align: right;\n",
       "    }\n",
       "</style>\n",
       "<table border=\"1\" class=\"dataframe\">\n",
       "  <thead>\n",
       "    <tr style=\"text-align: right;\">\n",
       "      <th></th>\n",
       "      <th>Name</th>\n",
       "      <th>Author</th>\n",
       "      <th>User Rating</th>\n",
       "      <th>Reviews</th>\n",
       "      <th>Price</th>\n",
       "      <th>Year</th>\n",
       "      <th>Genre</th>\n",
       "    </tr>\n",
       "  </thead>\n",
       "  <tbody>\n",
       "    <tr>\n",
       "      <th>0</th>\n",
       "      <td>10-Day Green Smoothie Cleanse</td>\n",
       "      <td>JJ Smith</td>\n",
       "      <td>4.7</td>\n",
       "      <td>17350</td>\n",
       "      <td>8</td>\n",
       "      <td>2016</td>\n",
       "      <td>Non Fiction</td>\n",
       "    </tr>\n",
       "    <tr>\n",
       "      <th>1</th>\n",
       "      <td>11/22/63: A Novel</td>\n",
       "      <td>Stephen King</td>\n",
       "      <td>4.6</td>\n",
       "      <td>2052</td>\n",
       "      <td>22</td>\n",
       "      <td>2011</td>\n",
       "      <td>Fiction</td>\n",
       "    </tr>\n",
       "    <tr>\n",
       "      <th>2</th>\n",
       "      <td>12 Rules for Life: An Antidote to Chaos</td>\n",
       "      <td>Jordan B. Peterson</td>\n",
       "      <td>4.7</td>\n",
       "      <td>18979</td>\n",
       "      <td>15</td>\n",
       "      <td>2018</td>\n",
       "      <td>Non Fiction</td>\n",
       "    </tr>\n",
       "    <tr>\n",
       "      <th>3</th>\n",
       "      <td>1984 (Signet Classics)</td>\n",
       "      <td>George Orwell</td>\n",
       "      <td>4.7</td>\n",
       "      <td>21424</td>\n",
       "      <td>6</td>\n",
       "      <td>2017</td>\n",
       "      <td>Fiction</td>\n",
       "    </tr>\n",
       "    <tr>\n",
       "      <th>4</th>\n",
       "      <td>5,000 Awesome Facts (About Everything!) (Natio...</td>\n",
       "      <td>National Geographic Kids</td>\n",
       "      <td>4.8</td>\n",
       "      <td>7665</td>\n",
       "      <td>12</td>\n",
       "      <td>2019</td>\n",
       "      <td>Non Fiction</td>\n",
       "    </tr>\n",
       "  </tbody>\n",
       "</table>\n",
       "</div>"
      ],
      "text/plain": [
       "                                                Name  \\\n",
       "0                      10-Day Green Smoothie Cleanse   \n",
       "1                                  11/22/63: A Novel   \n",
       "2            12 Rules for Life: An Antidote to Chaos   \n",
       "3                             1984 (Signet Classics)   \n",
       "4  5,000 Awesome Facts (About Everything!) (Natio...   \n",
       "\n",
       "                     Author  User Rating  Reviews  Price  Year        Genre  \n",
       "0                  JJ Smith          4.7    17350      8  2016  Non Fiction  \n",
       "1              Stephen King          4.6     2052     22  2011      Fiction  \n",
       "2        Jordan B. Peterson          4.7    18979     15  2018  Non Fiction  \n",
       "3             George Orwell          4.7    21424      6  2017      Fiction  \n",
       "4  National Geographic Kids          4.8     7665     12  2019  Non Fiction  "
      ]
     },
     "execution_count": 53,
     "metadata": {},
     "output_type": "execute_result"
    }
   ],
   "source": [
    "# another way to drop the column\n",
    "bestseller_index_data.drop('Unnamed: 0', axis=1).head()"
   ]
  },
  {
   "cell_type": "markdown",
   "id": "8089937e",
   "metadata": {},
   "source": [
    "### Adding a column\n",
    "\n",
    "In a DataFrame, it’s common to create new columns based on existing columns for analysis or prediction purposes. If the column name you specify does not already exist, a new column will be added to the DataFrame. If the column name already exists, the new values will overwrite the existing column.\n",
    "\n",
    "Let's classify books based on their user rating "
   ]
  },
  {
   "cell_type": "code",
   "execution_count": 54,
   "id": "2cedec95",
   "metadata": {},
   "outputs": [],
   "source": [
    "def classify_rating(rating):\n",
    "    if rating >= 4.5:\n",
    "        return 'Highly Rated'\n",
    "    elif 3.0 <= rating < 4.5:\n",
    "        return 'Moderately Rated'\n",
    "    else:\n",
    "        return 'Low Rated'"
   ]
  },
  {
   "cell_type": "code",
   "execution_count": 86,
   "id": "c7a4fc29",
   "metadata": {},
   "outputs": [
    {
     "data": {
      "text/html": [
       "<div>\n",
       "<style scoped>\n",
       "    .dataframe tbody tr th:only-of-type {\n",
       "        vertical-align: middle;\n",
       "    }\n",
       "\n",
       "    .dataframe tbody tr th {\n",
       "        vertical-align: top;\n",
       "    }\n",
       "\n",
       "    .dataframe thead th {\n",
       "        text-align: right;\n",
       "    }\n",
       "</style>\n",
       "<table border=\"1\" class=\"dataframe\">\n",
       "  <thead>\n",
       "    <tr style=\"text-align: right;\">\n",
       "      <th></th>\n",
       "      <th>Name</th>\n",
       "      <th>Author</th>\n",
       "      <th>User Rating</th>\n",
       "      <th>Reviews</th>\n",
       "      <th>Price</th>\n",
       "      <th>Year</th>\n",
       "      <th>Genre</th>\n",
       "      <th>rating_class</th>\n",
       "      <th>Rating_class</th>\n",
       "      <th>Rating_Class</th>\n",
       "    </tr>\n",
       "  </thead>\n",
       "  <tbody>\n",
       "    <tr>\n",
       "      <th>0</th>\n",
       "      <td>10-Day Green Smoothie Cleanse</td>\n",
       "      <td>JJ Smith</td>\n",
       "      <td>4.7</td>\n",
       "      <td>17350</td>\n",
       "      <td>8</td>\n",
       "      <td>2016</td>\n",
       "      <td>Non Fiction</td>\n",
       "      <td>Highly Rated</td>\n",
       "      <td>Highly Rated</td>\n",
       "      <td>Highly Rated</td>\n",
       "    </tr>\n",
       "    <tr>\n",
       "      <th>1</th>\n",
       "      <td>11/22/63: A Novel</td>\n",
       "      <td>Stephen King</td>\n",
       "      <td>4.6</td>\n",
       "      <td>2052</td>\n",
       "      <td>22</td>\n",
       "      <td>2011</td>\n",
       "      <td>Fiction</td>\n",
       "      <td>Highly Rated</td>\n",
       "      <td>Highly Rated</td>\n",
       "      <td>Highly Rated</td>\n",
       "    </tr>\n",
       "    <tr>\n",
       "      <th>2</th>\n",
       "      <td>12 Rules for Life: An Antidote to Chaos</td>\n",
       "      <td>Jordan B. Peterson</td>\n",
       "      <td>4.7</td>\n",
       "      <td>18979</td>\n",
       "      <td>15</td>\n",
       "      <td>2018</td>\n",
       "      <td>Non Fiction</td>\n",
       "      <td>Highly Rated</td>\n",
       "      <td>Highly Rated</td>\n",
       "      <td>Highly Rated</td>\n",
       "    </tr>\n",
       "    <tr>\n",
       "      <th>3</th>\n",
       "      <td>1984 (Signet Classics)</td>\n",
       "      <td>George Orwell</td>\n",
       "      <td>4.7</td>\n",
       "      <td>21424</td>\n",
       "      <td>6</td>\n",
       "      <td>2017</td>\n",
       "      <td>Fiction</td>\n",
       "      <td>Highly Rated</td>\n",
       "      <td>Highly Rated</td>\n",
       "      <td>Highly Rated</td>\n",
       "    </tr>\n",
       "    <tr>\n",
       "      <th>4</th>\n",
       "      <td>5,000 Awesome Facts (About Everything!) (Natio...</td>\n",
       "      <td>National Geographic Kids</td>\n",
       "      <td>4.8</td>\n",
       "      <td>7665</td>\n",
       "      <td>12</td>\n",
       "      <td>2019</td>\n",
       "      <td>Non Fiction</td>\n",
       "      <td>Highly Rated</td>\n",
       "      <td>Highly Rated</td>\n",
       "      <td>Highly Rated</td>\n",
       "    </tr>\n",
       "  </tbody>\n",
       "</table>\n",
       "</div>"
      ],
      "text/plain": [
       "                                                Name  \\\n",
       "0                      10-Day Green Smoothie Cleanse   \n",
       "1                                  11/22/63: A Novel   \n",
       "2            12 Rules for Life: An Antidote to Chaos   \n",
       "3                             1984 (Signet Classics)   \n",
       "4  5,000 Awesome Facts (About Everything!) (Natio...   \n",
       "\n",
       "                     Author  User Rating  Reviews  Price  Year        Genre  \\\n",
       "0                  JJ Smith          4.7    17350      8  2016  Non Fiction   \n",
       "1              Stephen King          4.6     2052     22  2011      Fiction   \n",
       "2        Jordan B. Peterson          4.7    18979     15  2018  Non Fiction   \n",
       "3             George Orwell          4.7    21424      6  2017      Fiction   \n",
       "4  National Geographic Kids          4.8     7665     12  2019  Non Fiction   \n",
       "\n",
       "   rating_class  Rating_class  Rating_Class  \n",
       "0  Highly Rated  Highly Rated  Highly Rated  \n",
       "1  Highly Rated  Highly Rated  Highly Rated  \n",
       "2  Highly Rated  Highly Rated  Highly Rated  \n",
       "3  Highly Rated  Highly Rated  Highly Rated  \n",
       "4  Highly Rated  Highly Rated  Highly Rated  "
      ]
     },
     "execution_count": 86,
     "metadata": {},
     "output_type": "execute_result"
    }
   ],
   "source": [
    "bestseller_df['Rating_Class'] = bestseller_df['User Rating'].apply(classify_rating)\n",
    "\n",
    "bestseller_df.head()"
   ]
  },
  {
   "cell_type": "markdown",
   "id": "4fcb3a26",
   "metadata": {},
   "source": [
    "### Renaming a column\n",
    "\n",
    "To rename a column in a pandas DataFrame, you can use the `rename()` method. .\n",
    "\n",
    "* Renaming a single column\n",
    "```\n",
    "df.rename(columns={'old_name': 'new_name'}, inplace=False)\n",
    "```\n"
   ]
  },
  {
   "cell_type": "code",
   "execution_count": 55,
   "id": "6d7fd80a",
   "metadata": {},
   "outputs": [
    {
     "data": {
      "text/html": [
       "<div>\n",
       "<style scoped>\n",
       "    .dataframe tbody tr th:only-of-type {\n",
       "        vertical-align: middle;\n",
       "    }\n",
       "\n",
       "    .dataframe tbody tr th {\n",
       "        vertical-align: top;\n",
       "    }\n",
       "\n",
       "    .dataframe thead th {\n",
       "        text-align: right;\n",
       "    }\n",
       "</style>\n",
       "<table border=\"1\" class=\"dataframe\">\n",
       "  <thead>\n",
       "    <tr style=\"text-align: right;\">\n",
       "      <th></th>\n",
       "      <th>Name</th>\n",
       "      <th>Author</th>\n",
       "      <th>User Rating</th>\n",
       "      <th>Reviews</th>\n",
       "      <th>Price</th>\n",
       "      <th>Publication Year</th>\n",
       "      <th>Genre</th>\n",
       "    </tr>\n",
       "  </thead>\n",
       "  <tbody>\n",
       "    <tr>\n",
       "      <th>0</th>\n",
       "      <td>10-Day Green Smoothie Cleanse</td>\n",
       "      <td>JJ Smith</td>\n",
       "      <td>4.7</td>\n",
       "      <td>17350</td>\n",
       "      <td>8</td>\n",
       "      <td>2016</td>\n",
       "      <td>Non Fiction</td>\n",
       "    </tr>\n",
       "    <tr>\n",
       "      <th>1</th>\n",
       "      <td>11/22/63: A Novel</td>\n",
       "      <td>Stephen King</td>\n",
       "      <td>4.6</td>\n",
       "      <td>2052</td>\n",
       "      <td>22</td>\n",
       "      <td>2011</td>\n",
       "      <td>Fiction</td>\n",
       "    </tr>\n",
       "    <tr>\n",
       "      <th>2</th>\n",
       "      <td>12 Rules for Life: An Antidote to Chaos</td>\n",
       "      <td>Jordan B. Peterson</td>\n",
       "      <td>4.7</td>\n",
       "      <td>18979</td>\n",
       "      <td>15</td>\n",
       "      <td>2018</td>\n",
       "      <td>Non Fiction</td>\n",
       "    </tr>\n",
       "    <tr>\n",
       "      <th>3</th>\n",
       "      <td>1984 (Signet Classics)</td>\n",
       "      <td>George Orwell</td>\n",
       "      <td>4.7</td>\n",
       "      <td>21424</td>\n",
       "      <td>6</td>\n",
       "      <td>2017</td>\n",
       "      <td>Fiction</td>\n",
       "    </tr>\n",
       "    <tr>\n",
       "      <th>4</th>\n",
       "      <td>5,000 Awesome Facts (About Everything!) (Natio...</td>\n",
       "      <td>National Geographic Kids</td>\n",
       "      <td>4.8</td>\n",
       "      <td>7665</td>\n",
       "      <td>12</td>\n",
       "      <td>2019</td>\n",
       "      <td>Non Fiction</td>\n",
       "    </tr>\n",
       "  </tbody>\n",
       "</table>\n",
       "</div>"
      ],
      "text/plain": [
       "                                                Name  \\\n",
       "0                      10-Day Green Smoothie Cleanse   \n",
       "1                                  11/22/63: A Novel   \n",
       "2            12 Rules for Life: An Antidote to Chaos   \n",
       "3                             1984 (Signet Classics)   \n",
       "4  5,000 Awesome Facts (About Everything!) (Natio...   \n",
       "\n",
       "                     Author  User Rating  Reviews  Price  Publication Year  \\\n",
       "0                  JJ Smith          4.7    17350      8              2016   \n",
       "1              Stephen King          4.6     2052     22              2011   \n",
       "2        Jordan B. Peterson          4.7    18979     15              2018   \n",
       "3             George Orwell          4.7    21424      6              2017   \n",
       "4  National Geographic Kids          4.8     7665     12              2019   \n",
       "\n",
       "         Genre  \n",
       "0  Non Fiction  \n",
       "1      Fiction  \n",
       "2  Non Fiction  \n",
       "3      Fiction  \n",
       "4  Non Fiction  "
      ]
     },
     "execution_count": 55,
     "metadata": {},
     "output_type": "execute_result"
    }
   ],
   "source": [
    "# rename Year to Publication Year\n",
    "bestseller_df.rename(columns={'Year':'Publication Year'}, inplace=True)\n",
    "bestseller_df.head()"
   ]
  },
  {
   "cell_type": "markdown",
   "id": "96a74c52",
   "metadata": {},
   "source": [
    "* Renameing multiple columns\n",
    "\n",
    "Specifying a dictionary that maps old column names to new one\n",
    "\n",
    "```\n",
    "df_renamed_multiple = df.rename(columns={'col1': 'new_col1', 'col2': 'new_col2'})\n",
    "```"
   ]
  },
  {
   "cell_type": "code",
   "execution_count": 56,
   "id": "d9bbec0d",
   "metadata": {},
   "outputs": [
    {
     "data": {
      "text/html": [
       "<div>\n",
       "<style scoped>\n",
       "    .dataframe tbody tr th:only-of-type {\n",
       "        vertical-align: middle;\n",
       "    }\n",
       "\n",
       "    .dataframe tbody tr th {\n",
       "        vertical-align: top;\n",
       "    }\n",
       "\n",
       "    .dataframe thead th {\n",
       "        text-align: right;\n",
       "    }\n",
       "</style>\n",
       "<table border=\"1\" class=\"dataframe\">\n",
       "  <thead>\n",
       "    <tr style=\"text-align: right;\">\n",
       "      <th></th>\n",
       "      <th>Book Name</th>\n",
       "      <th>Writer</th>\n",
       "      <th>User Rating</th>\n",
       "      <th>Reviews</th>\n",
       "      <th>Price</th>\n",
       "      <th>Publication Year</th>\n",
       "      <th>Genre</th>\n",
       "    </tr>\n",
       "  </thead>\n",
       "  <tbody>\n",
       "    <tr>\n",
       "      <th>0</th>\n",
       "      <td>10-Day Green Smoothie Cleanse</td>\n",
       "      <td>JJ Smith</td>\n",
       "      <td>4.7</td>\n",
       "      <td>17350</td>\n",
       "      <td>8</td>\n",
       "      <td>2016</td>\n",
       "      <td>Non Fiction</td>\n",
       "    </tr>\n",
       "    <tr>\n",
       "      <th>1</th>\n",
       "      <td>11/22/63: A Novel</td>\n",
       "      <td>Stephen King</td>\n",
       "      <td>4.6</td>\n",
       "      <td>2052</td>\n",
       "      <td>22</td>\n",
       "      <td>2011</td>\n",
       "      <td>Fiction</td>\n",
       "    </tr>\n",
       "    <tr>\n",
       "      <th>2</th>\n",
       "      <td>12 Rules for Life: An Antidote to Chaos</td>\n",
       "      <td>Jordan B. Peterson</td>\n",
       "      <td>4.7</td>\n",
       "      <td>18979</td>\n",
       "      <td>15</td>\n",
       "      <td>2018</td>\n",
       "      <td>Non Fiction</td>\n",
       "    </tr>\n",
       "    <tr>\n",
       "      <th>3</th>\n",
       "      <td>1984 (Signet Classics)</td>\n",
       "      <td>George Orwell</td>\n",
       "      <td>4.7</td>\n",
       "      <td>21424</td>\n",
       "      <td>6</td>\n",
       "      <td>2017</td>\n",
       "      <td>Fiction</td>\n",
       "    </tr>\n",
       "    <tr>\n",
       "      <th>4</th>\n",
       "      <td>5,000 Awesome Facts (About Everything!) (Natio...</td>\n",
       "      <td>National Geographic Kids</td>\n",
       "      <td>4.8</td>\n",
       "      <td>7665</td>\n",
       "      <td>12</td>\n",
       "      <td>2019</td>\n",
       "      <td>Non Fiction</td>\n",
       "    </tr>\n",
       "  </tbody>\n",
       "</table>\n",
       "</div>"
      ],
      "text/plain": [
       "                                           Book Name  \\\n",
       "0                      10-Day Green Smoothie Cleanse   \n",
       "1                                  11/22/63: A Novel   \n",
       "2            12 Rules for Life: An Antidote to Chaos   \n",
       "3                             1984 (Signet Classics)   \n",
       "4  5,000 Awesome Facts (About Everything!) (Natio...   \n",
       "\n",
       "                     Writer  User Rating  Reviews  Price  Publication Year  \\\n",
       "0                  JJ Smith          4.7    17350      8              2016   \n",
       "1              Stephen King          4.6     2052     22              2011   \n",
       "2        Jordan B. Peterson          4.7    18979     15              2018   \n",
       "3             George Orwell          4.7    21424      6              2017   \n",
       "4  National Geographic Kids          4.8     7665     12              2019   \n",
       "\n",
       "         Genre  \n",
       "0  Non Fiction  \n",
       "1      Fiction  \n",
       "2  Non Fiction  \n",
       "3      Fiction  \n",
       "4  Non Fiction  "
      ]
     },
     "execution_count": 56,
     "metadata": {},
     "output_type": "execute_result"
    }
   ],
   "source": [
    "# rename Name to Book Name, and Author to Writer\n",
    "bestseller_df.rename(columns={'Name':'Book Name', 'Author':'Writer'}, inplace=True)\n",
    "bestseller_df.head()"
   ]
  },
  {
   "cell_type": "markdown",
   "id": "7e0c9145",
   "metadata": {},
   "source": [
    "### Sorting data"
   ]
  },
  {
   "cell_type": "markdown",
   "id": "77f73991",
   "metadata": {},
   "source": [
    "Sorting dataset is a very common operation. The [sort_values()](https://pandas.pydata.org/docs/reference/api/pandas.DataFrame.sort_values.html) function of Pandas can be used to sort a Pandas DataFrame or Series. Let us sort the spotify data in decreasing order of *track_popularity*:"
   ]
  },
  {
   "cell_type": "code",
   "execution_count": null,
   "id": "66be40d1",
   "metadata": {},
   "outputs": [
    {
     "data": {
      "text/html": [
       "<div>\n",
       "<style scoped>\n",
       "    .dataframe tbody tr th:only-of-type {\n",
       "        vertical-align: middle;\n",
       "    }\n",
       "\n",
       "    .dataframe tbody tr th {\n",
       "        vertical-align: top;\n",
       "    }\n",
       "\n",
       "    .dataframe thead th {\n",
       "        text-align: right;\n",
       "    }\n",
       "</style>\n",
       "<table border=\"1\" class=\"dataframe\">\n",
       "  <thead>\n",
       "    <tr style=\"text-align: right;\">\n",
       "      <th></th>\n",
       "      <th>Unnamed: 0</th>\n",
       "      <th>Name</th>\n",
       "      <th>Author</th>\n",
       "      <th>User Rating</th>\n",
       "      <th>Reviews</th>\n",
       "      <th>Price</th>\n",
       "      <th>Year</th>\n",
       "      <th>Genre</th>\n",
       "    </tr>\n",
       "  </thead>\n",
       "  <tbody>\n",
       "    <tr>\n",
       "      <th>521</th>\n",
       "      <td>521</td>\n",
       "      <td>Unfreedom of the Press</td>\n",
       "      <td>Mark R. Levin</td>\n",
       "      <td>4.9</td>\n",
       "      <td>5956</td>\n",
       "      <td>11</td>\n",
       "      <td>2019</td>\n",
       "      <td>Non Fiction</td>\n",
       "    </tr>\n",
       "    <tr>\n",
       "      <th>420</th>\n",
       "      <td>420</td>\n",
       "      <td>The Legend of Zelda: Hyrule Historia</td>\n",
       "      <td>Patrick Thorpe</td>\n",
       "      <td>4.9</td>\n",
       "      <td>5396</td>\n",
       "      <td>20</td>\n",
       "      <td>2013</td>\n",
       "      <td>Fiction</td>\n",
       "    </tr>\n",
       "    <tr>\n",
       "      <th>248</th>\n",
       "      <td>248</td>\n",
       "      <td>Oh, the Places You'll Go!</td>\n",
       "      <td>Dr. Seuss</td>\n",
       "      <td>4.9</td>\n",
       "      <td>21834</td>\n",
       "      <td>8</td>\n",
       "      <td>2015</td>\n",
       "      <td>Fiction</td>\n",
       "    </tr>\n",
       "    <tr>\n",
       "      <th>247</th>\n",
       "      <td>247</td>\n",
       "      <td>Oh, the Places You'll Go!</td>\n",
       "      <td>Dr. Seuss</td>\n",
       "      <td>4.9</td>\n",
       "      <td>21834</td>\n",
       "      <td>8</td>\n",
       "      <td>2014</td>\n",
       "      <td>Fiction</td>\n",
       "    </tr>\n",
       "    <tr>\n",
       "      <th>246</th>\n",
       "      <td>246</td>\n",
       "      <td>Oh, the Places You'll Go!</td>\n",
       "      <td>Dr. Seuss</td>\n",
       "      <td>4.9</td>\n",
       "      <td>21834</td>\n",
       "      <td>8</td>\n",
       "      <td>2013</td>\n",
       "      <td>Fiction</td>\n",
       "    </tr>\n",
       "  </tbody>\n",
       "</table>\n",
       "</div>"
      ],
      "text/plain": [
       "     Unnamed: 0                                  Name          Author  \\\n",
       "521         521                Unfreedom of the Press   Mark R. Levin   \n",
       "420         420  The Legend of Zelda: Hyrule Historia  Patrick Thorpe   \n",
       "248         248             Oh, the Places You'll Go!       Dr. Seuss   \n",
       "247         247             Oh, the Places You'll Go!       Dr. Seuss   \n",
       "246         246             Oh, the Places You'll Go!       Dr. Seuss   \n",
       "\n",
       "     User Rating  Reviews  Price  Year        Genre  \n",
       "521          4.9     5956     11  2019  Non Fiction  \n",
       "420          4.9     5396     20  2013      Fiction  \n",
       "248          4.9    21834      8  2015      Fiction  \n",
       "247          4.9    21834      8  2014      Fiction  \n",
       "246          4.9    21834      8  2013      Fiction  "
      ]
     },
     "metadata": {},
     "output_type": "display_data"
    }
   ],
   "source": [
    "bestseller_sorted = bestseller_index_data.sort_values(by = 'User Rating', ascending = False)\n",
    "bestseller_sorted.head()"
   ]
  },
  {
   "cell_type": "markdown",
   "id": "53f63709",
   "metadata": {},
   "source": [
    "### Ranking data"
   ]
  },
  {
   "cell_type": "markdown",
   "id": "bd059747",
   "metadata": {},
   "source": [
    "With the [rank()](https://pandas.pydata.org/docs/reference/api/pandas.DataFrame.rank.html) function, we can rank the observations. \n",
    "\n",
    "For example, let us add a new column to the bestseller data that provides the rank of the `User Rating` column:"
   ]
  },
  {
   "cell_type": "code",
   "execution_count": 60,
   "id": "df81a7ac",
   "metadata": {},
   "outputs": [
    {
     "data": {
      "text/html": [
       "<div>\n",
       "<style scoped>\n",
       "    .dataframe tbody tr th:only-of-type {\n",
       "        vertical-align: middle;\n",
       "    }\n",
       "\n",
       "    .dataframe tbody tr th {\n",
       "        vertical-align: top;\n",
       "    }\n",
       "\n",
       "    .dataframe thead th {\n",
       "        text-align: right;\n",
       "    }\n",
       "</style>\n",
       "<table border=\"1\" class=\"dataframe\">\n",
       "  <thead>\n",
       "    <tr style=\"text-align: right;\">\n",
       "      <th></th>\n",
       "      <th>Book Name</th>\n",
       "      <th>Writer</th>\n",
       "      <th>User Rating</th>\n",
       "      <th>Reviews</th>\n",
       "      <th>Price</th>\n",
       "      <th>Publication Year</th>\n",
       "      <th>Genre</th>\n",
       "      <th>Rating_rank</th>\n",
       "    </tr>\n",
       "  </thead>\n",
       "  <tbody>\n",
       "    <tr>\n",
       "      <th>0</th>\n",
       "      <td>10-Day Green Smoothie Cleanse</td>\n",
       "      <td>JJ Smith</td>\n",
       "      <td>4.7</td>\n",
       "      <td>17350</td>\n",
       "      <td>8</td>\n",
       "      <td>2016</td>\n",
       "      <td>Non Fiction</td>\n",
       "      <td>317.5</td>\n",
       "    </tr>\n",
       "    <tr>\n",
       "      <th>1</th>\n",
       "      <td>11/22/63: A Novel</td>\n",
       "      <td>Stephen King</td>\n",
       "      <td>4.6</td>\n",
       "      <td>2052</td>\n",
       "      <td>22</td>\n",
       "      <td>2011</td>\n",
       "      <td>Fiction</td>\n",
       "      <td>211.0</td>\n",
       "    </tr>\n",
       "    <tr>\n",
       "      <th>2</th>\n",
       "      <td>12 Rules for Life: An Antidote to Chaos</td>\n",
       "      <td>Jordan B. Peterson</td>\n",
       "      <td>4.7</td>\n",
       "      <td>18979</td>\n",
       "      <td>15</td>\n",
       "      <td>2018</td>\n",
       "      <td>Non Fiction</td>\n",
       "      <td>317.5</td>\n",
       "    </tr>\n",
       "    <tr>\n",
       "      <th>3</th>\n",
       "      <td>1984 (Signet Classics)</td>\n",
       "      <td>George Orwell</td>\n",
       "      <td>4.7</td>\n",
       "      <td>21424</td>\n",
       "      <td>6</td>\n",
       "      <td>2017</td>\n",
       "      <td>Fiction</td>\n",
       "      <td>317.5</td>\n",
       "    </tr>\n",
       "    <tr>\n",
       "      <th>4</th>\n",
       "      <td>5,000 Awesome Facts (About Everything!) (Natio...</td>\n",
       "      <td>National Geographic Kids</td>\n",
       "      <td>4.8</td>\n",
       "      <td>7665</td>\n",
       "      <td>12</td>\n",
       "      <td>2019</td>\n",
       "      <td>Non Fiction</td>\n",
       "      <td>435.0</td>\n",
       "    </tr>\n",
       "  </tbody>\n",
       "</table>\n",
       "</div>"
      ],
      "text/plain": [
       "                                           Book Name  \\\n",
       "0                      10-Day Green Smoothie Cleanse   \n",
       "1                                  11/22/63: A Novel   \n",
       "2            12 Rules for Life: An Antidote to Chaos   \n",
       "3                             1984 (Signet Classics)   \n",
       "4  5,000 Awesome Facts (About Everything!) (Natio...   \n",
       "\n",
       "                     Writer  User Rating  Reviews  Price  Publication Year  \\\n",
       "0                  JJ Smith          4.7    17350      8              2016   \n",
       "1              Stephen King          4.6     2052     22              2011   \n",
       "2        Jordan B. Peterson          4.7    18979     15              2018   \n",
       "3             George Orwell          4.7    21424      6              2017   \n",
       "4  National Geographic Kids          4.8     7665     12              2019   \n",
       "\n",
       "         Genre  Rating_rank  \n",
       "0  Non Fiction        317.5  \n",
       "1      Fiction        211.0  \n",
       "2  Non Fiction        317.5  \n",
       "3      Fiction        317.5  \n",
       "4  Non Fiction        435.0  "
      ]
     },
     "execution_count": 60,
     "metadata": {},
     "output_type": "execute_result"
    }
   ],
   "source": [
    "bestseller_ranked = bestseller_df.copy()\n",
    "bestseller_ranked['Rating_rank']=bestseller_ranked['User Rating'].rank()\n",
    "bestseller_ranked.head()"
   ]
  },
  {
   "cell_type": "markdown",
   "id": "364b9978",
   "metadata": {},
   "source": [
    "Note the column `Rating_rank`. Why does it contain floating point numbers? Check the `rank()` documentation to find out!"
   ]
  },
  {
   "cell_type": "markdown",
   "id": "a53f48a8",
   "metadata": {},
   "source": [
    "## Arithematic operations within and between DataFrames\n",
    "\n",
    "Pandas is built on top of NumPy, and for arithmetic operations, it inherits many of NumPy's powerful features. Pandas provides an intuitive and efficient way to perform arithmetic operations both within a DataFrame (on columns or rows) and between multiple DataFrames. These operations are element-wise, meaning they are applied to corresponding elements of the DataFrame or Series."
   ]
  },
  {
   "cell_type": "markdown",
   "id": "caded51b",
   "metadata": {},
   "source": [
    "### Arithematic operations within a DataFrame\n",
    "\n",
    "You can easily perform arithmetic operations on columns or rows within a DataFrame\n",
    "\n",
    "* Arithmetic Between Columns"
   ]
  },
  {
   "cell_type": "code",
   "execution_count": 61,
   "id": "0723ac9c",
   "metadata": {},
   "outputs": [
    {
     "data": {
      "text/html": [
       "<div>\n",
       "<style scoped>\n",
       "    .dataframe tbody tr th:only-of-type {\n",
       "        vertical-align: middle;\n",
       "    }\n",
       "\n",
       "    .dataframe tbody tr th {\n",
       "        vertical-align: top;\n",
       "    }\n",
       "\n",
       "    .dataframe thead th {\n",
       "        text-align: right;\n",
       "    }\n",
       "</style>\n",
       "<table border=\"1\" class=\"dataframe\">\n",
       "  <thead>\n",
       "    <tr style=\"text-align: right;\">\n",
       "      <th></th>\n",
       "      <th>A</th>\n",
       "      <th>B</th>\n",
       "      <th>C</th>\n",
       "      <th>A_plus_B</th>\n",
       "      <th>A_times_C</th>\n",
       "    </tr>\n",
       "  </thead>\n",
       "  <tbody>\n",
       "    <tr>\n",
       "      <th>0</th>\n",
       "      <td>1</td>\n",
       "      <td>4</td>\n",
       "      <td>7</td>\n",
       "      <td>5</td>\n",
       "      <td>7</td>\n",
       "    </tr>\n",
       "    <tr>\n",
       "      <th>1</th>\n",
       "      <td>2</td>\n",
       "      <td>5</td>\n",
       "      <td>8</td>\n",
       "      <td>7</td>\n",
       "      <td>16</td>\n",
       "    </tr>\n",
       "    <tr>\n",
       "      <th>2</th>\n",
       "      <td>3</td>\n",
       "      <td>6</td>\n",
       "      <td>9</td>\n",
       "      <td>9</td>\n",
       "      <td>27</td>\n",
       "    </tr>\n",
       "  </tbody>\n",
       "</table>\n",
       "</div>"
      ],
      "text/plain": [
       "   A  B  C  A_plus_B  A_times_C\n",
       "0  1  4  7         5          7\n",
       "1  2  5  8         7         16\n",
       "2  3  6  9         9         27"
      ]
     },
     "execution_count": 61,
     "metadata": {},
     "output_type": "execute_result"
    }
   ],
   "source": [
    "# Create a DataFrame\n",
    "data = {'A': [1, 2, 3],\n",
    "        'B': [4, 5, 6],\n",
    "        'C': [7, 8, 9]}\n",
    "df = pd.DataFrame(data)\n",
    "\n",
    "# Adding two columns\n",
    "df['A_plus_B'] = df['A'] + df['B']\n",
    "\n",
    "# Multiplying two columns\n",
    "df['A_times_C'] = df['A'] * df['C']\n",
    "\n",
    "df\n"
   ]
  },
  {
   "cell_type": "markdown",
   "id": "8f9a3844",
   "metadata": {},
   "source": [
    "* Arithmetic on Entire Rows"
   ]
  },
  {
   "cell_type": "code",
   "execution_count": 62,
   "id": "68946015",
   "metadata": {},
   "outputs": [
    {
     "data": {
      "text/html": [
       "<div>\n",
       "<style scoped>\n",
       "    .dataframe tbody tr th:only-of-type {\n",
       "        vertical-align: middle;\n",
       "    }\n",
       "\n",
       "    .dataframe tbody tr th {\n",
       "        vertical-align: top;\n",
       "    }\n",
       "\n",
       "    .dataframe thead th {\n",
       "        text-align: right;\n",
       "    }\n",
       "</style>\n",
       "<table border=\"1\" class=\"dataframe\">\n",
       "  <thead>\n",
       "    <tr style=\"text-align: right;\">\n",
       "      <th></th>\n",
       "      <th>A</th>\n",
       "      <th>B</th>\n",
       "      <th>C</th>\n",
       "      <th>A_plus_B</th>\n",
       "      <th>A_times_C</th>\n",
       "      <th>row_sum</th>\n",
       "    </tr>\n",
       "  </thead>\n",
       "  <tbody>\n",
       "    <tr>\n",
       "      <th>0</th>\n",
       "      <td>1</td>\n",
       "      <td>4</td>\n",
       "      <td>7</td>\n",
       "      <td>5</td>\n",
       "      <td>7</td>\n",
       "      <td>24</td>\n",
       "    </tr>\n",
       "    <tr>\n",
       "      <th>1</th>\n",
       "      <td>2</td>\n",
       "      <td>5</td>\n",
       "      <td>8</td>\n",
       "      <td>7</td>\n",
       "      <td>16</td>\n",
       "      <td>38</td>\n",
       "    </tr>\n",
       "    <tr>\n",
       "      <th>2</th>\n",
       "      <td>3</td>\n",
       "      <td>6</td>\n",
       "      <td>9</td>\n",
       "      <td>9</td>\n",
       "      <td>27</td>\n",
       "      <td>54</td>\n",
       "    </tr>\n",
       "  </tbody>\n",
       "</table>\n",
       "</div>"
      ],
      "text/plain": [
       "   A  B  C  A_plus_B  A_times_C  row_sum\n",
       "0  1  4  7         5          7       24\n",
       "1  2  5  8         7         16       38\n",
       "2  3  6  9         9         27       54"
      ]
     },
     "execution_count": 62,
     "metadata": {},
     "output_type": "execute_result"
    }
   ],
   "source": [
    "# Summing values across columns for each row\n",
    "df['row_sum'] = df.sum(axis=1)\n",
    "df"
   ]
  },
  {
   "cell_type": "markdown",
   "id": "cc8ff15f",
   "metadata": {},
   "source": [
    "### Arithematic operations between DataFrames\n",
    "\n",
    "When performing operations between two DataFrames, pandas aligns the data based on both the `index` and `column labels`. If the indices or columns do not match, pandas automatically fills the missing values with NaN (not-a-number) unless a fill value is provided."
   ]
  },
  {
   "cell_type": "markdown",
   "id": "514a3718",
   "metadata": {},
   "source": [
    "Let us create two toy DataFrames:"
   ]
  },
  {
   "cell_type": "code",
   "execution_count": 63,
   "id": "bf91907b",
   "metadata": {},
   "outputs": [],
   "source": [
    "#Creating two toy DataFrames\n",
    "toy_df1 = pd.DataFrame([(1,2),(3,4),(5,6)], columns=['a','b'])\n",
    "toy_df2 = pd.DataFrame([(100,200),(300,400),(500,600)], columns=['a','b'])"
   ]
  },
  {
   "cell_type": "code",
   "execution_count": 64,
   "id": "e6c65e8a",
   "metadata": {},
   "outputs": [
    {
     "data": {
      "text/html": [
       "<div>\n",
       "<style scoped>\n",
       "    .dataframe tbody tr th:only-of-type {\n",
       "        vertical-align: middle;\n",
       "    }\n",
       "\n",
       "    .dataframe tbody tr th {\n",
       "        vertical-align: top;\n",
       "    }\n",
       "\n",
       "    .dataframe thead th {\n",
       "        text-align: right;\n",
       "    }\n",
       "</style>\n",
       "<table border=\"1\" class=\"dataframe\">\n",
       "  <thead>\n",
       "    <tr style=\"text-align: right;\">\n",
       "      <th></th>\n",
       "      <th>a</th>\n",
       "      <th>b</th>\n",
       "    </tr>\n",
       "  </thead>\n",
       "  <tbody>\n",
       "    <tr>\n",
       "      <th>0</th>\n",
       "      <td>1</td>\n",
       "      <td>2</td>\n",
       "    </tr>\n",
       "    <tr>\n",
       "      <th>1</th>\n",
       "      <td>3</td>\n",
       "      <td>4</td>\n",
       "    </tr>\n",
       "    <tr>\n",
       "      <th>2</th>\n",
       "      <td>5</td>\n",
       "      <td>6</td>\n",
       "    </tr>\n",
       "  </tbody>\n",
       "</table>\n",
       "</div>"
      ],
      "text/plain": [
       "   a  b\n",
       "0  1  2\n",
       "1  3  4\n",
       "2  5  6"
      ]
     },
     "execution_count": 64,
     "metadata": {},
     "output_type": "execute_result"
    }
   ],
   "source": [
    "#DataFrame 1\n",
    "toy_df1"
   ]
  },
  {
   "cell_type": "code",
   "execution_count": 65,
   "id": "c163e754",
   "metadata": {},
   "outputs": [
    {
     "data": {
      "text/html": [
       "<div>\n",
       "<style scoped>\n",
       "    .dataframe tbody tr th:only-of-type {\n",
       "        vertical-align: middle;\n",
       "    }\n",
       "\n",
       "    .dataframe tbody tr th {\n",
       "        vertical-align: top;\n",
       "    }\n",
       "\n",
       "    .dataframe thead th {\n",
       "        text-align: right;\n",
       "    }\n",
       "</style>\n",
       "<table border=\"1\" class=\"dataframe\">\n",
       "  <thead>\n",
       "    <tr style=\"text-align: right;\">\n",
       "      <th></th>\n",
       "      <th>a</th>\n",
       "      <th>b</th>\n",
       "    </tr>\n",
       "  </thead>\n",
       "  <tbody>\n",
       "    <tr>\n",
       "      <th>0</th>\n",
       "      <td>100</td>\n",
       "      <td>200</td>\n",
       "    </tr>\n",
       "    <tr>\n",
       "      <th>1</th>\n",
       "      <td>300</td>\n",
       "      <td>400</td>\n",
       "    </tr>\n",
       "    <tr>\n",
       "      <th>2</th>\n",
       "      <td>500</td>\n",
       "      <td>600</td>\n",
       "    </tr>\n",
       "  </tbody>\n",
       "</table>\n",
       "</div>"
      ],
      "text/plain": [
       "     a    b\n",
       "0  100  200\n",
       "1  300  400\n",
       "2  500  600"
      ]
     },
     "execution_count": 65,
     "metadata": {},
     "output_type": "execute_result"
    }
   ],
   "source": [
    "#DataFrame 2\n",
    "toy_df2"
   ]
  },
  {
   "cell_type": "markdown",
   "id": "73c68b4a",
   "metadata": {},
   "source": [
    "Element by element operations between two DataFrames can be performed with the operators `+`, `-`, `*`,`/`,`**`, and `%`. Below is an example of element-by-element addition of two DataFrames:"
   ]
  },
  {
   "cell_type": "code",
   "execution_count": 66,
   "id": "247ab4a5",
   "metadata": {},
   "outputs": [
    {
     "data": {
      "text/html": [
       "<div>\n",
       "<style scoped>\n",
       "    .dataframe tbody tr th:only-of-type {\n",
       "        vertical-align: middle;\n",
       "    }\n",
       "\n",
       "    .dataframe tbody tr th {\n",
       "        vertical-align: top;\n",
       "    }\n",
       "\n",
       "    .dataframe thead th {\n",
       "        text-align: right;\n",
       "    }\n",
       "</style>\n",
       "<table border=\"1\" class=\"dataframe\">\n",
       "  <thead>\n",
       "    <tr style=\"text-align: right;\">\n",
       "      <th></th>\n",
       "      <th>a</th>\n",
       "      <th>b</th>\n",
       "    </tr>\n",
       "  </thead>\n",
       "  <tbody>\n",
       "    <tr>\n",
       "      <th>0</th>\n",
       "      <td>101</td>\n",
       "      <td>202</td>\n",
       "    </tr>\n",
       "    <tr>\n",
       "      <th>1</th>\n",
       "      <td>303</td>\n",
       "      <td>404</td>\n",
       "    </tr>\n",
       "    <tr>\n",
       "      <th>2</th>\n",
       "      <td>505</td>\n",
       "      <td>606</td>\n",
       "    </tr>\n",
       "  </tbody>\n",
       "</table>\n",
       "</div>"
      ],
      "text/plain": [
       "     a    b\n",
       "0  101  202\n",
       "1  303  404\n",
       "2  505  606"
      ]
     },
     "execution_count": 66,
     "metadata": {},
     "output_type": "execute_result"
    }
   ],
   "source": [
    "# Element-by-element arithmetic addition of the two DataFrames\n",
    "toy_df1 + toy_df2"
   ]
  },
  {
   "cell_type": "markdown",
   "id": "6fbaca64",
   "metadata": {},
   "source": [
    "Note that these operations create problems when the row indices and/or column names of the two DataFrames do not match. See the example below:"
   ]
  },
  {
   "cell_type": "code",
   "execution_count": 67,
   "id": "56399bfc",
   "metadata": {},
   "outputs": [
    {
     "data": {
      "text/html": [
       "<div>\n",
       "<style scoped>\n",
       "    .dataframe tbody tr th:only-of-type {\n",
       "        vertical-align: middle;\n",
       "    }\n",
       "\n",
       "    .dataframe tbody tr th {\n",
       "        vertical-align: top;\n",
       "    }\n",
       "\n",
       "    .dataframe thead th {\n",
       "        text-align: right;\n",
       "    }\n",
       "</style>\n",
       "<table border=\"1\" class=\"dataframe\">\n",
       "  <thead>\n",
       "    <tr style=\"text-align: right;\">\n",
       "      <th></th>\n",
       "      <th>a</th>\n",
       "      <th>b</th>\n",
       "    </tr>\n",
       "  </thead>\n",
       "  <tbody>\n",
       "    <tr>\n",
       "      <th>1</th>\n",
       "      <td>100</td>\n",
       "      <td>200</td>\n",
       "    </tr>\n",
       "    <tr>\n",
       "      <th>2</th>\n",
       "      <td>300</td>\n",
       "      <td>400</td>\n",
       "    </tr>\n",
       "    <tr>\n",
       "      <th>3</th>\n",
       "      <td>500</td>\n",
       "      <td>600</td>\n",
       "    </tr>\n",
       "  </tbody>\n",
       "</table>\n",
       "</div>"
      ],
      "text/plain": [
       "     a    b\n",
       "1  100  200\n",
       "2  300  400\n",
       "3  500  600"
      ]
     },
     "execution_count": 67,
     "metadata": {},
     "output_type": "execute_result"
    }
   ],
   "source": [
    "#Creating another toy example of a DataFrame\n",
    "toy_df3 = pd.DataFrame([(100,200),(300,400),(500,600)], columns=['a','b'], index=[1,2,3])\n",
    "toy_df3"
   ]
  },
  {
   "cell_type": "code",
   "execution_count": 68,
   "id": "4055ea99",
   "metadata": {},
   "outputs": [
    {
     "data": {
      "text/html": [
       "<div>\n",
       "<style scoped>\n",
       "    .dataframe tbody tr th:only-of-type {\n",
       "        vertical-align: middle;\n",
       "    }\n",
       "\n",
       "    .dataframe tbody tr th {\n",
       "        vertical-align: top;\n",
       "    }\n",
       "\n",
       "    .dataframe thead th {\n",
       "        text-align: right;\n",
       "    }\n",
       "</style>\n",
       "<table border=\"1\" class=\"dataframe\">\n",
       "  <thead>\n",
       "    <tr style=\"text-align: right;\">\n",
       "      <th></th>\n",
       "      <th>a</th>\n",
       "      <th>b</th>\n",
       "    </tr>\n",
       "  </thead>\n",
       "  <tbody>\n",
       "    <tr>\n",
       "      <th>0</th>\n",
       "      <td>NaN</td>\n",
       "      <td>NaN</td>\n",
       "    </tr>\n",
       "    <tr>\n",
       "      <th>1</th>\n",
       "      <td>103.0</td>\n",
       "      <td>204.0</td>\n",
       "    </tr>\n",
       "    <tr>\n",
       "      <th>2</th>\n",
       "      <td>305.0</td>\n",
       "      <td>406.0</td>\n",
       "    </tr>\n",
       "    <tr>\n",
       "      <th>3</th>\n",
       "      <td>NaN</td>\n",
       "      <td>NaN</td>\n",
       "    </tr>\n",
       "  </tbody>\n",
       "</table>\n",
       "</div>"
      ],
      "text/plain": [
       "       a      b\n",
       "0    NaN    NaN\n",
       "1  103.0  204.0\n",
       "2  305.0  406.0\n",
       "3    NaN    NaN"
      ]
     },
     "execution_count": 68,
     "metadata": {},
     "output_type": "execute_result"
    }
   ],
   "source": [
    "#Adding DataFrames with some unmatching row indices\n",
    "toy_df1 + toy_df3"
   ]
  },
  {
   "cell_type": "markdown",
   "id": "2a57d071",
   "metadata": {},
   "source": [
    "Note that the rows whose indices match between the two DataFrames are added up. The rest of the values are missing (or `NaN`) because only one of the DataFrames has that index."
   ]
  },
  {
   "cell_type": "markdown",
   "id": "8428d505",
   "metadata": {},
   "source": [
    "As in the case of row indices, missing values will also appear in the case of unmatching column names, as shown in the example below."
   ]
  },
  {
   "cell_type": "code",
   "execution_count": 69,
   "id": "2a95a603",
   "metadata": {},
   "outputs": [
    {
     "data": {
      "text/html": [
       "<div>\n",
       "<style scoped>\n",
       "    .dataframe tbody tr th:only-of-type {\n",
       "        vertical-align: middle;\n",
       "    }\n",
       "\n",
       "    .dataframe tbody tr th {\n",
       "        vertical-align: top;\n",
       "    }\n",
       "\n",
       "    .dataframe thead th {\n",
       "        text-align: right;\n",
       "    }\n",
       "</style>\n",
       "<table border=\"1\" class=\"dataframe\">\n",
       "  <thead>\n",
       "    <tr style=\"text-align: right;\">\n",
       "      <th></th>\n",
       "      <th>b</th>\n",
       "      <th>c</th>\n",
       "    </tr>\n",
       "  </thead>\n",
       "  <tbody>\n",
       "    <tr>\n",
       "      <th>0</th>\n",
       "      <td>100</td>\n",
       "      <td>200</td>\n",
       "    </tr>\n",
       "    <tr>\n",
       "      <th>1</th>\n",
       "      <td>300</td>\n",
       "      <td>400</td>\n",
       "    </tr>\n",
       "    <tr>\n",
       "      <th>2</th>\n",
       "      <td>500</td>\n",
       "      <td>600</td>\n",
       "    </tr>\n",
       "  </tbody>\n",
       "</table>\n",
       "</div>"
      ],
      "text/plain": [
       "     b    c\n",
       "0  100  200\n",
       "1  300  400\n",
       "2  500  600"
      ]
     },
     "execution_count": 69,
     "metadata": {},
     "output_type": "execute_result"
    }
   ],
   "source": [
    "toy_df4 = pd.DataFrame([(100,200),(300,400),(500,600)], columns=['b','c'])\n",
    "toy_df4"
   ]
  },
  {
   "cell_type": "code",
   "execution_count": 70,
   "id": "704e6d85",
   "metadata": {},
   "outputs": [
    {
     "data": {
      "text/html": [
       "<div>\n",
       "<style scoped>\n",
       "    .dataframe tbody tr th:only-of-type {\n",
       "        vertical-align: middle;\n",
       "    }\n",
       "\n",
       "    .dataframe tbody tr th {\n",
       "        vertical-align: top;\n",
       "    }\n",
       "\n",
       "    .dataframe thead th {\n",
       "        text-align: right;\n",
       "    }\n",
       "</style>\n",
       "<table border=\"1\" class=\"dataframe\">\n",
       "  <thead>\n",
       "    <tr style=\"text-align: right;\">\n",
       "      <th></th>\n",
       "      <th>a</th>\n",
       "      <th>b</th>\n",
       "      <th>c</th>\n",
       "    </tr>\n",
       "  </thead>\n",
       "  <tbody>\n",
       "    <tr>\n",
       "      <th>0</th>\n",
       "      <td>NaN</td>\n",
       "      <td>102</td>\n",
       "      <td>NaN</td>\n",
       "    </tr>\n",
       "    <tr>\n",
       "      <th>1</th>\n",
       "      <td>NaN</td>\n",
       "      <td>304</td>\n",
       "      <td>NaN</td>\n",
       "    </tr>\n",
       "    <tr>\n",
       "      <th>2</th>\n",
       "      <td>NaN</td>\n",
       "      <td>506</td>\n",
       "      <td>NaN</td>\n",
       "    </tr>\n",
       "  </tbody>\n",
       "</table>\n",
       "</div>"
      ],
      "text/plain": [
       "    a    b   c\n",
       "0 NaN  102 NaN\n",
       "1 NaN  304 NaN\n",
       "2 NaN  506 NaN"
      ]
     },
     "execution_count": 70,
     "metadata": {},
     "output_type": "execute_result"
    }
   ],
   "source": [
    "#Adding DataFrames with some unmatching column names\n",
    "toy_df1 + toy_df4"
   ]
  },
  {
   "cell_type": "markdown",
   "id": "5a748b81",
   "metadata": {},
   "source": [
    "### Arithmetic Between DataFrame and Series (Broadcasting)"
   ]
  },
  {
   "cell_type": "markdown",
   "id": "69f1fecb",
   "metadata": {},
   "source": [
    "Pandas supports **broadcasting**, where a Series can be broadcasted to match the dimensions of a DataFrame during an arithmetic operation."
   ]
  },
  {
   "cell_type": "code",
   "execution_count": 71,
   "id": "b30e7a27",
   "metadata": {},
   "outputs": [
    {
     "data": {
      "text/html": [
       "<div>\n",
       "<style scoped>\n",
       "    .dataframe tbody tr th:only-of-type {\n",
       "        vertical-align: middle;\n",
       "    }\n",
       "\n",
       "    .dataframe tbody tr th {\n",
       "        vertical-align: top;\n",
       "    }\n",
       "\n",
       "    .dataframe thead th {\n",
       "        text-align: right;\n",
       "    }\n",
       "</style>\n",
       "<table border=\"1\" class=\"dataframe\">\n",
       "  <thead>\n",
       "    <tr style=\"text-align: right;\">\n",
       "      <th></th>\n",
       "      <th>a</th>\n",
       "      <th>b</th>\n",
       "    </tr>\n",
       "  </thead>\n",
       "  <tbody>\n",
       "    <tr>\n",
       "      <th>0</th>\n",
       "      <td>101</td>\n",
       "      <td>202</td>\n",
       "    </tr>\n",
       "    <tr>\n",
       "      <th>1</th>\n",
       "      <td>301</td>\n",
       "      <td>402</td>\n",
       "    </tr>\n",
       "    <tr>\n",
       "      <th>2</th>\n",
       "      <td>501</td>\n",
       "      <td>602</td>\n",
       "    </tr>\n",
       "  </tbody>\n",
       "</table>\n",
       "</div>"
      ],
      "text/plain": [
       "     a    b\n",
       "0  101  202\n",
       "1  301  402\n",
       "2  501  602"
      ]
     },
     "execution_count": 71,
     "metadata": {},
     "output_type": "execute_result"
    }
   ],
   "source": [
    "# Broadcasting: The row [1,2] (a Series) is added on every row in df2 \n",
    "toy_df1.loc[0,:] + toy_df2"
   ]
  },
  {
   "cell_type": "markdown",
   "id": "1571648d",
   "metadata": {},
   "source": [
    "Note that the `+` operator is used to add values of a Series to a DataFrame based on column names. For adding a Series to a DataFrame based on row indices, we cannot use the `+` operator. Instead, we'll need to use the `add()` function as explained below."
   ]
  },
  {
   "cell_type": "markdown",
   "id": "66d2efe4",
   "metadata": {},
   "source": [
    "**Broadcasting based on row/column labels:** We can use the [add()](https://pandas.pydata.org/docs/reference/api/pandas.DataFrame.add.html) function to broadcast a Series to a DataFrame. By default the Series adds based on column names, as in the case of the `+` operator."
   ]
  },
  {
   "cell_type": "code",
   "execution_count": 72,
   "id": "84e043de",
   "metadata": {},
   "outputs": [
    {
     "data": {
      "text/html": [
       "<div>\n",
       "<style scoped>\n",
       "    .dataframe tbody tr th:only-of-type {\n",
       "        vertical-align: middle;\n",
       "    }\n",
       "\n",
       "    .dataframe tbody tr th {\n",
       "        vertical-align: top;\n",
       "    }\n",
       "\n",
       "    .dataframe thead th {\n",
       "        text-align: right;\n",
       "    }\n",
       "</style>\n",
       "<table border=\"1\" class=\"dataframe\">\n",
       "  <thead>\n",
       "    <tr style=\"text-align: right;\">\n",
       "      <th></th>\n",
       "      <th>a</th>\n",
       "      <th>b</th>\n",
       "    </tr>\n",
       "  </thead>\n",
       "  <tbody>\n",
       "    <tr>\n",
       "      <th>0</th>\n",
       "      <td>101</td>\n",
       "      <td>202</td>\n",
       "    </tr>\n",
       "    <tr>\n",
       "      <th>1</th>\n",
       "      <td>301</td>\n",
       "      <td>402</td>\n",
       "    </tr>\n",
       "    <tr>\n",
       "      <th>2</th>\n",
       "      <td>501</td>\n",
       "      <td>602</td>\n",
       "    </tr>\n",
       "  </tbody>\n",
       "</table>\n",
       "</div>"
      ],
      "text/plain": [
       "     a    b\n",
       "0  101  202\n",
       "1  301  402\n",
       "2  501  602"
      ]
     },
     "execution_count": 72,
     "metadata": {},
     "output_type": "execute_result"
    }
   ],
   "source": [
    "# Add the first row of df1 (a Series) to every row in df2 \n",
    "toy_df2.add(toy_df1.loc[0,:])"
   ]
  },
  {
   "cell_type": "markdown",
   "id": "161f48c0",
   "metadata": {},
   "source": [
    "For broadcasting based on row indices, we use the `axis` argument of the `add()` function."
   ]
  },
  {
   "cell_type": "code",
   "execution_count": 73,
   "id": "d6dbc0eb",
   "metadata": {},
   "outputs": [
    {
     "data": {
      "text/html": [
       "<div>\n",
       "<style scoped>\n",
       "    .dataframe tbody tr th:only-of-type {\n",
       "        vertical-align: middle;\n",
       "    }\n",
       "\n",
       "    .dataframe tbody tr th {\n",
       "        vertical-align: top;\n",
       "    }\n",
       "\n",
       "    .dataframe thead th {\n",
       "        text-align: right;\n",
       "    }\n",
       "</style>\n",
       "<table border=\"1\" class=\"dataframe\">\n",
       "  <thead>\n",
       "    <tr style=\"text-align: right;\">\n",
       "      <th></th>\n",
       "      <th>a</th>\n",
       "      <th>b</th>\n",
       "    </tr>\n",
       "  </thead>\n",
       "  <tbody>\n",
       "    <tr>\n",
       "      <th>0</th>\n",
       "      <td>102</td>\n",
       "      <td>202</td>\n",
       "    </tr>\n",
       "    <tr>\n",
       "      <th>1</th>\n",
       "      <td>304</td>\n",
       "      <td>404</td>\n",
       "    </tr>\n",
       "    <tr>\n",
       "      <th>2</th>\n",
       "      <td>506</td>\n",
       "      <td>606</td>\n",
       "    </tr>\n",
       "  </tbody>\n",
       "</table>\n",
       "</div>"
      ],
      "text/plain": [
       "     a    b\n",
       "0  102  202\n",
       "1  304  404\n",
       "2  506  606"
      ]
     },
     "execution_count": 73,
     "metadata": {},
     "output_type": "execute_result"
    }
   ],
   "source": [
    "# The second column of df1 (a Series) is added to every col in df2\n",
    "toy_df2.add(toy_df1.loc[:,'b'],axis='index')"
   ]
  },
  {
   "cell_type": "markdown",
   "id": "a46a8121",
   "metadata": {},
   "source": [
    "### Converting a DataFrame to a NumPy Array\n",
    "\n",
    "In pandas, you often need to convert a DataFrame or Series into a NumPy array to perform specific operations or to interface with libraries that require NumPy arrays. \n",
    "\n",
    "There are two common methods for converting pandas objects to NumPy arrays: `.values` and `.to_numpy()`.\n",
    "\n",
    "#### Using `.values`\n",
    "\n",
    "* The `.values` attribute returns the underlying NumPy array representation of a DataFrame or Series.\n",
    "\n",
    "* It provides a direct conversion, but it has been deprecated in favor of the newer `.to_numpy()` method because .values does not always handle all DataFrame types consistently."
   ]
  },
  {
   "cell_type": "code",
   "execution_count": 74,
   "id": "8cb8a34a",
   "metadata": {},
   "outputs": [
    {
     "data": {
      "text/html": [
       "<div>\n",
       "<style scoped>\n",
       "    .dataframe tbody tr th:only-of-type {\n",
       "        vertical-align: middle;\n",
       "    }\n",
       "\n",
       "    .dataframe tbody tr th {\n",
       "        vertical-align: top;\n",
       "    }\n",
       "\n",
       "    .dataframe thead th {\n",
       "        text-align: right;\n",
       "    }\n",
       "</style>\n",
       "<table border=\"1\" class=\"dataframe\">\n",
       "  <thead>\n",
       "    <tr style=\"text-align: right;\">\n",
       "      <th></th>\n",
       "      <th>a</th>\n",
       "      <th>b</th>\n",
       "    </tr>\n",
       "  </thead>\n",
       "  <tbody>\n",
       "    <tr>\n",
       "      <th>0</th>\n",
       "      <td>1</td>\n",
       "      <td>2</td>\n",
       "    </tr>\n",
       "    <tr>\n",
       "      <th>1</th>\n",
       "      <td>3</td>\n",
       "      <td>4</td>\n",
       "    </tr>\n",
       "    <tr>\n",
       "      <th>2</th>\n",
       "      <td>5</td>\n",
       "      <td>6</td>\n",
       "    </tr>\n",
       "  </tbody>\n",
       "</table>\n",
       "</div>"
      ],
      "text/plain": [
       "   a  b\n",
       "0  1  2\n",
       "1  3  4\n",
       "2  5  6"
      ]
     },
     "execution_count": 74,
     "metadata": {},
     "output_type": "execute_result"
    }
   ],
   "source": [
    "toy_df1"
   ]
  },
  {
   "cell_type": "code",
   "execution_count": 75,
   "id": "7a22d0c5",
   "metadata": {},
   "outputs": [
    {
     "data": {
      "text/plain": [
       "array([[1, 2],\n",
       "       [3, 4],\n",
       "       [5, 6]])"
      ]
     },
     "execution_count": 75,
     "metadata": {},
     "output_type": "execute_result"
    }
   ],
   "source": [
    "toy_df1.values"
   ]
  },
  {
   "cell_type": "markdown",
   "id": "01714c94",
   "metadata": {},
   "source": [
    "#### Using `.to_numpy()`   \n",
    "\n",
    "* The `.to_numpy()` method is a recommended way to convert a DataFrame to a NumPy array.\n",
    "* It handles different types of data, such as nullable types or mixed data types, more consistently than .values.\n",
    "* Additional parameters: .to_numpy() can take parameters like dtype (to specify the data type) and copy (to create a copy or not).\n"
   ]
  },
  {
   "cell_type": "code",
   "execution_count": 76,
   "id": "f63d997a",
   "metadata": {},
   "outputs": [
    {
     "data": {
      "text/plain": [
       "array([[1, 2],\n",
       "       [3, 4],\n",
       "       [5, 6]])"
      ]
     },
     "execution_count": 76,
     "metadata": {},
     "output_type": "execute_result"
    }
   ],
   "source": [
    "toy_df1.to_numpy()"
   ]
  },
  {
   "cell_type": "markdown",
   "id": "e778ea5d",
   "metadata": {},
   "source": [
    "In the NumPy chapter, we explored the below case study that demonstrated the benefits of using matrix multiplication in NumPy over python loops. However, this same operation cannot be directly performed in a pandas DataFrame in the same way."
   ]
  },
  {
   "cell_type": "code",
   "execution_count": 77,
   "id": "f0003274",
   "metadata": {},
   "outputs": [],
   "source": [
    "food_qty = pd.read_csv('../data/food_quantity.csv',index_col=0)\n",
    "price = pd.read_csv('../data/price.csv',index_col=0)"
   ]
  },
  {
   "cell_type": "code",
   "execution_count": 78,
   "id": "45e1c045",
   "metadata": {},
   "outputs": [
    {
     "name": "stdout",
     "output_type": "stream",
     "text": [
      "CPU times: total: 0 ns\n",
      "Wall time: 5.01 ms\n"
     ]
    },
    {
     "data": {
      "text/html": [
       "<div>\n",
       "<style scoped>\n",
       "    .dataframe tbody tr th:only-of-type {\n",
       "        vertical-align: middle;\n",
       "    }\n",
       "\n",
       "    .dataframe tbody tr th {\n",
       "        vertical-align: top;\n",
       "    }\n",
       "\n",
       "    .dataframe thead th {\n",
       "        text-align: right;\n",
       "    }\n",
       "</style>\n",
       "<table border=\"1\" class=\"dataframe\">\n",
       "  <thead>\n",
       "    <tr style=\"text-align: right;\">\n",
       "      <th></th>\n",
       "      <th>Target</th>\n",
       "      <th>Kroger</th>\n",
       "    </tr>\n",
       "    <tr>\n",
       "      <th>Person</th>\n",
       "      <th></th>\n",
       "      <th></th>\n",
       "    </tr>\n",
       "  </thead>\n",
       "  <tbody>\n",
       "    <tr>\n",
       "      <th>Ben</th>\n",
       "      <td>50.0</td>\n",
       "      <td>49.0</td>\n",
       "    </tr>\n",
       "    <tr>\n",
       "      <th>Barbara</th>\n",
       "      <td>58.5</td>\n",
       "      <td>61.0</td>\n",
       "    </tr>\n",
       "    <tr>\n",
       "      <th>Beth</th>\n",
       "      <td>43.5</td>\n",
       "      <td>43.5</td>\n",
       "    </tr>\n",
       "  </tbody>\n",
       "</table>\n",
       "</div>"
      ],
      "text/plain": [
       "         Target  Kroger\n",
       "Person                 \n",
       "Ben        50.0    49.0\n",
       "Barbara    58.5    61.0\n",
       "Beth       43.5    43.5"
      ]
     },
     "execution_count": 78,
     "metadata": {},
     "output_type": "execute_result"
    }
   ],
   "source": [
    "%%time\n",
    "store_expense = pd.DataFrame(0.0, columns=price.columns, index = food_qty.index)\n",
    "for person in store_expense.index:\n",
    "    for store in store_expense.columns:\n",
    "        for food in food_qty.columns:\n",
    "            store_expense.loc[person, store] += food_qty.loc[person, food]*price.loc[food, store]\n",
    "\n",
    "store_expense"
   ]
  },
  {
   "cell_type": "code",
   "execution_count": 79,
   "id": "b625c191",
   "metadata": {},
   "outputs": [
    {
     "name": "stdout",
     "output_type": "stream",
     "text": [
      "CPU times: total: 0 ns\n",
      "Wall time: 996 μs\n"
     ]
    },
    {
     "data": {
      "text/plain": [
       "array([[50. , 49. ],\n",
       "       [58.5, 61. ],\n",
       "       [43.5, 43.5]])"
      ]
     },
     "execution_count": 79,
     "metadata": {},
     "output_type": "execute_result"
    }
   ],
   "source": [
    "%%time\n",
    "# using matrix multiplication in numpy\n",
    "import numpy as np\n",
    "np.dot(food_qty.values, price.values)"
   ]
  },
  {
   "cell_type": "code",
   "execution_count": 80,
   "id": "96a6dec9",
   "metadata": {},
   "outputs": [
    {
     "data": {
      "text/html": [
       "<div>\n",
       "<style scoped>\n",
       "    .dataframe tbody tr th:only-of-type {\n",
       "        vertical-align: middle;\n",
       "    }\n",
       "\n",
       "    .dataframe tbody tr th {\n",
       "        vertical-align: top;\n",
       "    }\n",
       "\n",
       "    .dataframe thead th {\n",
       "        text-align: right;\n",
       "    }\n",
       "</style>\n",
       "<table border=\"1\" class=\"dataframe\">\n",
       "  <thead>\n",
       "    <tr style=\"text-align: right;\">\n",
       "      <th></th>\n",
       "      <th>Target</th>\n",
       "      <th>Kroger</th>\n",
       "    </tr>\n",
       "    <tr>\n",
       "      <th>Person</th>\n",
       "      <th></th>\n",
       "      <th></th>\n",
       "    </tr>\n",
       "  </thead>\n",
       "  <tbody>\n",
       "    <tr>\n",
       "      <th>Ben</th>\n",
       "      <td>50.0</td>\n",
       "      <td>49.0</td>\n",
       "    </tr>\n",
       "    <tr>\n",
       "      <th>Barbara</th>\n",
       "      <td>58.5</td>\n",
       "      <td>61.0</td>\n",
       "    </tr>\n",
       "    <tr>\n",
       "      <th>Beth</th>\n",
       "      <td>43.5</td>\n",
       "      <td>43.5</td>\n",
       "    </tr>\n",
       "  </tbody>\n",
       "</table>\n",
       "</div>"
      ],
      "text/plain": [
       "         Target  Kroger\n",
       "Person                 \n",
       "Ben        50.0    49.0\n",
       "Barbara    58.5    61.0\n",
       "Beth       43.5    43.5"
      ]
     },
     "execution_count": 80,
     "metadata": {},
     "output_type": "execute_result"
    }
   ],
   "source": [
    "# converting the result to a DataFrame\n",
    "pd.DataFrame(np.dot(food_qty.values, price.values), columns=price.columns, index=food_qty.index)"
   ]
  },
  {
   "cell_type": "markdown",
   "id": "ac3e7e09",
   "metadata": {},
   "source": [
    "## Advanced DataFrame Operations\n",
    "\n",
    "Pandas provides powerful methods for applying functions to DataFrame rows, columns, or individual elements. These methods allow for flexible data transformations, making them essential for advanced data manipulation."
   ]
  },
  {
   "cell_type": "markdown",
   "id": "786a500f",
   "metadata": {},
   "source": [
    "### `apply()`: Row-wise,  or Column-wise\n",
    "\n",
    "The `apply()` function in pandas is used to apply a function along an axis of a DataFrame. \n",
    "\n",
    "* Row-wise: You can apply a function to each row using `axis=1`.\n",
    "* Column-wise: You can apply a function to each column using `axis=0` (default behavior).\n",
    "\n",
    "Let’s create a DataFrame and apply a custom function to each row."
   ]
  },
  {
   "cell_type": "code",
   "execution_count": 81,
   "id": "cb0f4491",
   "metadata": {},
   "outputs": [],
   "source": [
    "# Create a DataFrame\n",
    "df = pd.DataFrame({\n",
    "    'A': [1, 2, 3],\n",
    "    'B': [4, 5, 6],\n",
    "    'C': [7, 8, 9]\n",
    "})"
   ]
  },
  {
   "cell_type": "code",
   "execution_count": 82,
   "id": "d07becad",
   "metadata": {},
   "outputs": [
    {
     "data": {
      "text/html": [
       "<div>\n",
       "<style scoped>\n",
       "    .dataframe tbody tr th:only-of-type {\n",
       "        vertical-align: middle;\n",
       "    }\n",
       "\n",
       "    .dataframe tbody tr th {\n",
       "        vertical-align: top;\n",
       "    }\n",
       "\n",
       "    .dataframe thead th {\n",
       "        text-align: right;\n",
       "    }\n",
       "</style>\n",
       "<table border=\"1\" class=\"dataframe\">\n",
       "  <thead>\n",
       "    <tr style=\"text-align: right;\">\n",
       "      <th></th>\n",
       "      <th>A</th>\n",
       "      <th>B</th>\n",
       "      <th>C</th>\n",
       "    </tr>\n",
       "  </thead>\n",
       "  <tbody>\n",
       "    <tr>\n",
       "      <th>0</th>\n",
       "      <td>1</td>\n",
       "      <td>4</td>\n",
       "      <td>7</td>\n",
       "    </tr>\n",
       "    <tr>\n",
       "      <th>1</th>\n",
       "      <td>2</td>\n",
       "      <td>5</td>\n",
       "      <td>8</td>\n",
       "    </tr>\n",
       "    <tr>\n",
       "      <th>2</th>\n",
       "      <td>3</td>\n",
       "      <td>6</td>\n",
       "      <td>9</td>\n",
       "    </tr>\n",
       "  </tbody>\n",
       "</table>\n",
       "</div>"
      ],
      "text/plain": [
       "   A  B  C\n",
       "0  1  4  7\n",
       "1  2  5  8\n",
       "2  3  6  9"
      ]
     },
     "execution_count": 82,
     "metadata": {},
     "output_type": "execute_result"
    }
   ],
   "source": [
    "df"
   ]
  },
  {
   "cell_type": "code",
   "execution_count": 83,
   "id": "994e6086",
   "metadata": {},
   "outputs": [],
   "source": [
    "# Function to compute the row sum\n",
    "def row_sum(row):\n",
    "    return row.sum()"
   ]
  },
  {
   "cell_type": "code",
   "execution_count": 84,
   "id": "95922a67",
   "metadata": {},
   "outputs": [
    {
     "data": {
      "text/html": [
       "<div>\n",
       "<style scoped>\n",
       "    .dataframe tbody tr th:only-of-type {\n",
       "        vertical-align: middle;\n",
       "    }\n",
       "\n",
       "    .dataframe tbody tr th {\n",
       "        vertical-align: top;\n",
       "    }\n",
       "\n",
       "    .dataframe thead th {\n",
       "        text-align: right;\n",
       "    }\n",
       "</style>\n",
       "<table border=\"1\" class=\"dataframe\">\n",
       "  <thead>\n",
       "    <tr style=\"text-align: right;\">\n",
       "      <th></th>\n",
       "      <th>A</th>\n",
       "      <th>B</th>\n",
       "      <th>C</th>\n",
       "      <th>Row_Sum</th>\n",
       "    </tr>\n",
       "  </thead>\n",
       "  <tbody>\n",
       "    <tr>\n",
       "      <th>0</th>\n",
       "      <td>1</td>\n",
       "      <td>4</td>\n",
       "      <td>7</td>\n",
       "      <td>12</td>\n",
       "    </tr>\n",
       "    <tr>\n",
       "      <th>1</th>\n",
       "      <td>2</td>\n",
       "      <td>5</td>\n",
       "      <td>8</td>\n",
       "      <td>15</td>\n",
       "    </tr>\n",
       "    <tr>\n",
       "      <th>2</th>\n",
       "      <td>3</td>\n",
       "      <td>6</td>\n",
       "      <td>9</td>\n",
       "      <td>18</td>\n",
       "    </tr>\n",
       "  </tbody>\n",
       "</table>\n",
       "</div>"
      ],
      "text/plain": [
       "   A  B  C  Row_Sum\n",
       "0  1  4  7       12\n",
       "1  2  5  8       15\n",
       "2  3  6  9       18"
      ]
     },
     "execution_count": 84,
     "metadata": {},
     "output_type": "execute_result"
    }
   ],
   "source": [
    "# Apply the function row-wise (axis=1)\n",
    "df['Row_Sum'] = df.apply(row_sum, axis=1)\n",
    "df"
   ]
  },
  {
   "cell_type": "markdown",
   "id": "f219ed74",
   "metadata": {},
   "source": [
    "Let's apply the same function to each column next"
   ]
  },
  {
   "cell_type": "code",
   "execution_count": 85,
   "id": "76192a6d",
   "metadata": {},
   "outputs": [
    {
     "data": {
      "text/plain": [
       "A           6\n",
       "B          15\n",
       "C          24\n",
       "Row_Sum    45\n",
       "dtype: int64"
      ]
     },
     "execution_count": 85,
     "metadata": {},
     "output_type": "execute_result"
    }
   ],
   "source": [
    "# Apply the function column-wise (axis=0)\n",
    "column_sum = df.apply(sum, axis=0)\n",
    "column_sum"
   ]
  },
  {
   "cell_type": "markdown",
   "id": "bcdbc390",
   "metadata": {},
   "source": [
    "### `map()`: Element-wise\n",
    "\n",
    "`map()` is typically used for element-wise transformations on a Series. "
   ]
  },
  {
   "cell_type": "code",
   "execution_count": 86,
   "id": "e682adad",
   "metadata": {},
   "outputs": [
    {
     "data": {
      "text/html": [
       "<div>\n",
       "<style scoped>\n",
       "    .dataframe tbody tr th:only-of-type {\n",
       "        vertical-align: middle;\n",
       "    }\n",
       "\n",
       "    .dataframe tbody tr th {\n",
       "        vertical-align: top;\n",
       "    }\n",
       "\n",
       "    .dataframe thead th {\n",
       "        text-align: right;\n",
       "    }\n",
       "</style>\n",
       "<table border=\"1\" class=\"dataframe\">\n",
       "  <thead>\n",
       "    <tr style=\"text-align: right;\">\n",
       "      <th></th>\n",
       "      <th>A</th>\n",
       "      <th>B</th>\n",
       "      <th>C</th>\n",
       "      <th>Row_Sum</th>\n",
       "      <th>A_squared</th>\n",
       "    </tr>\n",
       "  </thead>\n",
       "  <tbody>\n",
       "    <tr>\n",
       "      <th>0</th>\n",
       "      <td>1</td>\n",
       "      <td>4</td>\n",
       "      <td>7</td>\n",
       "      <td>12</td>\n",
       "      <td>1</td>\n",
       "    </tr>\n",
       "    <tr>\n",
       "      <th>1</th>\n",
       "      <td>2</td>\n",
       "      <td>5</td>\n",
       "      <td>8</td>\n",
       "      <td>15</td>\n",
       "      <td>4</td>\n",
       "    </tr>\n",
       "    <tr>\n",
       "      <th>2</th>\n",
       "      <td>3</td>\n",
       "      <td>6</td>\n",
       "      <td>9</td>\n",
       "      <td>18</td>\n",
       "      <td>9</td>\n",
       "    </tr>\n",
       "  </tbody>\n",
       "</table>\n",
       "</div>"
      ],
      "text/plain": [
       "   A  B  C  Row_Sum  A_squared\n",
       "0  1  4  7       12          1\n",
       "1  2  5  8       15          4\n",
       "2  3  6  9       18          9"
      ]
     },
     "execution_count": 86,
     "metadata": {},
     "output_type": "execute_result"
    }
   ],
   "source": [
    "# write the function to compute square of a number\n",
    "def square(x):\n",
    "    return x ** 2\n",
    "\n",
    "# use the map() function to apply a function element-wise\n",
    "df['A_squared'] = df['A'].map(square)\n",
    "df"
   ]
  },
  {
   "cell_type": "markdown",
   "id": "0ff02ce2",
   "metadata": {},
   "source": [
    "Element-wise transformation on an entire DataFrame."
   ]
  },
  {
   "cell_type": "code",
   "execution_count": 87,
   "id": "d23309c0",
   "metadata": {},
   "outputs": [
    {
     "data": {
      "text/html": [
       "<div>\n",
       "<style scoped>\n",
       "    .dataframe tbody tr th:only-of-type {\n",
       "        vertical-align: middle;\n",
       "    }\n",
       "\n",
       "    .dataframe tbody tr th {\n",
       "        vertical-align: top;\n",
       "    }\n",
       "\n",
       "    .dataframe thead th {\n",
       "        text-align: right;\n",
       "    }\n",
       "</style>\n",
       "<table border=\"1\" class=\"dataframe\">\n",
       "  <thead>\n",
       "    <tr style=\"text-align: right;\">\n",
       "      <th></th>\n",
       "      <th>A</th>\n",
       "      <th>B</th>\n",
       "      <th>C</th>\n",
       "      <th>Row_Sum</th>\n",
       "      <th>A_squared</th>\n",
       "    </tr>\n",
       "  </thead>\n",
       "  <tbody>\n",
       "    <tr>\n",
       "      <th>0</th>\n",
       "      <td>1</td>\n",
       "      <td>16</td>\n",
       "      <td>49</td>\n",
       "      <td>144</td>\n",
       "      <td>1</td>\n",
       "    </tr>\n",
       "    <tr>\n",
       "      <th>1</th>\n",
       "      <td>4</td>\n",
       "      <td>25</td>\n",
       "      <td>64</td>\n",
       "      <td>225</td>\n",
       "      <td>16</td>\n",
       "    </tr>\n",
       "    <tr>\n",
       "      <th>2</th>\n",
       "      <td>9</td>\n",
       "      <td>36</td>\n",
       "      <td>81</td>\n",
       "      <td>324</td>\n",
       "      <td>81</td>\n",
       "    </tr>\n",
       "  </tbody>\n",
       "</table>\n",
       "</div>"
      ],
      "text/plain": [
       "   A   B   C  Row_Sum  A_squared\n",
       "0  1  16  49      144          1\n",
       "1  4  25  64      225         16\n",
       "2  9  36  81      324         81"
      ]
     },
     "execution_count": 87,
     "metadata": {},
     "output_type": "execute_result"
    }
   ],
   "source": [
    "df.map(square)"
   ]
  },
  {
   "cell_type": "markdown",
   "id": "ab0eda39",
   "metadata": {},
   "source": [
    "When applying a function to an entire DataFrame, it's important to ensure that all columns have the same data type. Otherwise, you might encounter errors or unexpected behavior."
   ]
  },
  {
   "cell_type": "code",
   "execution_count": 88,
   "id": "ca1bfb46",
   "metadata": {},
   "outputs": [],
   "source": [
    "# Create a DataFrame\n",
    "df_str = pd.DataFrame({\n",
    "    'A': [1, 2, 3],\n",
    "    'B': ['I', 'major', 'in'],\n",
    "    'C': [7, 8, 9]\n",
    "})\n",
    "# uncomment the following line to run the code\n",
    "# df_str.map(square)"
   ]
  },
  {
   "cell_type": "markdown",
   "id": "42918830",
   "metadata": {},
   "source": [
    "### Key Differences Between `map()` and `apply()`\n",
    "\n",
    "| Feature                | `map()`                                   | `apply()`                               |\n",
    "|-----------------------|-------------------------------------------|-----------------------------------------|\n",
    "| Applies to            | Both Series and DataFrame                                     | Both Series and DataFrame               |\n",
    "| Functionality         | Element-wise transformations               | Can apply more complex functions (row-wise or column-wise for DataFrame) |\n",
    "| Input                 | Function, dictionary, or another Series  | Function                                 |\n",
    "| Use Case              | Used for simpler element-wise replacements or mappings | Used for more complex operations that can act on rows, columns, or individual elements |\n",
    "| Axis Option           | N/A                                       | Can specify axis in DataFrame (row-wise or column-wise) |\n",
    "\n",
    "#### Summary:\n",
    "- `map()`: Primarily used for element-wise operations. It can take functions, dictionaries, or Series as input for substitution or transformation.\n",
    "- `apply()`: Apply complex functions across rows or columns.\n"
   ]
  },
  {
   "cell_type": "markdown",
   "id": "737dba7b",
   "metadata": {},
   "source": [
    "## Introduction to Lambda Functions in Pandas\n",
    "\n",
    "A lambda function is a small, anonymous function defined using the lambda keyword in Python. It can take any number of arguments but can only have one expression. In pandas, lambda functions are often used for quick and concise operations on data.\n",
    "\n",
    "### Syntax of Lambda Functions: \n",
    "\n",
    "\n",
    "`lambda arguments: expression`\n",
    "\n",
    "\n",
    "### Key Features\n",
    "\n",
    "* **Anonymous**: Lambda functions are defined without a name.\n",
    "* **Concise**: They are typically used for small, simple functions that are not reused elsewhere.\n",
    "* **Single Expression**: They can only contain one expression, which is evaluated and returned.\n",
    "\n",
    "Lambda functions are commonly used with `apply()` and `map()` to efficiently transform data in pandas, allowing for quick, inline function definitions without the need to explicitly define separate functions.\n",
    "\n",
    "Let's use a lambda function to rewrite the `apply()` and `map()` operations from the previous example"
   ]
  },
  {
   "cell_type": "code",
   "execution_count": 89,
   "id": "18abc024",
   "metadata": {},
   "outputs": [
    {
     "data": {
      "text/html": [
       "<div>\n",
       "<style scoped>\n",
       "    .dataframe tbody tr th:only-of-type {\n",
       "        vertical-align: middle;\n",
       "    }\n",
       "\n",
       "    .dataframe tbody tr th {\n",
       "        vertical-align: top;\n",
       "    }\n",
       "\n",
       "    .dataframe thead th {\n",
       "        text-align: right;\n",
       "    }\n",
       "</style>\n",
       "<table border=\"1\" class=\"dataframe\">\n",
       "  <thead>\n",
       "    <tr style=\"text-align: right;\">\n",
       "      <th></th>\n",
       "      <th>A</th>\n",
       "      <th>B</th>\n",
       "      <th>C</th>\n",
       "      <th>Row_Sum</th>\n",
       "      <th>A_squared</th>\n",
       "      <th>A_squared_lamdba</th>\n",
       "    </tr>\n",
       "  </thead>\n",
       "  <tbody>\n",
       "    <tr>\n",
       "      <th>0</th>\n",
       "      <td>1</td>\n",
       "      <td>4</td>\n",
       "      <td>7</td>\n",
       "      <td>12</td>\n",
       "      <td>1</td>\n",
       "      <td>1</td>\n",
       "    </tr>\n",
       "    <tr>\n",
       "      <th>1</th>\n",
       "      <td>2</td>\n",
       "      <td>5</td>\n",
       "      <td>8</td>\n",
       "      <td>15</td>\n",
       "      <td>4</td>\n",
       "      <td>4</td>\n",
       "    </tr>\n",
       "    <tr>\n",
       "      <th>2</th>\n",
       "      <td>3</td>\n",
       "      <td>6</td>\n",
       "      <td>9</td>\n",
       "      <td>18</td>\n",
       "      <td>9</td>\n",
       "      <td>9</td>\n",
       "    </tr>\n",
       "  </tbody>\n",
       "</table>\n",
       "</div>"
      ],
      "text/plain": [
       "   A  B  C  Row_Sum  A_squared  A_squared_lamdba\n",
       "0  1  4  7       12          1                 1\n",
       "1  2  5  8       15          4                 4\n",
       "2  3  6  9       18          9                 9"
      ]
     },
     "execution_count": 89,
     "metadata": {},
     "output_type": "execute_result"
    }
   ],
   "source": [
    "df['A_squared_lamdba'] = df['A'].map(lambda x: x ** 2)\n",
    "df"
   ]
  },
  {
   "cell_type": "code",
   "execution_count": 90,
   "id": "b947a9b6",
   "metadata": {},
   "outputs": [
    {
     "data": {
      "text/html": [
       "<div>\n",
       "<style scoped>\n",
       "    .dataframe tbody tr th:only-of-type {\n",
       "        vertical-align: middle;\n",
       "    }\n",
       "\n",
       "    .dataframe tbody tr th {\n",
       "        vertical-align: top;\n",
       "    }\n",
       "\n",
       "    .dataframe thead th {\n",
       "        text-align: right;\n",
       "    }\n",
       "</style>\n",
       "<table border=\"1\" class=\"dataframe\">\n",
       "  <thead>\n",
       "    <tr style=\"text-align: right;\">\n",
       "      <th></th>\n",
       "      <th>A</th>\n",
       "      <th>B</th>\n",
       "      <th>C</th>\n",
       "      <th>Row_Sum</th>\n",
       "      <th>A_squared</th>\n",
       "      <th>A_squared_lamdba</th>\n",
       "    </tr>\n",
       "  </thead>\n",
       "  <tbody>\n",
       "    <tr>\n",
       "      <th>0</th>\n",
       "      <td>1</td>\n",
       "      <td>16</td>\n",
       "      <td>49</td>\n",
       "      <td>144</td>\n",
       "      <td>1</td>\n",
       "      <td>1</td>\n",
       "    </tr>\n",
       "    <tr>\n",
       "      <th>1</th>\n",
       "      <td>4</td>\n",
       "      <td>25</td>\n",
       "      <td>64</td>\n",
       "      <td>225</td>\n",
       "      <td>16</td>\n",
       "      <td>16</td>\n",
       "    </tr>\n",
       "    <tr>\n",
       "      <th>2</th>\n",
       "      <td>9</td>\n",
       "      <td>36</td>\n",
       "      <td>81</td>\n",
       "      <td>324</td>\n",
       "      <td>81</td>\n",
       "      <td>81</td>\n",
       "    </tr>\n",
       "  </tbody>\n",
       "</table>\n",
       "</div>"
      ],
      "text/plain": [
       "   A   B   C  Row_Sum  A_squared  A_squared_lamdba\n",
       "0  1  16  49      144          1                 1\n",
       "1  4  25  64      225         16                16\n",
       "2  9  36  81      324         81                81"
      ]
     },
     "execution_count": 90,
     "metadata": {},
     "output_type": "execute_result"
    }
   ],
   "source": [
    "df_squared = df.apply(lambda x: x ** 2)\n",
    "df_squared"
   ]
  },
  {
   "cell_type": "markdown",
   "id": "2587e726",
   "metadata": {},
   "source": [
    "Let's look at other examples using lambda\n",
    "\n",
    "Example 1: adding a new column based on existing columns"
   ]
  },
  {
   "cell_type": "code",
   "execution_count": 91,
   "id": "3ca997ed",
   "metadata": {},
   "outputs": [
    {
     "name": "stdout",
     "output_type": "stream",
     "text": [
      "   A  B  C\n",
      "0  1  4  5\n",
      "1  2  5  7\n",
      "2  3  6  9\n"
     ]
    }
   ],
   "source": [
    "# Create a DataFrame\n",
    "df = pd.DataFrame({\n",
    "    'A': [1, 2, 3],\n",
    "    'B': [4, 5, 6]\n",
    "})\n",
    "\n",
    "# Use a lambda function to create a new column 'C' as the sum of 'A' and 'B'\n",
    "df['C'] = df.apply(lambda row: row['A'] + row['B'], axis=1)\n",
    "print(df)\n"
   ]
  },
  {
   "cell_type": "markdown",
   "id": "b3d5511b",
   "metadata": {},
   "source": [
    "Example 2: Filter rows based on a condition"
   ]
  },
  {
   "cell_type": "code",
   "execution_count": 92,
   "id": "af222e36",
   "metadata": {},
   "outputs": [
    {
     "name": "stdout",
     "output_type": "stream",
     "text": [
      "   A  B  C\n",
      "1  2  5  7\n",
      "2  3  6  9\n"
     ]
    }
   ],
   "source": [
    "# Filter rows where values in column 'A' are greater than 1\n",
    "filtered_df = df[df['A'].apply(lambda x: x > 1)]\n",
    "print(filtered_df)\n"
   ]
  },
  {
   "cell_type": "markdown",
   "id": "e0dffd6f",
   "metadata": {},
   "source": [
    "## Understanding `inplace=True` and `inplace=False`\n",
    "\n",
    "Above, we covered multiple methods that allow you to modify a DataFrame or Series. The `inplace` parameter of these methods determines whether the operation modifies the original object or returns a new object.\n",
    "\n",
    "* `inplace=True`: Modifies the original DataFrame or Series directly and returns None. The changes are made in place, meaning the original object is altered.\n",
    "* `inplace=False`: Returns a new DataFrame or Series with the modifications, leaving the original object unchanged. This is the default behavior for most methods.\n",
    "\n",
    "**Note**: The default value for the inplace parameter is False for most methods.\n",
    "\n",
    "Usage Example:"
   ]
  },
  {
   "cell_type": "code",
   "execution_count": 1,
   "id": "bdeb868e",
   "metadata": {},
   "outputs": [
    {
     "name": "stdout",
     "output_type": "stream",
     "text": [
      "   B\n",
      "0  4\n",
      "1  5\n",
      "2  6\n",
      "   A  B\n",
      "0  1  4\n",
      "1  2  5\n",
      "2  3  6\n",
      "   B\n",
      "0  4\n",
      "1  5\n",
      "2  6\n"
     ]
    }
   ],
   "source": [
    "# Create a DataFrame\n",
    "inplace_df = pd.DataFrame({\n",
    "    'A': [1, 2, 3],\n",
    "    'B': [4, 5, 6]\n",
    "})\n",
    "\n",
    "# Drop a column without modifying the original DataFrame\n",
    "df_dropped = inplace_df.drop('A', axis=1)\n",
    "print(df_dropped)  # New DataFrame without column 'A'\n",
    "print(inplace_df)          # Original DataFrame remains unchanged\n",
    "\n",
    "# Drop a column in place\n",
    "inplace_df.drop('A', axis=1, inplace=True)\n",
    "print(inplace_df)          # Original DataFrame is now modified"
   ]
  },
  {
   "cell_type": "markdown",
   "id": "69dc158a",
   "metadata": {},
   "source": [
    "## Case study\n",
    "To see the application of arithematic operations on DataFrames, let us see the case study below."
   ]
  },
  {
   "cell_type": "markdown",
   "id": "fc346de9",
   "metadata": {},
   "source": [
    "**Song recommendation:** Spotify recommends songs based on songs listened by the user. Suppose you have listened to the song *drivers license*. Spotify intends to recommend you 5 songs that are *similar* to *drivers license*. Which songs should it recommend?"
   ]
  },
  {
   "cell_type": "markdown",
   "id": "2813fa7a",
   "metadata": {},
   "source": [
    "Let us see the available song information that can help us identify songs similar to *drivers license*. The [columns](https://pandas.pydata.org/docs/reference/api/pandas.DataFrame.columns.html) attribute of DataFrame will display all the columns names. The description of some of the column names relating to audio features is [here](https://developer.spotify.com/documentation/web-api/reference/#/operations/get-audio-features)."
   ]
  },
  {
   "cell_type": "code",
   "execution_count": 93,
   "id": "de50b39c",
   "metadata": {},
   "outputs": [
    {
     "data": {
      "text/plain": [
       "Index(['artist_followers', 'genres', 'artist_name', 'artist_popularity',\n",
       "       'track_name', 'track_popularity', 'duration_ms', 'explicit',\n",
       "       'release_year', 'danceability', 'energy', 'key', 'loudness', 'mode',\n",
       "       'speechiness', 'acousticness', 'instrumentalness', 'liveness',\n",
       "       'valence', 'tempo', 'time_signature'],\n",
       "      dtype='object')"
      ]
     },
     "execution_count": 93,
     "metadata": {},
     "output_type": "execute_result"
    }
   ],
   "source": [
    "spotify_data.columns"
   ]
  },
  {
   "cell_type": "markdown",
   "id": "b4d5875d",
   "metadata": {},
   "source": [
    "**Solution approach:** We have several features of a song. Let us find songs similar to *drivers license* in terms of *danceability, energy, key, loudness, mode, speechiness, acousticness, instrumentalness, liveness, valence, time_signature* and *tempo*. Note that we are considering only audio features for simplicity."
   ]
  },
  {
   "cell_type": "markdown",
   "id": "fb8b05ea",
   "metadata": {},
   "source": [
    "To find the songs most similar to *drivers license*, we need to define a measure that quantifies the similarity. Let us define similarity of a song with *drivers license* as the Euclidean distance of the song from *drivers license*, where the coordinates of a song are: (danceability, energy, key, loudness, mode, speechiness, acousticness, instrumentalness, liveness, valence, time_signature, tempo). Thus, similarity can be formulated as:\n",
    "\n",
    "$$Similarity_{DL-S} = \\sqrt{(danceability_{DL}-danceability_{S})^2+(energy_{DL}-energy_{S})^2 +...+ (tempo_{DL}-tempo_{S})^2)},$$"
   ]
  },
  {
   "cell_type": "markdown",
   "id": "304ef2ae",
   "metadata": {},
   "source": [
    "where the subscript *DL* stands for *drivers license* and *S* stands for any song. The top 5 songs with the least value of $Similarity_{DL-S}$ will be the most similar to *drivers lincense* and should be recommended."
   ]
  },
  {
   "cell_type": "markdown",
   "id": "7de72c60",
   "metadata": {},
   "source": [
    "Let us subset the columns that we need to use to compute the Euclidean distance."
   ]
  },
  {
   "cell_type": "code",
   "execution_count": 94,
   "id": "58f9e121",
   "metadata": {},
   "outputs": [],
   "source": [
    "audio_features = spotify_data[['danceability', 'energy', 'key', 'loudness','mode','speechiness',\n",
    "                               'acousticness', 'instrumentalness', 'liveness','valence', 'tempo', 'time_signature']]"
   ]
  },
  {
   "cell_type": "code",
   "execution_count": 95,
   "id": "14ce032f",
   "metadata": {},
   "outputs": [
    {
     "data": {
      "text/html": [
       "<div>\n",
       "<style scoped>\n",
       "    .dataframe tbody tr th:only-of-type {\n",
       "        vertical-align: middle;\n",
       "    }\n",
       "\n",
       "    .dataframe tbody tr th {\n",
       "        vertical-align: top;\n",
       "    }\n",
       "\n",
       "    .dataframe thead th {\n",
       "        text-align: right;\n",
       "    }\n",
       "</style>\n",
       "<table border=\"1\" class=\"dataframe\">\n",
       "  <thead>\n",
       "    <tr style=\"text-align: right;\">\n",
       "      <th></th>\n",
       "      <th>danceability</th>\n",
       "      <th>energy</th>\n",
       "      <th>key</th>\n",
       "      <th>loudness</th>\n",
       "      <th>mode</th>\n",
       "      <th>speechiness</th>\n",
       "      <th>acousticness</th>\n",
       "      <th>instrumentalness</th>\n",
       "      <th>liveness</th>\n",
       "      <th>valence</th>\n",
       "      <th>tempo</th>\n",
       "      <th>time_signature</th>\n",
       "    </tr>\n",
       "  </thead>\n",
       "  <tbody>\n",
       "    <tr>\n",
       "      <th>0</th>\n",
       "      <td>0.673</td>\n",
       "      <td>0.529</td>\n",
       "      <td>0</td>\n",
       "      <td>-7.226</td>\n",
       "      <td>1</td>\n",
       "      <td>0.3060</td>\n",
       "      <td>0.0769</td>\n",
       "      <td>0.000338</td>\n",
       "      <td>0.0856</td>\n",
       "      <td>0.203</td>\n",
       "      <td>161.991</td>\n",
       "      <td>4</td>\n",
       "    </tr>\n",
       "    <tr>\n",
       "      <th>1</th>\n",
       "      <td>0.511</td>\n",
       "      <td>0.566</td>\n",
       "      <td>6</td>\n",
       "      <td>-7.230</td>\n",
       "      <td>0</td>\n",
       "      <td>0.2000</td>\n",
       "      <td>0.3490</td>\n",
       "      <td>0.000000</td>\n",
       "      <td>0.3400</td>\n",
       "      <td>0.218</td>\n",
       "      <td>83.903</td>\n",
       "      <td>4</td>\n",
       "    </tr>\n",
       "    <tr>\n",
       "      <th>2</th>\n",
       "      <td>0.699</td>\n",
       "      <td>0.687</td>\n",
       "      <td>7</td>\n",
       "      <td>-3.997</td>\n",
       "      <td>0</td>\n",
       "      <td>0.1060</td>\n",
       "      <td>0.3080</td>\n",
       "      <td>0.000036</td>\n",
       "      <td>0.1210</td>\n",
       "      <td>0.499</td>\n",
       "      <td>88.933</td>\n",
       "      <td>4</td>\n",
       "    </tr>\n",
       "    <tr>\n",
       "      <th>3</th>\n",
       "      <td>0.708</td>\n",
       "      <td>0.690</td>\n",
       "      <td>2</td>\n",
       "      <td>-5.181</td>\n",
       "      <td>1</td>\n",
       "      <td>0.0442</td>\n",
       "      <td>0.3480</td>\n",
       "      <td>0.000000</td>\n",
       "      <td>0.2220</td>\n",
       "      <td>0.543</td>\n",
       "      <td>79.993</td>\n",
       "      <td>4</td>\n",
       "    </tr>\n",
       "    <tr>\n",
       "      <th>4</th>\n",
       "      <td>0.753</td>\n",
       "      <td>0.597</td>\n",
       "      <td>8</td>\n",
       "      <td>-8.469</td>\n",
       "      <td>1</td>\n",
       "      <td>0.2920</td>\n",
       "      <td>0.0477</td>\n",
       "      <td>0.000000</td>\n",
       "      <td>0.1970</td>\n",
       "      <td>0.616</td>\n",
       "      <td>76.997</td>\n",
       "      <td>4</td>\n",
       "    </tr>\n",
       "  </tbody>\n",
       "</table>\n",
       "</div>"
      ],
      "text/plain": [
       "   danceability  energy  key  loudness  mode  speechiness  acousticness  \\\n",
       "0         0.673   0.529    0    -7.226     1       0.3060        0.0769   \n",
       "1         0.511   0.566    6    -7.230     0       0.2000        0.3490   \n",
       "2         0.699   0.687    7    -3.997     0       0.1060        0.3080   \n",
       "3         0.708   0.690    2    -5.181     1       0.0442        0.3480   \n",
       "4         0.753   0.597    8    -8.469     1       0.2920        0.0477   \n",
       "\n",
       "   instrumentalness  liveness  valence    tempo  time_signature  \n",
       "0          0.000338    0.0856    0.203  161.991               4  \n",
       "1          0.000000    0.3400    0.218   83.903               4  \n",
       "2          0.000036    0.1210    0.499   88.933               4  \n",
       "3          0.000000    0.2220    0.543   79.993               4  \n",
       "4          0.000000    0.1970    0.616   76.997               4  "
      ]
     },
     "execution_count": 95,
     "metadata": {},
     "output_type": "execute_result"
    }
   ],
   "source": [
    "audio_features.head()"
   ]
  },
  {
   "cell_type": "code",
   "execution_count": 96,
   "id": "ff58a3b1",
   "metadata": {},
   "outputs": [
    {
     "data": {
      "text/html": [
       "<div>\n",
       "<style scoped>\n",
       "    .dataframe tbody tr th:only-of-type {\n",
       "        vertical-align: middle;\n",
       "    }\n",
       "\n",
       "    .dataframe tbody tr th {\n",
       "        vertical-align: top;\n",
       "    }\n",
       "\n",
       "    .dataframe thead th {\n",
       "        text-align: right;\n",
       "    }\n",
       "</style>\n",
       "<table border=\"1\" class=\"dataframe\">\n",
       "  <thead>\n",
       "    <tr style=\"text-align: right;\">\n",
       "      <th></th>\n",
       "      <th>danceability</th>\n",
       "      <th>energy</th>\n",
       "      <th>key</th>\n",
       "      <th>loudness</th>\n",
       "      <th>mode</th>\n",
       "      <th>speechiness</th>\n",
       "      <th>acousticness</th>\n",
       "      <th>instrumentalness</th>\n",
       "      <th>liveness</th>\n",
       "      <th>valence</th>\n",
       "      <th>tempo</th>\n",
       "      <th>time_signature</th>\n",
       "    </tr>\n",
       "  </thead>\n",
       "  <tbody>\n",
       "    <tr>\n",
       "      <th>count</th>\n",
       "      <td>243190.000000</td>\n",
       "      <td>243190.000000</td>\n",
       "      <td>243190.000000</td>\n",
       "      <td>243190.000000</td>\n",
       "      <td>243190.000000</td>\n",
       "      <td>243190.000000</td>\n",
       "      <td>243190.000000</td>\n",
       "      <td>243190.000000</td>\n",
       "      <td>243190.000000</td>\n",
       "      <td>243190.000000</td>\n",
       "      <td>243190.000000</td>\n",
       "      <td>243190.000000</td>\n",
       "    </tr>\n",
       "    <tr>\n",
       "      <th>mean</th>\n",
       "      <td>0.568357</td>\n",
       "      <td>0.580633</td>\n",
       "      <td>5.240326</td>\n",
       "      <td>-9.432548</td>\n",
       "      <td>0.670928</td>\n",
       "      <td>0.111984</td>\n",
       "      <td>0.383938</td>\n",
       "      <td>0.071169</td>\n",
       "      <td>0.223756</td>\n",
       "      <td>0.552302</td>\n",
       "      <td>119.335060</td>\n",
       "      <td>3.884177</td>\n",
       "    </tr>\n",
       "    <tr>\n",
       "      <th>std</th>\n",
       "      <td>0.159444</td>\n",
       "      <td>0.236631</td>\n",
       "      <td>3.532546</td>\n",
       "      <td>4.449731</td>\n",
       "      <td>0.469877</td>\n",
       "      <td>0.198068</td>\n",
       "      <td>0.321142</td>\n",
       "      <td>0.209555</td>\n",
       "      <td>0.198076</td>\n",
       "      <td>0.250017</td>\n",
       "      <td>29.864219</td>\n",
       "      <td>0.458082</td>\n",
       "    </tr>\n",
       "    <tr>\n",
       "      <th>min</th>\n",
       "      <td>0.000000</td>\n",
       "      <td>0.000000</td>\n",
       "      <td>0.000000</td>\n",
       "      <td>-60.000000</td>\n",
       "      <td>0.000000</td>\n",
       "      <td>0.000000</td>\n",
       "      <td>0.000000</td>\n",
       "      <td>0.000000</td>\n",
       "      <td>0.000000</td>\n",
       "      <td>0.000000</td>\n",
       "      <td>0.000000</td>\n",
       "      <td>0.000000</td>\n",
       "    </tr>\n",
       "    <tr>\n",
       "      <th>25%</th>\n",
       "      <td>0.462000</td>\n",
       "      <td>0.405000</td>\n",
       "      <td>2.000000</td>\n",
       "      <td>-11.990000</td>\n",
       "      <td>0.000000</td>\n",
       "      <td>0.033200</td>\n",
       "      <td>0.070000</td>\n",
       "      <td>0.000000</td>\n",
       "      <td>0.098100</td>\n",
       "      <td>0.353000</td>\n",
       "      <td>96.099250</td>\n",
       "      <td>4.000000</td>\n",
       "    </tr>\n",
       "    <tr>\n",
       "      <th>50%</th>\n",
       "      <td>0.579000</td>\n",
       "      <td>0.591000</td>\n",
       "      <td>5.000000</td>\n",
       "      <td>-8.645000</td>\n",
       "      <td>1.000000</td>\n",
       "      <td>0.043100</td>\n",
       "      <td>0.325000</td>\n",
       "      <td>0.000011</td>\n",
       "      <td>0.141000</td>\n",
       "      <td>0.560000</td>\n",
       "      <td>118.002000</td>\n",
       "      <td>4.000000</td>\n",
       "    </tr>\n",
       "    <tr>\n",
       "      <th>75%</th>\n",
       "      <td>0.685000</td>\n",
       "      <td>0.776000</td>\n",
       "      <td>8.000000</td>\n",
       "      <td>-6.131000</td>\n",
       "      <td>1.000000</td>\n",
       "      <td>0.075300</td>\n",
       "      <td>0.671000</td>\n",
       "      <td>0.002220</td>\n",
       "      <td>0.292000</td>\n",
       "      <td>0.760000</td>\n",
       "      <td>137.929000</td>\n",
       "      <td>4.000000</td>\n",
       "    </tr>\n",
       "    <tr>\n",
       "      <th>max</th>\n",
       "      <td>0.988000</td>\n",
       "      <td>1.000000</td>\n",
       "      <td>11.000000</td>\n",
       "      <td>3.744000</td>\n",
       "      <td>1.000000</td>\n",
       "      <td>0.969000</td>\n",
       "      <td>0.996000</td>\n",
       "      <td>1.000000</td>\n",
       "      <td>1.000000</td>\n",
       "      <td>1.000000</td>\n",
       "      <td>243.507000</td>\n",
       "      <td>5.000000</td>\n",
       "    </tr>\n",
       "  </tbody>\n",
       "</table>\n",
       "</div>"
      ],
      "text/plain": [
       "        danceability         energy            key       loudness  \\\n",
       "count  243190.000000  243190.000000  243190.000000  243190.000000   \n",
       "mean        0.568357       0.580633       5.240326      -9.432548   \n",
       "std         0.159444       0.236631       3.532546       4.449731   \n",
       "min         0.000000       0.000000       0.000000     -60.000000   \n",
       "25%         0.462000       0.405000       2.000000     -11.990000   \n",
       "50%         0.579000       0.591000       5.000000      -8.645000   \n",
       "75%         0.685000       0.776000       8.000000      -6.131000   \n",
       "max         0.988000       1.000000      11.000000       3.744000   \n",
       "\n",
       "                mode    speechiness   acousticness  instrumentalness  \\\n",
       "count  243190.000000  243190.000000  243190.000000     243190.000000   \n",
       "mean        0.670928       0.111984       0.383938          0.071169   \n",
       "std         0.469877       0.198068       0.321142          0.209555   \n",
       "min         0.000000       0.000000       0.000000          0.000000   \n",
       "25%         0.000000       0.033200       0.070000          0.000000   \n",
       "50%         1.000000       0.043100       0.325000          0.000011   \n",
       "75%         1.000000       0.075300       0.671000          0.002220   \n",
       "max         1.000000       0.969000       0.996000          1.000000   \n",
       "\n",
       "            liveness        valence          tempo  time_signature  \n",
       "count  243190.000000  243190.000000  243190.000000   243190.000000  \n",
       "mean        0.223756       0.552302     119.335060        3.884177  \n",
       "std         0.198076       0.250017      29.864219        0.458082  \n",
       "min         0.000000       0.000000       0.000000        0.000000  \n",
       "25%         0.098100       0.353000      96.099250        4.000000  \n",
       "50%         0.141000       0.560000     118.002000        4.000000  \n",
       "75%         0.292000       0.760000     137.929000        4.000000  \n",
       "max         1.000000       1.000000     243.507000        5.000000  "
      ]
     },
     "execution_count": 96,
     "metadata": {},
     "output_type": "execute_result"
    }
   ],
   "source": [
    "#Distribution of values of audio_features\n",
    "audio_features.describe()"
   ]
  },
  {
   "cell_type": "markdown",
   "id": "995f5998",
   "metadata": {},
   "source": [
    "Note that the audio features differ in terms of scale. Some features like *key* have a wide range of [0,11], while others like *danceability* have a very narrow range of [0,0.988]. If we use them directly, features like *danceability* will have a much higher influence on $Similarity_{DL-S}$ as compared to features like *key*. Assuming we wish all the features to have equal weight in quantifying a song's similarity to *drivers license*, we should scale the features, so that their values are comparable."
   ]
  },
  {
   "cell_type": "markdown",
   "id": "a4c9ae9e",
   "metadata": {},
   "source": [
    "Let us scale the value of each column to a standard uniform distribution: $U[0,1]$."
   ]
  },
  {
   "cell_type": "markdown",
   "id": "f9fb9d64",
   "metadata": {},
   "source": [
    "For scaling the values of a column to $U[0,1]$, we need to subtract the minimum value of the column from each value, and divide by the range of values of the column. For example, *danceability* can be standardized as follows:"
   ]
  },
  {
   "cell_type": "code",
   "execution_count": 97,
   "id": "1b0770a3",
   "metadata": {},
   "outputs": [
    {
     "data": {
      "text/plain": [
       "0         0.681174\n",
       "1         0.517206\n",
       "2         0.707490\n",
       "3         0.716599\n",
       "4         0.762146\n",
       "            ...   \n",
       "243185    0.621457\n",
       "243186    0.797571\n",
       "243187    0.533401\n",
       "243188    0.565789\n",
       "243189    0.750000\n",
       "Name: danceability, Length: 243190, dtype: float64"
      ]
     },
     "execution_count": 97,
     "metadata": {},
     "output_type": "execute_result"
    }
   ],
   "source": [
    "#Scaling danceability to U[0,1]\n",
    "danceability_value_range = audio_features.danceability.max()-audio_features.danceability.min()\n",
    "danceability_std = (audio_features.danceability-audio_features.danceability.min())/danceability_value_range\n",
    "danceability_std"
   ]
  },
  {
   "cell_type": "markdown",
   "id": "ae9b693e",
   "metadata": {},
   "source": [
    "However, it will be cumbersome to repeat the above code for each audio feature. We can instead write a function that scales values of a column to $U[0,1]$, and apply the function on all the audio features."
   ]
  },
  {
   "cell_type": "code",
   "execution_count": 98,
   "id": "fac4cf58",
   "metadata": {},
   "outputs": [],
   "source": [
    "#Function to scale a column to U[0,1]\n",
    "def scale_uniform(x):\n",
    "    return (x-x.min())/(x.max()-x.min())"
   ]
  },
  {
   "cell_type": "markdown",
   "id": "961377b7",
   "metadata": {},
   "source": [
    "We will use the Pandas function [apply()](https://pandas.pydata.org/docs/reference/api/pandas.DataFrame.apply.html) to apply the above function to the DataFrame `audio_features`."
   ]
  },
  {
   "cell_type": "code",
   "execution_count": 99,
   "id": "22d00959",
   "metadata": {},
   "outputs": [],
   "source": [
    "#Scaling all audio features to U[0,1]\n",
    "audio_features_scaled = audio_features.apply(scale_uniform)"
   ]
  },
  {
   "cell_type": "markdown",
   "id": "82ecf210",
   "metadata": {},
   "source": [
    "The above two blocks of code can be concisely written with the `lambda` function as:"
   ]
  },
  {
   "cell_type": "code",
   "execution_count": 100,
   "id": "9bd969df",
   "metadata": {},
   "outputs": [],
   "source": [
    "audio_features_scaled = audio_features.apply(lambda x: (x-x.min())/(x.max()-x.min()))"
   ]
  },
  {
   "cell_type": "code",
   "execution_count": 101,
   "id": "de3d4ad3",
   "metadata": {},
   "outputs": [
    {
     "data": {
      "text/html": [
       "<div>\n",
       "<style scoped>\n",
       "    .dataframe tbody tr th:only-of-type {\n",
       "        vertical-align: middle;\n",
       "    }\n",
       "\n",
       "    .dataframe tbody tr th {\n",
       "        vertical-align: top;\n",
       "    }\n",
       "\n",
       "    .dataframe thead th {\n",
       "        text-align: right;\n",
       "    }\n",
       "</style>\n",
       "<table border=\"1\" class=\"dataframe\">\n",
       "  <thead>\n",
       "    <tr style=\"text-align: right;\">\n",
       "      <th></th>\n",
       "      <th>danceability</th>\n",
       "      <th>energy</th>\n",
       "      <th>key</th>\n",
       "      <th>loudness</th>\n",
       "      <th>mode</th>\n",
       "      <th>speechiness</th>\n",
       "      <th>acousticness</th>\n",
       "      <th>instrumentalness</th>\n",
       "      <th>liveness</th>\n",
       "      <th>valence</th>\n",
       "      <th>tempo</th>\n",
       "      <th>time_signature</th>\n",
       "    </tr>\n",
       "  </thead>\n",
       "  <tbody>\n",
       "    <tr>\n",
       "      <th>count</th>\n",
       "      <td>243190.000000</td>\n",
       "      <td>243190.000000</td>\n",
       "      <td>243190.000000</td>\n",
       "      <td>243190.000000</td>\n",
       "      <td>243190.000000</td>\n",
       "      <td>243190.000000</td>\n",
       "      <td>243190.000000</td>\n",
       "      <td>243190.000000</td>\n",
       "      <td>243190.000000</td>\n",
       "      <td>243190.000000</td>\n",
       "      <td>243190.000000</td>\n",
       "      <td>243190.000000</td>\n",
       "    </tr>\n",
       "    <tr>\n",
       "      <th>mean</th>\n",
       "      <td>0.575260</td>\n",
       "      <td>0.580633</td>\n",
       "      <td>0.476393</td>\n",
       "      <td>0.793290</td>\n",
       "      <td>0.670928</td>\n",
       "      <td>0.115566</td>\n",
       "      <td>0.385480</td>\n",
       "      <td>0.071169</td>\n",
       "      <td>0.223756</td>\n",
       "      <td>0.552302</td>\n",
       "      <td>0.490068</td>\n",
       "      <td>0.776835</td>\n",
       "    </tr>\n",
       "    <tr>\n",
       "      <th>std</th>\n",
       "      <td>0.161380</td>\n",
       "      <td>0.236631</td>\n",
       "      <td>0.321141</td>\n",
       "      <td>0.069806</td>\n",
       "      <td>0.469877</td>\n",
       "      <td>0.204405</td>\n",
       "      <td>0.322431</td>\n",
       "      <td>0.209555</td>\n",
       "      <td>0.198076</td>\n",
       "      <td>0.250017</td>\n",
       "      <td>0.122642</td>\n",
       "      <td>0.091616</td>\n",
       "    </tr>\n",
       "    <tr>\n",
       "      <th>min</th>\n",
       "      <td>0.000000</td>\n",
       "      <td>0.000000</td>\n",
       "      <td>0.000000</td>\n",
       "      <td>0.000000</td>\n",
       "      <td>0.000000</td>\n",
       "      <td>0.000000</td>\n",
       "      <td>0.000000</td>\n",
       "      <td>0.000000</td>\n",
       "      <td>0.000000</td>\n",
       "      <td>0.000000</td>\n",
       "      <td>0.000000</td>\n",
       "      <td>0.000000</td>\n",
       "    </tr>\n",
       "    <tr>\n",
       "      <th>25%</th>\n",
       "      <td>0.467611</td>\n",
       "      <td>0.405000</td>\n",
       "      <td>0.181818</td>\n",
       "      <td>0.753169</td>\n",
       "      <td>0.000000</td>\n",
       "      <td>0.034262</td>\n",
       "      <td>0.070281</td>\n",
       "      <td>0.000000</td>\n",
       "      <td>0.098100</td>\n",
       "      <td>0.353000</td>\n",
       "      <td>0.394647</td>\n",
       "      <td>0.800000</td>\n",
       "    </tr>\n",
       "    <tr>\n",
       "      <th>50%</th>\n",
       "      <td>0.586032</td>\n",
       "      <td>0.591000</td>\n",
       "      <td>0.454545</td>\n",
       "      <td>0.805644</td>\n",
       "      <td>1.000000</td>\n",
       "      <td>0.044479</td>\n",
       "      <td>0.326305</td>\n",
       "      <td>0.000011</td>\n",
       "      <td>0.141000</td>\n",
       "      <td>0.560000</td>\n",
       "      <td>0.484594</td>\n",
       "      <td>0.800000</td>\n",
       "    </tr>\n",
       "    <tr>\n",
       "      <th>75%</th>\n",
       "      <td>0.693320</td>\n",
       "      <td>0.776000</td>\n",
       "      <td>0.727273</td>\n",
       "      <td>0.845083</td>\n",
       "      <td>1.000000</td>\n",
       "      <td>0.077709</td>\n",
       "      <td>0.673695</td>\n",
       "      <td>0.002220</td>\n",
       "      <td>0.292000</td>\n",
       "      <td>0.760000</td>\n",
       "      <td>0.566427</td>\n",
       "      <td>0.800000</td>\n",
       "    </tr>\n",
       "    <tr>\n",
       "      <th>max</th>\n",
       "      <td>1.000000</td>\n",
       "      <td>1.000000</td>\n",
       "      <td>1.000000</td>\n",
       "      <td>1.000000</td>\n",
       "      <td>1.000000</td>\n",
       "      <td>1.000000</td>\n",
       "      <td>1.000000</td>\n",
       "      <td>1.000000</td>\n",
       "      <td>1.000000</td>\n",
       "      <td>1.000000</td>\n",
       "      <td>1.000000</td>\n",
       "      <td>1.000000</td>\n",
       "    </tr>\n",
       "  </tbody>\n",
       "</table>\n",
       "</div>"
      ],
      "text/plain": [
       "        danceability         energy            key       loudness  \\\n",
       "count  243190.000000  243190.000000  243190.000000  243190.000000   \n",
       "mean        0.575260       0.580633       0.476393       0.793290   \n",
       "std         0.161380       0.236631       0.321141       0.069806   \n",
       "min         0.000000       0.000000       0.000000       0.000000   \n",
       "25%         0.467611       0.405000       0.181818       0.753169   \n",
       "50%         0.586032       0.591000       0.454545       0.805644   \n",
       "75%         0.693320       0.776000       0.727273       0.845083   \n",
       "max         1.000000       1.000000       1.000000       1.000000   \n",
       "\n",
       "                mode    speechiness   acousticness  instrumentalness  \\\n",
       "count  243190.000000  243190.000000  243190.000000     243190.000000   \n",
       "mean        0.670928       0.115566       0.385480          0.071169   \n",
       "std         0.469877       0.204405       0.322431          0.209555   \n",
       "min         0.000000       0.000000       0.000000          0.000000   \n",
       "25%         0.000000       0.034262       0.070281          0.000000   \n",
       "50%         1.000000       0.044479       0.326305          0.000011   \n",
       "75%         1.000000       0.077709       0.673695          0.002220   \n",
       "max         1.000000       1.000000       1.000000          1.000000   \n",
       "\n",
       "            liveness        valence          tempo  time_signature  \n",
       "count  243190.000000  243190.000000  243190.000000   243190.000000  \n",
       "mean        0.223756       0.552302       0.490068        0.776835  \n",
       "std         0.198076       0.250017       0.122642        0.091616  \n",
       "min         0.000000       0.000000       0.000000        0.000000  \n",
       "25%         0.098100       0.353000       0.394647        0.800000  \n",
       "50%         0.141000       0.560000       0.484594        0.800000  \n",
       "75%         0.292000       0.760000       0.566427        0.800000  \n",
       "max         1.000000       1.000000       1.000000        1.000000  "
      ]
     },
     "execution_count": 101,
     "metadata": {},
     "output_type": "execute_result"
    }
   ],
   "source": [
    "#All the audio features are scaled to U[0,1]\n",
    "audio_features_scaled.describe()"
   ]
  },
  {
   "cell_type": "markdown",
   "id": "5779a3eb",
   "metadata": {},
   "source": [
    "Since we need to find the Euclidean distance from the song *drivers license*, let us find the index of the row containing features of *drivers license.*"
   ]
  },
  {
   "cell_type": "code",
   "execution_count": 102,
   "id": "fc313393",
   "metadata": {},
   "outputs": [],
   "source": [
    "#Index of the row consisting of drivers license can be found with the index attribute\n",
    "drivers_license_index = spotify_data[spotify_data.track_name=='drivers license'].index[0]"
   ]
  },
  {
   "cell_type": "markdown",
   "id": "42087353",
   "metadata": {},
   "source": [
    "Note that the object returned by the `index` attribute is of type `pandas.core.indexes.numeric.Int64Index`. The elements of this object can be retrieved like the elements of a python list. That is why the object is sliced with `[0]` to return the first element of the object. As there is only one observation with the `track_name` as *drivers license*, we sliced the first element. If there were multiple observations with `track_name` as *drivers license*, we will obtain the indices of all those observations with the `index` attribute."
   ]
  },
  {
   "cell_type": "code",
   "execution_count": 108,
   "id": "54720e4c",
   "metadata": {},
   "outputs": [
    {
     "data": {
      "text/plain": [
       "danceability        0.592105\n",
       "energy              0.436000\n",
       "key                 0.909091\n",
       "loudness            0.803825\n",
       "mode                1.000000\n",
       "speechiness         0.062023\n",
       "acousticness        0.723896\n",
       "instrumentalness    0.000013\n",
       "liveness            0.105000\n",
       "valence             0.132000\n",
       "tempo               0.590841\n",
       "time_signature      0.800000\n",
       "Name: 2398, dtype: float64"
      ]
     },
     "execution_count": 108,
     "metadata": {},
     "output_type": "execute_result"
    }
   ],
   "source": [
    "audio_features_scaled.loc[drivers_license_index,:]"
   ]
  },
  {
   "cell_type": "markdown",
   "id": "0e2c42db",
   "metadata": {},
   "source": [
    "Now, we'll subtract the audio features of *drivers license* from all other songs (broadcasting):"
   ]
  },
  {
   "cell_type": "code",
   "execution_count": 109,
   "id": "9861092e",
   "metadata": {},
   "outputs": [],
   "source": [
    "#Audio features of drivers license are being subtracted from audio features of all songs by broadcasting\n",
    "songs_minus_DL = audio_features_scaled-audio_features_scaled.loc[drivers_license_index,:]"
   ]
  },
  {
   "cell_type": "markdown",
   "id": "d4723715",
   "metadata": {},
   "source": [
    "Now, let us square the difference computed above. We'll use the in-built python function `pow()` to square the difference:"
   ]
  },
  {
   "cell_type": "code",
   "execution_count": 104,
   "id": "d419a291",
   "metadata": {},
   "outputs": [
    {
     "data": {
      "text/html": [
       "<div>\n",
       "<style scoped>\n",
       "    .dataframe tbody tr th:only-of-type {\n",
       "        vertical-align: middle;\n",
       "    }\n",
       "\n",
       "    .dataframe tbody tr th {\n",
       "        vertical-align: top;\n",
       "    }\n",
       "\n",
       "    .dataframe thead th {\n",
       "        text-align: right;\n",
       "    }\n",
       "</style>\n",
       "<table border=\"1\" class=\"dataframe\">\n",
       "  <thead>\n",
       "    <tr style=\"text-align: right;\">\n",
       "      <th></th>\n",
       "      <th>danceability</th>\n",
       "      <th>energy</th>\n",
       "      <th>key</th>\n",
       "      <th>loudness</th>\n",
       "      <th>mode</th>\n",
       "      <th>speechiness</th>\n",
       "      <th>acousticness</th>\n",
       "      <th>instrumentalness</th>\n",
       "      <th>liveness</th>\n",
       "      <th>valence</th>\n",
       "      <th>tempo</th>\n",
       "      <th>time_signature</th>\n",
       "    </tr>\n",
       "  </thead>\n",
       "  <tbody>\n",
       "    <tr>\n",
       "      <th>0</th>\n",
       "      <td>0.007933</td>\n",
       "      <td>0.008649</td>\n",
       "      <td>0.826446</td>\n",
       "      <td>0.000580</td>\n",
       "      <td>0.0</td>\n",
       "      <td>0.064398</td>\n",
       "      <td>0.418204</td>\n",
       "      <td>1.055600e-07</td>\n",
       "      <td>0.000376</td>\n",
       "      <td>0.005041</td>\n",
       "      <td>0.005535</td>\n",
       "      <td>0.0</td>\n",
       "    </tr>\n",
       "    <tr>\n",
       "      <th>1</th>\n",
       "      <td>0.005610</td>\n",
       "      <td>0.016900</td>\n",
       "      <td>0.132231</td>\n",
       "      <td>0.000577</td>\n",
       "      <td>1.0</td>\n",
       "      <td>0.020844</td>\n",
       "      <td>0.139498</td>\n",
       "      <td>1.716100e-10</td>\n",
       "      <td>0.055225</td>\n",
       "      <td>0.007396</td>\n",
       "      <td>0.060654</td>\n",
       "      <td>0.0</td>\n",
       "    </tr>\n",
       "    <tr>\n",
       "      <th>2</th>\n",
       "      <td>0.013314</td>\n",
       "      <td>0.063001</td>\n",
       "      <td>0.074380</td>\n",
       "      <td>0.005586</td>\n",
       "      <td>1.0</td>\n",
       "      <td>0.002244</td>\n",
       "      <td>0.171942</td>\n",
       "      <td>5.382400e-10</td>\n",
       "      <td>0.000256</td>\n",
       "      <td>0.134689</td>\n",
       "      <td>0.050906</td>\n",
       "      <td>0.0</td>\n",
       "    </tr>\n",
       "    <tr>\n",
       "      <th>3</th>\n",
       "      <td>0.015499</td>\n",
       "      <td>0.064516</td>\n",
       "      <td>0.528926</td>\n",
       "      <td>0.003154</td>\n",
       "      <td>0.0</td>\n",
       "      <td>0.000269</td>\n",
       "      <td>0.140249</td>\n",
       "      <td>1.716100e-10</td>\n",
       "      <td>0.013689</td>\n",
       "      <td>0.168921</td>\n",
       "      <td>0.068821</td>\n",
       "      <td>0.0</td>\n",
       "    </tr>\n",
       "    <tr>\n",
       "      <th>4</th>\n",
       "      <td>0.028914</td>\n",
       "      <td>0.025921</td>\n",
       "      <td>0.033058</td>\n",
       "      <td>0.000021</td>\n",
       "      <td>0.0</td>\n",
       "      <td>0.057274</td>\n",
       "      <td>0.456981</td>\n",
       "      <td>1.716100e-10</td>\n",
       "      <td>0.008464</td>\n",
       "      <td>0.234256</td>\n",
       "      <td>0.075428</td>\n",
       "      <td>0.0</td>\n",
       "    </tr>\n",
       "  </tbody>\n",
       "</table>\n",
       "</div>"
      ],
      "text/plain": [
       "   danceability    energy       key  loudness  mode  speechiness  \\\n",
       "0      0.007933  0.008649  0.826446  0.000580   0.0     0.064398   \n",
       "1      0.005610  0.016900  0.132231  0.000577   1.0     0.020844   \n",
       "2      0.013314  0.063001  0.074380  0.005586   1.0     0.002244   \n",
       "3      0.015499  0.064516  0.528926  0.003154   0.0     0.000269   \n",
       "4      0.028914  0.025921  0.033058  0.000021   0.0     0.057274   \n",
       "\n",
       "   acousticness  instrumentalness  liveness   valence     tempo  \\\n",
       "0      0.418204      1.055600e-07  0.000376  0.005041  0.005535   \n",
       "1      0.139498      1.716100e-10  0.055225  0.007396  0.060654   \n",
       "2      0.171942      5.382400e-10  0.000256  0.134689  0.050906   \n",
       "3      0.140249      1.716100e-10  0.013689  0.168921  0.068821   \n",
       "4      0.456981      1.716100e-10  0.008464  0.234256  0.075428   \n",
       "\n",
       "   time_signature  \n",
       "0             0.0  \n",
       "1             0.0  \n",
       "2             0.0  \n",
       "3             0.0  \n",
       "4             0.0  "
      ]
     },
     "execution_count": 104,
     "metadata": {},
     "output_type": "execute_result"
    }
   ],
   "source": [
    "songs_minus_DL_sq = songs_minus_DL.pow(2)\n",
    "songs_minus_DL_sq.head()"
   ]
  },
  {
   "cell_type": "markdown",
   "id": "366f296e",
   "metadata": {},
   "source": [
    "Now, we'll sum the squares of differences from all audio features to compute the similarity of all songs to *drivers license*."
   ]
  },
  {
   "cell_type": "code",
   "execution_count": 105,
   "id": "080c735c",
   "metadata": {},
   "outputs": [
    {
     "data": {
      "text/plain": [
       "0    1.337163\n",
       "1    1.438935\n",
       "2    1.516317\n",
       "3    1.004043\n",
       "4    0.920316\n",
       "dtype: float64"
      ]
     },
     "execution_count": 105,
     "metadata": {},
     "output_type": "execute_result"
    }
   ],
   "source": [
    "distance_squared = songs_minus_DL_sq.sum(axis = 1)\n",
    "distance_squared.head()"
   ]
  },
  {
   "cell_type": "markdown",
   "id": "1a97e06f",
   "metadata": {},
   "source": [
    "Now, we'll sort these distances to find the top 5 songs closest to drivers's license."
   ]
  },
  {
   "cell_type": "code",
   "execution_count": 106,
   "id": "1ae05e3e",
   "metadata": {},
   "outputs": [
    {
     "data": {
      "text/plain": [
       "2398      0.000000\n",
       "81844     0.008633\n",
       "4397      0.011160\n",
       "130789    0.015018\n",
       "143744    0.015058\n",
       "dtype: float64"
      ]
     },
     "execution_count": 106,
     "metadata": {},
     "output_type": "execute_result"
    }
   ],
   "source": [
    "distances_sorted = distance_squared.sort_values()\n",
    "distances_sorted.head()"
   ]
  },
  {
   "cell_type": "markdown",
   "id": "c829f995",
   "metadata": {},
   "source": [
    "Using the indices of the top 5 distances, we will identify the top 5 songs most similar to *drivers license*:"
   ]
  },
  {
   "cell_type": "code",
   "execution_count": 107,
   "id": "fb89b7af",
   "metadata": {},
   "outputs": [
    {
     "data": {
      "text/html": [
       "<div>\n",
       "<style scoped>\n",
       "    .dataframe tbody tr th:only-of-type {\n",
       "        vertical-align: middle;\n",
       "    }\n",
       "\n",
       "    .dataframe tbody tr th {\n",
       "        vertical-align: top;\n",
       "    }\n",
       "\n",
       "    .dataframe thead th {\n",
       "        text-align: right;\n",
       "    }\n",
       "</style>\n",
       "<table border=\"1\" class=\"dataframe\">\n",
       "  <thead>\n",
       "    <tr style=\"text-align: right;\">\n",
       "      <th></th>\n",
       "      <th>artist_followers</th>\n",
       "      <th>genres</th>\n",
       "      <th>artist_name</th>\n",
       "      <th>artist_popularity</th>\n",
       "      <th>track_name</th>\n",
       "      <th>track_popularity</th>\n",
       "      <th>duration_ms</th>\n",
       "      <th>explicit</th>\n",
       "      <th>release_year</th>\n",
       "      <th>danceability</th>\n",
       "      <th>...</th>\n",
       "      <th>key</th>\n",
       "      <th>loudness</th>\n",
       "      <th>mode</th>\n",
       "      <th>speechiness</th>\n",
       "      <th>acousticness</th>\n",
       "      <th>instrumentalness</th>\n",
       "      <th>liveness</th>\n",
       "      <th>valence</th>\n",
       "      <th>tempo</th>\n",
       "      <th>time_signature</th>\n",
       "    </tr>\n",
       "  </thead>\n",
       "  <tbody>\n",
       "    <tr>\n",
       "      <th>2398</th>\n",
       "      <td>1444702</td>\n",
       "      <td>pop</td>\n",
       "      <td>Olivia Rodrigo</td>\n",
       "      <td>88</td>\n",
       "      <td>drivers license</td>\n",
       "      <td>99</td>\n",
       "      <td>242014</td>\n",
       "      <td>1</td>\n",
       "      <td>2021</td>\n",
       "      <td>0.585</td>\n",
       "      <td>...</td>\n",
       "      <td>10</td>\n",
       "      <td>-8.761</td>\n",
       "      <td>1</td>\n",
       "      <td>0.0601</td>\n",
       "      <td>0.721</td>\n",
       "      <td>0.000013</td>\n",
       "      <td>0.105</td>\n",
       "      <td>0.132</td>\n",
       "      <td>143.874</td>\n",
       "      <td>4</td>\n",
       "    </tr>\n",
       "    <tr>\n",
       "      <th>81844</th>\n",
       "      <td>2264501</td>\n",
       "      <td>pop</td>\n",
       "      <td>Jay Chou</td>\n",
       "      <td>74</td>\n",
       "      <td>安靜</td>\n",
       "      <td>49</td>\n",
       "      <td>334240</td>\n",
       "      <td>0</td>\n",
       "      <td>2001</td>\n",
       "      <td>0.513</td>\n",
       "      <td>...</td>\n",
       "      <td>10</td>\n",
       "      <td>-7.853</td>\n",
       "      <td>1</td>\n",
       "      <td>0.0281</td>\n",
       "      <td>0.688</td>\n",
       "      <td>0.000008</td>\n",
       "      <td>0.116</td>\n",
       "      <td>0.123</td>\n",
       "      <td>143.924</td>\n",
       "      <td>4</td>\n",
       "    </tr>\n",
       "    <tr>\n",
       "      <th>4397</th>\n",
       "      <td>25457</td>\n",
       "      <td>pop</td>\n",
       "      <td>Terence Lam</td>\n",
       "      <td>60</td>\n",
       "      <td>拼命無恙 in Bb major</td>\n",
       "      <td>52</td>\n",
       "      <td>241062</td>\n",
       "      <td>0</td>\n",
       "      <td>2020</td>\n",
       "      <td>0.532</td>\n",
       "      <td>...</td>\n",
       "      <td>10</td>\n",
       "      <td>-9.690</td>\n",
       "      <td>1</td>\n",
       "      <td>0.0269</td>\n",
       "      <td>0.674</td>\n",
       "      <td>0.000000</td>\n",
       "      <td>0.117</td>\n",
       "      <td>0.190</td>\n",
       "      <td>151.996</td>\n",
       "      <td>4</td>\n",
       "    </tr>\n",
       "    <tr>\n",
       "      <th>130789</th>\n",
       "      <td>176266</td>\n",
       "      <td>pop</td>\n",
       "      <td>Alan Tam</td>\n",
       "      <td>54</td>\n",
       "      <td>從後趕上</td>\n",
       "      <td>8</td>\n",
       "      <td>258427</td>\n",
       "      <td>0</td>\n",
       "      <td>1988</td>\n",
       "      <td>0.584</td>\n",
       "      <td>...</td>\n",
       "      <td>10</td>\n",
       "      <td>-11.889</td>\n",
       "      <td>1</td>\n",
       "      <td>0.0282</td>\n",
       "      <td>0.707</td>\n",
       "      <td>0.000002</td>\n",
       "      <td>0.107</td>\n",
       "      <td>0.124</td>\n",
       "      <td>140.147</td>\n",
       "      <td>4</td>\n",
       "    </tr>\n",
       "    <tr>\n",
       "      <th>143744</th>\n",
       "      <td>396326</td>\n",
       "      <td>pop &amp; rock</td>\n",
       "      <td>Laura Branigan</td>\n",
       "      <td>64</td>\n",
       "      <td>How Am I Supposed to Live Without You</td>\n",
       "      <td>40</td>\n",
       "      <td>263320</td>\n",
       "      <td>0</td>\n",
       "      <td>1983</td>\n",
       "      <td>0.559</td>\n",
       "      <td>...</td>\n",
       "      <td>10</td>\n",
       "      <td>-8.260</td>\n",
       "      <td>1</td>\n",
       "      <td>0.0355</td>\n",
       "      <td>0.813</td>\n",
       "      <td>0.000083</td>\n",
       "      <td>0.134</td>\n",
       "      <td>0.185</td>\n",
       "      <td>139.079</td>\n",
       "      <td>4</td>\n",
       "    </tr>\n",
       "    <tr>\n",
       "      <th>35627</th>\n",
       "      <td>1600562</td>\n",
       "      <td>pop</td>\n",
       "      <td>Tiziano Ferro</td>\n",
       "      <td>68</td>\n",
       "      <td>Non Me Lo So Spiegare</td>\n",
       "      <td>44</td>\n",
       "      <td>240040</td>\n",
       "      <td>0</td>\n",
       "      <td>2014</td>\n",
       "      <td>0.609</td>\n",
       "      <td>...</td>\n",
       "      <td>11</td>\n",
       "      <td>-7.087</td>\n",
       "      <td>1</td>\n",
       "      <td>0.0352</td>\n",
       "      <td>0.706</td>\n",
       "      <td>0.000000</td>\n",
       "      <td>0.130</td>\n",
       "      <td>0.207</td>\n",
       "      <td>146.078</td>\n",
       "      <td>4</td>\n",
       "    </tr>\n",
       "  </tbody>\n",
       "</table>\n",
       "<p>6 rows × 21 columns</p>\n",
       "</div>"
      ],
      "text/plain": [
       "        artist_followers      genres     artist_name  artist_popularity  \\\n",
       "2398             1444702         pop  Olivia Rodrigo                 88   \n",
       "81844            2264501         pop        Jay Chou                 74   \n",
       "4397               25457         pop     Terence Lam                 60   \n",
       "130789            176266         pop        Alan Tam                 54   \n",
       "143744            396326  pop & rock  Laura Branigan                 64   \n",
       "35627            1600562         pop   Tiziano Ferro                 68   \n",
       "\n",
       "                                   track_name  track_popularity  duration_ms  \\\n",
       "2398                          drivers license                99       242014   \n",
       "81844                                      安靜                49       334240   \n",
       "4397                         拼命無恙 in Bb major                52       241062   \n",
       "130789                                   從後趕上                 8       258427   \n",
       "143744  How Am I Supposed to Live Without You                40       263320   \n",
       "35627                   Non Me Lo So Spiegare                44       240040   \n",
       "\n",
       "        explicit  release_year  danceability  ...  key  loudness  mode  \\\n",
       "2398           1          2021         0.585  ...   10    -8.761     1   \n",
       "81844          0          2001         0.513  ...   10    -7.853     1   \n",
       "4397           0          2020         0.532  ...   10    -9.690     1   \n",
       "130789         0          1988         0.584  ...   10   -11.889     1   \n",
       "143744         0          1983         0.559  ...   10    -8.260     1   \n",
       "35627          0          2014         0.609  ...   11    -7.087     1   \n",
       "\n",
       "        speechiness  acousticness  instrumentalness  liveness  valence  \\\n",
       "2398         0.0601         0.721          0.000013     0.105    0.132   \n",
       "81844        0.0281         0.688          0.000008     0.116    0.123   \n",
       "4397         0.0269         0.674          0.000000     0.117    0.190   \n",
       "130789       0.0282         0.707          0.000002     0.107    0.124   \n",
       "143744       0.0355         0.813          0.000083     0.134    0.185   \n",
       "35627        0.0352         0.706          0.000000     0.130    0.207   \n",
       "\n",
       "          tempo  time_signature  \n",
       "2398    143.874               4  \n",
       "81844   143.924               4  \n",
       "4397    151.996               4  \n",
       "130789  140.147               4  \n",
       "143744  139.079               4  \n",
       "35627   146.078               4  \n",
       "\n",
       "[6 rows x 21 columns]"
      ]
     },
     "execution_count": 107,
     "metadata": {},
     "output_type": "execute_result"
    }
   ],
   "source": [
    "spotify_data.loc[distances_sorted.index[0:6],:]"
   ]
  },
  {
   "cell_type": "markdown",
   "id": "8db2d33e",
   "metadata": {},
   "source": [
    "We can see the top 5 songs most similar to *drivers license* in the *track_name* column above. Interestingly, three of the five songs are Asian! These songs indeed sound similar to *drivers license*!"
   ]
  },
  {
   "cell_type": "markdown",
   "id": "4b04aa28",
   "metadata": {},
   "source": [
    "## Independent Practice:\n"
   ]
  },
  {
   "cell_type": "markdown",
   "id": "5c312586",
   "metadata": {},
   "source": [
    "### Practice exercise 1\n",
    "\n",
    "#### \n",
    "\n",
    "Read the file *Top 10 Albums By Year.csv*. This file contains the top 10 albums for each year from 1990 to 2021. Each row corresponds to a unique album."
   ]
  },
  {
   "cell_type": "code",
   "execution_count": null,
   "id": "3a16cbf5",
   "metadata": {},
   "outputs": [],
   "source": []
  },
  {
   "cell_type": "markdown",
   "id": "5653a798",
   "metadata": {},
   "source": [
    "#### \n",
    "\n",
    "Print the summary statistics of the data, and answer the following questions:\n",
    "\n",
    "1. What proportion of albums have 15 or lesser tracks? Mention a range for the proportion.\n",
    "2. What is the mean length of a track (in minutes)?"
   ]
  },
  {
   "cell_type": "code",
   "execution_count": null,
   "id": "4ff45e07",
   "metadata": {},
   "outputs": [],
   "source": []
  },
  {
   "cell_type": "markdown",
   "id": "35d7759b",
   "metadata": {},
   "source": [
    "####\n",
    "\n",
    "Why is `Worldwide Sales` not included in the summary statistics table printed in Practice exercise 1?"
   ]
  },
  {
   "cell_type": "code",
   "execution_count": null,
   "id": "3817356e",
   "metadata": {},
   "outputs": [],
   "source": []
  },
  {
   "cell_type": "markdown",
   "id": "3bb6762c",
   "metadata": {},
   "source": [
    "####\n",
    "\n",
    "Update the DataFrame so that `Worldwide Sales` is included in the summary statistics table. Print the summary statistics table.\n",
    "\n",
    "**Hint**: Sometimes it may not be possible to convert an object to numeric(). For example, the object ‘hi’ cannot be converted to a numeric() by the python compiler. To avoid getting an error, use the `errors` argument of `to_numeric()` to force such conversions to NaN (missing value)."
   ]
  },
  {
   "cell_type": "code",
   "execution_count": null,
   "id": "531285ea",
   "metadata": {},
   "outputs": [],
   "source": []
  },
  {
   "cell_type": "markdown",
   "id": "6b799356",
   "metadata": {},
   "source": [
    "####\n",
    "\n",
    "Create a new column called `mean_sales_per_year` that computes the average worldwide sales per year for each album, assuming that the worldwide sales are as of 2022. Print the first 5 rows of the updated DataFrame."
   ]
  },
  {
   "cell_type": "code",
   "execution_count": null,
   "id": "c8a03716",
   "metadata": {},
   "outputs": [],
   "source": []
  },
  {
   "cell_type": "markdown",
   "id": "e0e5b7ca",
   "metadata": {},
   "source": [
    "####\n",
    "\n",
    "Find the album having the highest worldwide sales per year, and its artist."
   ]
  },
  {
   "cell_type": "code",
   "execution_count": null,
   "id": "c0f05db1",
   "metadata": {},
   "outputs": [],
   "source": []
  },
  {
   "cell_type": "markdown",
   "id": "4eec1dde",
   "metadata": {},
   "source": [
    "#### \n",
    "Subset the data to include only Hip-Hop albums. How many Hip_Hop albums are there?"
   ]
  },
  {
   "cell_type": "code",
   "execution_count": null,
   "id": "66d6d0ca",
   "metadata": {},
   "outputs": [],
   "source": []
  },
  {
   "cell_type": "markdown",
   "id": "4f383bac",
   "metadata": {},
   "source": [
    "####\n",
    "\n",
    "Which album amongst hip-hop has the higest mean sales per year per track, and who is its artist?"
   ]
  },
  {
   "cell_type": "code",
   "execution_count": null,
   "id": "b8fd5214",
   "metadata": {},
   "outputs": [],
   "source": []
  },
  {
   "cell_type": "markdown",
   "id": "782b8169",
   "metadata": {},
   "source": [
    "### Practice exercise 2\n",
    "\n",
    "#### \n",
    "Read the file *STAT303-1 survey for data analysis.csv*."
   ]
  },
  {
   "cell_type": "code",
   "execution_count": null,
   "id": "aee1c823",
   "metadata": {},
   "outputs": [],
   "source": []
  },
  {
   "cell_type": "markdown",
   "id": "8ff804bf",
   "metadata": {},
   "source": [
    "#### \n",
    "How many observations and variables are there in the data?"
   ]
  },
  {
   "cell_type": "code",
   "execution_count": null,
   "id": "24496c7c",
   "metadata": {},
   "outputs": [],
   "source": []
  },
  {
   "cell_type": "markdown",
   "id": "5bf0ea19",
   "metadata": {},
   "source": [
    "#### \n",
    "Rename all the columns of the data, except the first two columns, with the shorter names in the list `new_col_names` given below. The order of column names in the list is the same as the order in which the columns are to be renamed starting with the third column from the left."
   ]
  },
  {
   "cell_type": "code",
   "execution_count": 119,
   "id": "176f9d1d",
   "metadata": {},
   "outputs": [],
   "source": []
  },
  {
   "cell_type": "markdown",
   "id": "c3e42a8e",
   "metadata": {},
   "source": [
    "#### \n",
    "Rename the following columns again:\n",
    "\n",
    "1. Rename `do_you_smoke` to `smoke`.\n",
    "\n",
    "2. Rename `are_you_an_introvert_or_extrovert` to `introvert_extrovert`.\n",
    "\n",
    "**Hint:** Use the function [rename()](https://pandas.pydata.org/docs/reference/api/pandas.DataFrame.rename.html)"
   ]
  },
  {
   "cell_type": "code",
   "execution_count": 120,
   "id": "b334da09",
   "metadata": {},
   "outputs": [],
   "source": []
  },
  {
   "cell_type": "markdown",
   "id": "db6f98cd",
   "metadata": {},
   "source": [
    "#### \n",
    "Find the proportion of people going to more than 4 parties per month. Use the variable `parties_per_month`."
   ]
  },
  {
   "cell_type": "code",
   "execution_count": null,
   "id": "273df409",
   "metadata": {},
   "outputs": [],
   "source": []
  },
  {
   "cell_type": "markdown",
   "id": "aa027b4e",
   "metadata": {},
   "source": [
    "#### \n",
    "Among the people who go to more than 4 parties a month, what proportion of them are introverts?"
   ]
  },
  {
   "cell_type": "code",
   "execution_count": null,
   "id": "eb51e1de",
   "metadata": {},
   "outputs": [],
   "source": []
  },
  {
   "cell_type": "markdown",
   "id": "406916ab",
   "metadata": {},
   "source": [
    "#### \n",
    "Find the proportion of people in each category of the variable `how_happy`."
   ]
  },
  {
   "cell_type": "code",
   "execution_count": null,
   "id": "d4dfc414",
   "metadata": {},
   "outputs": [],
   "source": []
  },
  {
   "cell_type": "markdown",
   "id": "0c4e7cb1",
   "metadata": {},
   "source": [
    "#### \n",
    "Among the people who go to more than 4 parties a month, what proportion of them are either `Pretty happy` or `Very happy`?"
   ]
  },
  {
   "cell_type": "code",
   "execution_count": null,
   "id": "5f26144f",
   "metadata": {},
   "outputs": [],
   "source": []
  },
  {
   "cell_type": "markdown",
   "id": "0e598447",
   "metadata": {},
   "source": [
    "#### \n",
    "Examine the column `num_insta_followers`. Some numbers in the column contain a comma(`,`) or a tilde(`~`). Remove both these characters from the numbers in the column. \n",
    "\n",
    "**Hint:** You may use the function [str.replace()](https://pandas.pydata.org/docs/reference/api/pandas.Series.str.replace.html) of the Pandas Series class."
   ]
  },
  {
   "cell_type": "code",
   "execution_count": 124,
   "id": "6d8acb48",
   "metadata": {},
   "outputs": [],
   "source": []
  },
  {
   "cell_type": "markdown",
   "id": "dcabc90b",
   "metadata": {},
   "source": [
    "#### \n",
    "Convert the column `num_insta_followers` to numeric. Coerce the errors."
   ]
  },
  {
   "cell_type": "code",
   "execution_count": 125,
   "id": "e39ce1b9",
   "metadata": {},
   "outputs": [],
   "source": []
  },
  {
   "cell_type": "markdown",
   "id": "6c950088",
   "metadata": {},
   "source": [
    "#### \n",
    "Drop the observations consisting of missing values for `num_insta_followers`. Report the number of observations dropped."
   ]
  },
  {
   "cell_type": "code",
   "execution_count": null,
   "id": "1da10536",
   "metadata": {},
   "outputs": [],
   "source": []
  },
  {
   "cell_type": "markdown",
   "id": "f9a0fa46",
   "metadata": {},
   "source": [
    "#### \n",
    "What is the mean `internet_hours_per_day` for the top 46 people in terms of number of instagram followers?"
   ]
  },
  {
   "cell_type": "code",
   "execution_count": null,
   "id": "0b8012b0",
   "metadata": {},
   "outputs": [],
   "source": []
  },
  {
   "cell_type": "markdown",
   "id": "1f3d84e6",
   "metadata": {},
   "source": [
    "#### \n",
    "What is the mean `internet_hours_per_day` for the remaining people?"
   ]
  },
  {
   "cell_type": "code",
   "execution_count": null,
   "id": "f0645f34",
   "metadata": {},
   "outputs": [],
   "source": []
  },
  {
   "cell_type": "markdown",
   "id": "1a11514d",
   "metadata": {},
   "source": [
    "### Practice exercise 3\n",
    "\n",
    "#### \n",
    "Use the updated dataset from Practice exercise 1."
   ]
  },
  {
   "cell_type": "markdown",
   "id": "f5ac48d5",
   "metadata": {},
   "source": [
    "The last four variables in the dataset are: \n",
    "\n",
    "1. `cant_change_math_ability`\n",
    "\n",
    "2. `can_change_math_ability`\n",
    "\n",
    "3. `math_is_genetic`\n",
    "\n",
    "4. `much_effort_is_lack_of_talent`\n",
    "\n",
    "Each of the above variables has values - `Agree` / `Disagree`. Replace `Agree` with `1` and `Disagree` with `0`.\n",
    "\n",
    "**Hint :** You can do it with any one of the following methods:\n",
    "\n",
    "1. Use the map() function\n",
    "\n",
    "2. Use the apply() function with the lambda function\n",
    "\n",
    "3. Use the replace() function\n",
    "\n",
    "\n",
    "Two of the above methods avoid a `for`-loop. Which ones?"
   ]
  },
  {
   "cell_type": "markdown",
   "id": "c198a336",
   "metadata": {},
   "source": []
  }
 ],
 "metadata": {
  "kernelspec": {
   "display_name": "stat303_env",
   "language": "python",
   "name": "python3"
  },
  "language_info": {
   "codemirror_mode": {
    "name": "ipython",
    "version": 3
   },
   "file_extension": ".py",
   "mimetype": "text/x-python",
   "name": "python",
   "nbconvert_exporter": "python",
   "pygments_lexer": "ipython3",
   "version": "3.12.4"
  }
 },
 "nbformat": 4,
 "nbformat_minor": 5
}
