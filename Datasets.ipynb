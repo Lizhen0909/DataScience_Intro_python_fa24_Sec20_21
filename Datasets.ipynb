{
 "cells": [
  {
   "cell_type": "raw",
   "id": "5a169952",
   "metadata": {},
   "source": [
    "---\n",
    "title: \"Datasets & Templates\"\n",
    "format: \n",
    "  html:\n",
    "    code-fold: false\n",
    "jupyter: python3\n",
    "---"
   ]
  },
  {
   "cell_type": "markdown",
   "id": "ecf28294",
   "metadata": {},
   "source": [
    "Datasets used in the book, and assignment / project templates can be found [here](https://nuwildcat-my.sharepoint.com/:f:/g/personal/lsi8012_ads_northwestern_edu/Ei8joKTin0lFvzBHfqPYP0IBZgH1B15vxCJ0DpPYZsLAyQ?e=VzgGVh)"
   ]
  },
  {
   "cell_type": "markdown",
   "id": "4eb21d34",
   "metadata": {},
   "source": []
  }
 ],
 "metadata": {
  "kernelspec": {
   "display_name": "Python 3",
   "language": "python",
   "name": "python3"
  },
  "language_info": {
   "codemirror_mode": {
    "name": "ipython",
    "version": 3
   },
   "file_extension": ".py",
   "mimetype": "text/x-python",
   "name": "python",
   "nbconvert_exporter": "python",
   "pygments_lexer": "ipython3",
   "version": "3.8.8"
  }
 },
 "nbformat": 4,
 "nbformat_minor": 5
}
