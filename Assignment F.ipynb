{
 "cells": [
  {
   "cell_type": "raw",
   "id": "2d08f12d",
   "metadata": {
    "vscode": {
     "languageId": "raw"
    }
   },
   "source": [
    "---\n",
    "title: \"Assignment F\"\n",
    "subtitle: \"Data Wrangling\"\n",
    "format: \n",
    "  html:\n",
    "    toc: true\n",
    "    toc-title: Contents\n",
    "    toc-depth: 4\n",
    "    code-fold: show\n",
    "    self-contained: false\n",
    "jupyter: python3\n",
    "---"
   ]
  },
  {
   "cell_type": "markdown",
   "id": "6efe6ec7",
   "metadata": {},
   "source": [
    "## Instructions {-}\n",
    "\n",
    "1. You may talk to a friend, discuss the questions and potential directions for solving them. However, you need to write your own solutions and code separately, and not as a group activity. \n",
    "\n",
    "2. Write your code in the *Code* cells and your answer in the *Markdown* cells of the Jupyter notebook. Ensure that the solution is written neatly enough to understand and grade.\n",
    "\n",
    "3. Use [Quarto](https://quarto.org/docs/output-formats/html-basics.html) to print the *.ipynb* file as HTML. You will need to open the command prompt, navigate to the directory containing the file, and use the command: `quarto render filename.ipynb --to html`. Submit the HTML file.\n",
    "\n",
    "4. The assignment is worth 100 points, and is due on **18th Nov 2024 at 11:59 pm**. No extension is possible on this assignment due to tight grading deadlines. \n",
    "\n",
    "5. You are **not allowed to use a `for` loop in this assignment**.\n",
    "\n",
    "6. If you are updating a dataset (imputing missing values / creating new variables), then use the updated dataset in a subsequent question.\n",
    "\n",
    "7. **Five points are properly formatting the assignment**. The breakdown is as follows:\n",
    "- Must be an HTML file rendered using Quarto (2 pts).\n",
    "- There aren’t excessively long outputs of extraneous information (e.g. no printouts of entire data frames without good reason, there aren’t long printouts of which iteration a loop is on, there aren’t long sections of commented-out code, etc.) (1 pt)\n",
    "- Final answers of each question are written in Markdown cells (1 pt).\n",
    "- There is no piece of unnecessary / redundant code, and no unnecessary / redundant text (1 pt)"
   ]
  },
  {
   "cell_type": "markdown",
   "id": "4393cced-a26a-47a9-a23d-cba029eeaf27",
   "metadata": {},
   "source": [
    "## Canadian Fish Biodiversity\n",
    "\n",
    "Read data from the file *Canadian_Fish_Biodiversity.csv* on Canvas. Each row records a unique fishing event from a 2013 sample of fish populations in Ontario, Canada. To analyze the results of these fishing surveys, we need to understand the dynamics of projects, sites, and geographic locations."
   ]
  },
  {
   "cell_type": "markdown",
   "id": "2270390b-eb12-458d-a5fd-68a0b13be9bc",
   "metadata": {},
   "source": [
    "### Top 3 projects\n",
    "Each site (identified by the column `SITEID`) represents a time and place at which fishing events occurred. Sites are grouped into broader projects (identified by the column `Project Name`). We want to understand the scope of these projects.\n",
    "\n",
    "Using `groupby()`, find the top three projects by number of unique sites.\n",
    "\n",
    "*(4 points)*"
   ]
  },
  {
   "cell_type": "markdown",
   "id": "696df760",
   "metadata": {},
   "source": [
    "### Missing value imputation with `groupby()`"
   ]
  },
  {
   "cell_type": "markdown",
   "id": "553611e8-04b7-4247-bd97-f7f0401d572f",
   "metadata": {},
   "source": [
    "#### Number of missing values\n",
    "How many values are missing for the air temperature column (`Air Temperature (C)`)? \n",
    "\n",
    "*(1 point)*"
   ]
  },
  {
   "cell_type": "markdown",
   "id": "008679b5",
   "metadata": {},
   "source": [
    "#### Missing value imputation: attempt 1\n",
    "Using `groupby()`, impute the missing values of air temperature with the median air temperature of the corresponding water body (`Waterbody Name`) and `Month`. \n",
    "\n",
    "*(4 points)*"
   ]
  },
  {
   "cell_type": "markdown",
   "id": "cc08cd8b",
   "metadata": {},
   "source": [
    "#### Missing values remaining after attempt 1\n",
    "How many missing values still remain for the air temperature column after the imputation in the previous question? \n",
    "\n",
    "*(1 point)*"
   ]
  },
  {
   "cell_type": "markdown",
   "id": "d12ae9df",
   "metadata": {},
   "source": [
    "#### Missing value imputation: attempt 2\n",
    "We will try to impute the remaining missing values for air temperature. Try to impute the remaining missing values of air temperature with the median air temperature of the corresponding project (`Project Name`) and `Month`. \n",
    "\n",
    "*(4 points)*"
   ]
  },
  {
   "cell_type": "markdown",
   "id": "7d484677",
   "metadata": {},
   "source": [
    "#### Missing values remaining after attempt 2\n",
    "How many missing values still remain for the air temperature column after the imputation in the previous question? \n",
    "\n",
    "*(1 point)*"
   ]
  },
  {
   "cell_type": "markdown",
   "id": "9f3e4e89",
   "metadata": {},
   "source": [
    "#### Air-water temperatures correlation\n",
    "Find the correlation between air temperature and water temperature. \n",
    "\n",
    "*(1 point)*"
   ]
  },
  {
   "cell_type": "markdown",
   "id": "67de7f7e",
   "metadata": {},
   "source": [
    "#### Missing values remaning after hypothetical attempt 3\n",
    "As you found a high correlation between air temperature and water temperature, you can use water temperature to estimate the air temperature *(using the trendline, like you did in assignment 5)*. Assuming you already did that, how many missing values will still remain for the air temperature column? \n",
    "\n",
    "**Note:** Do not impute the missing values using the trendline, just assume you already did that.\n",
    "\n",
    "*(3 points)*"
   ]
  },
  {
   "cell_type": "markdown",
   "id": "7184163c",
   "metadata": {},
   "source": [
    "#### Visualizing missing value imputation\n",
    "Make a scatterplot of air temperature against water temperature. Highlight the points for which the air temperature was imputed in attempts 1 and 2 with a different color. \n",
    "\n",
    "*(8 points)*"
   ]
  },
  {
   "cell_type": "markdown",
   "id": "a5f6b09a-1a1f-4ac9-a405-a3834e0c9d54",
   "metadata": {},
   "source": [
    "### Living conditions\n",
    "This section begins to investigate the living conditions of fish at different locations and time periods. Continue using the updated dataset with the imputed missing values in attempts 1 and 2 of the previous section."
   ]
  },
  {
   "cell_type": "markdown",
   "id": "b9a8a8d2-e9ea-4df4-a92f-ed53da3d126d",
   "metadata": {},
   "source": [
    "#### Air-water temperatures: Summary statistics\n",
    "Use a single `groupby` statement to view the minimum, mean, standard deviation, and maximum air temperature and water temperature for each project during the month of August (use the `Month` column). \n",
    "\n",
    "*(5 points)*"
   ]
  },
  {
   "cell_type": "markdown",
   "id": "790bf61d-8285-447a-afef-7d7dff1e4b0d",
   "metadata": {},
   "source": [
    "#### Air-water temperatures: visualizing yearly trend\n",
    "Make lineplots showing maximum air temperature and water temperature by `Month` and `Region`. To construct `Region`, use the Pandas function `cut()` to satisfy the following conditions:\n",
    "\n",
    "- Rows with a latitude lower than 42.4 should have *Southern* in the `Region` column \n",
    "- Rows with a latitude between 42.4 and 42.8 should have *Central* in the `Region` column \n",
    "- Rows with a latitude higher than 42.8 should have *Northern* in the `Region` column \n",
    "\n",
    "You can have the month on the horizontal axis, the temperature on the vertical axis, different colors for different regions, and different styles (solid line / dotted line) to indicate air/water temperature.\n",
    "\n",
    "Does anything in the visualization surprise you? Why or why not? \n",
    "\n",
    "*(14 points)*"
   ]
  },
  {
   "cell_type": "markdown",
   "id": "5bacf62d-a27d-43c5-bfce-47f554bd5f7a",
   "metadata": {},
   "source": [
    "### Fish diversity\n",
    "\n",
    "Finally let's focus on the stars of this survey—the fish, of course."
   ]
  },
  {
   "cell_type": "markdown",
   "id": "735493cf-12ed-404b-9ee5-2d7587007d7e",
   "metadata": {},
   "source": [
    "#### Top 3 species by `Region`\n",
    "Let's continue using our `Region` categorization. Find the top three fish `Species` in each region by `Number Captured`. \n",
    "\n",
    "*(10 points)*"
   ]
  },
  {
   "cell_type": "markdown",
   "id": "112eee58-3587-40df-8197-7bbe210053cf",
   "metadata": {},
   "source": [
    "#### Species spread across `Region`\n",
    "Are certain fish only found in some regions? Visualize how many species are in all three regions, how many are in two of three, and how many were only captured in one region. \n",
    "\n",
    "*(10 points)*"
   ]
  },
  {
   "cell_type": "markdown",
   "id": "0dfa7dc4-c111-4d1a-b5e3-d71ab0cb7437",
   "metadata": {},
   "source": [
    "#### Exclusive fishes by region\n",
    "What percentage of all species are exclusively captured in the Southern region? How about the Northern Region? And the Central region? \n",
    "\n",
    "*(10 points)*\n",
    "\n",
    "**Hint:**\n",
    "\n",
    "1. Find the number of distinct regions in which each species is found.\n",
    "2. Filter the species that are found only in one region.\n",
    "3. Group the data, containing only the species found in (2), by region, count the number of unique species in each group, and divide by the total number of distinct species."
   ]
  },
  {
   "cell_type": "markdown",
   "id": "e28eb2ae-4aa4-4caa-84dd-f4b3bde7d840",
   "metadata": {},
   "source": [
    "#### Turbidity\n",
    "Turbidity (`Turbidity (ntu)`) quantifies the level of cloudiness in liquid. For fish in each of the three regions, is there a linear association between turbidity and number of fish caught? You may consider a correlation higher than 50% in magnitude as presence of a linear association.\n",
    "\n",
    "*(5 points)*"
   ]
  },
  {
   "cell_type": "markdown",
   "id": "3dfb3724-38f6-4428-911d-b3c234227d25",
   "metadata": {},
   "source": [
    "#### Fish dimensions\n",
    "Now let's turn to the length of fish captured, given by `Maximum (mm)` and `Minimum (mm)`. Find the overall maximum and minimum lengths of all fish in each region. Which region has the largest range in captured fish length? \n",
    "\n",
    "*(4 points)*"
   ]
  },
  {
   "cell_type": "markdown",
   "id": "2784c14d",
   "metadata": {},
   "source": [
    "## GDP, surplus, and compensation"
   ]
  },
  {
   "cell_type": "markdown",
   "id": "c64ee759",
   "metadata": {},
   "source": [
    "The dataset *Real GDP.csv* contains the GDP of each US State for all years starting from 1997 until 2020. The data is at *State* level, i.e., each observation corresponds to a unique State.\n",
    "\n",
    "The dataset *Surplus.csv* contains the surplus of each US State for all years starting from 1997 until 2020. The data is at *year* level, i.e., each observation corresponds to a unique year.\n",
    "\n",
    "The dataset *Compensation.csv* contains *Compensation* and *Chain-type quantity indexes for real GDP* for each US State and year starting from 1997 to 2020. The dataset is at *Year-State-Description* level, i.e., each observation corresponds to a unique `Year`-`State`-`Description` combination where `Description` refers to either *Compensation* or *Chain-type quantity indexes for real GDP*. "
   ]
  },
  {
   "cell_type": "markdown",
   "id": "1620ee9c",
   "metadata": {},
   "source": [
    "### Combining datasets\n",
    "Combine all these datasets to obtain a dataset at *State-Year* level, i.e., each observation corresponds to a unique `State`-`Year` combination. The combined dataset must contain the GDP, surplus, *Compensation*, and *Chain-type quantity indexes for real GDP* for each US State and all years starting from 1997 until 2020. *Note that each observation must contain the name of the US State, year, and the four values (GDP, surplus, compensation, and Chain-type quantity indexes for real GDP).*\n",
    "\n",
    "**Hint**: Here is one way to do it:\n",
    "\n",
    "1. Melt the GDP dataset to year-State level \n",
    "\n",
    "2. Melt the Surplus dataset to year-State level \n",
    "\n",
    "3. Pivot the compensation dataset to year-State level\n",
    "\n",
    "4. Now that all the datasets are at the year-State level, merge them!\n",
    "\n",
    "*(3 + 3 + 3 + 1 = 10 points)*"
   ]
  },
  {
   "cell_type": "markdown",
   "id": "219daa35",
   "metadata": {},
   "source": [
    "### Time trend: GDP with region\n",
    "Merge the file *State_region_mapping.csv* with the dataset obtained in the previous question. Make a lineplot showing the mean GDP for each of the five regions with year. Do not display the confidence interval. Which two regions seems to have the least growth in GDP over the past 24 years? \n",
    "\n",
    "*(5 points)*"
   ]
  }
 ],
 "metadata": {
  "kernelspec": {
   "display_name": "Python 3 (ipykernel)",
   "language": "python",
   "name": "python3"
  },
  "language_info": {
   "codemirror_mode": {
    "name": "ipython",
    "version": 3
   },
   "file_extension": ".py",
   "mimetype": "text/x-python",
   "name": "python",
   "nbconvert_exporter": "python",
   "pygments_lexer": "ipython3",
   "version": "3.8.17"
  }
 },
 "nbformat": 4,
 "nbformat_minor": 5
}
