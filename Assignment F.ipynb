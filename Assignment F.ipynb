{
 "cells": [
  {
   "cell_type": "raw",
   "id": "33dd6c4c",
   "metadata": {},
   "source": [
    "---\n",
    "title: \"Assignment F\"\n",
    "subtitle: \"Data wrangling\"\n",
    "format: \n",
    "  html:\n",
    "    toc: true\n",
    "    toc-title: Contents\n",
    "    toc-depth: 4\n",
    "    code-fold: show\n",
    "    self-contained: true\n",
    "jupyter: python3\n",
    "---"
   ]
  },
  {
   "cell_type": "markdown",
   "id": "0116f49b",
   "metadata": {},
   "source": [
    "# Instructions {-}\n",
    "\n",
    "1. You may talk to a friend, discuss the questions and potential directions for solving them. However, you need to write your own solutions and code separately, and not as a group activity. \n",
    "\n",
    "2. Do not write your name on the assignment.\n",
    "\n",
    "3. Write your code in the *Code* cells and your answer in the *Markdown* cells of the Jupyter notebook. Ensure that the solution is written neatly enough to understand and grade.\n",
    "\n",
    "4. Use [Quarto](https://quarto.org/docs/output-formats/html-basics.html) to print the *.ipynb* file as HTML. You will need to open the command prompt, navigate to the directory containing the file, and use the command: `quarto render filename.ipynb --to html`. Submit the HTML file.\n",
    "\n",
    "5. The assignment is worth 100 points, and is due on **19th November 2023 at 11:59 pm**. \n",
    "\n",
    "6. You are **not allowed to use a `for` loop in this assignment**.\n",
    "\n",
    "7. **Five points are properly formatting the assignment**. The breakdown is as follows:\n",
    "- Must be an HTML file rendered using Quarto (2 pts).\n",
    "- There aren’t excessively long outputs of extraneous information (e.g. no printouts of entire data frames without good reason, there aren’t long printouts of which iteration a loop is on, there aren’t long sections of commented-out code, etc.) (1 pt)\n",
    "- Final answers of each question are written in Markdown cells (1 pt).\n",
    "- There is no piece of unnecessary / redundant code, and no unnecessary / redundant text (1 pt)"
   ]
  },
  {
   "cell_type": "markdown",
   "id": "0c4035ef",
   "metadata": {},
   "source": [
    "## Fifa world cup\n",
    "Read FIFA world cup attendance data from the page: https://en.wikipedia.org/wiki/FIFA_World_Cup . Use 'attendance' as the matching string to find the table. \n",
    "\n",
    "### \n",
    "Find the number of levels of column labels and row labels in the data.\n",
    "\n",
    "*(2 points)*"
   ]
  },
  {
   "cell_type": "markdown",
   "id": "a7827336",
   "metadata": {},
   "source": [
    "### \n",
    "Reduce the multiple levels of column labels to a single level as follows. If the column names at all the levels are different, then concatenate the names together. Otherwise, keep the name at the outer level. For example, if the column name is ('Hosts','Hosts'), it should change to 'Hosts'. If the column name is ('Highest attendances †','Number'), it should change to 'Highest attendances †Number'. Do not rename each column manually. Use a method that will work efficiently if there were a large number of columns, say $10,000$ columns. \n",
    "\n",
    "**Reminder: Do not use a `for` loop.**\n",
    "\n",
    "*(10 points)*"
   ]
  },
  {
   "cell_type": "markdown",
   "id": "35f85010",
   "metadata": {},
   "source": [
    "## GDP, surplus, and compensation"
   ]
  },
  {
   "cell_type": "markdown",
   "id": "20746c8a",
   "metadata": {},
   "source": [
    "The dataset *Real GDP.csv* contains the GDP of each US State for all years starting from 1997 until 2020. The data is at *State* level, i.e., each observation corresponds to a unique State.\n",
    "\n",
    "The dataset *Surplus.csv* contains the surplus of each US State for all years starting from 1997 until 2020. The data is at *year* level, i.e., each observation corresponds to a unique year.\n",
    "\n",
    "The dataset *Compensation.csv* contains *Compensation* and *Chain-type quantity indexes for real GDP* for each US State and year starting from 1997 to 2020. The dataset is at *Year-State-Description* level, i.e., each observation corresponds to a unique `Year`-`State`-`Description` combination where `Description` refers to either *Compensation* or *Chain-type quantity indexes for real GDP*. "
   ]
  },
  {
   "cell_type": "markdown",
   "id": "d8605c2f",
   "metadata": {},
   "source": [
    "### Combining datasets\n",
    "Combine all these datasets to obtain a dataset at *State-Year* level, i.e., each observation corresponds to a unique `State`-`Year` combination. The combined dataset must contain the GDP, surplus, *Compensation*, and *Chain-type quantity indexes for real GDP* for each US State and all years starting from 1997 until 2020. *Note that each observation must contain the name of the US State, year, and the four values (GDP, surplus, compensation, and Chain-type quantity indexes for real GDP).*\n",
    "\n",
    "**Hint**: Here is one way to do it:\n",
    "\n",
    "1. Melt the GDP dataset to year-State level \n",
    "\n",
    "2. Melt the Surplus dataset to year-State level \n",
    "\n",
    "3. Pivot the compensation dataset to year-State level\n",
    "\n",
    "4. Now that all the datasets are at the year-State level, merge them!\n",
    "\n",
    "*(3 + 3 + 3 + 1 = 10 points)*"
   ]
  },
  {
   "cell_type": "markdown",
   "id": "e95483cf",
   "metadata": {},
   "source": [
    "### Time trend: GDP, surplus, and compensation\n",
    "Use a single plot to answer all three questions below by visualizing: \n",
    "\n",
    "1. How does the mean GDP (mean over all States) change with year? *(1 point for visualization)* \n",
    "\n",
    "2. How does the mean compensation (mean over all States) change with year? *(1 point for visualization)* \n",
    "\n",
    "3. How does the mean surplus (mean over all States) change with year? *(1 point for visualization)*\n",
    "\n",
    "Also show the 95% confidence interval for the mean GDP, mean compensation, and mean surplus in the plot.\n",
    "\n",
    "**Hint:** Use the *seaborn* function `lineplot()` . No calculations are needed. Just use `lineplot()` three times. \n",
    "\n",
    "*(4 points)*"
   ]
  },
  {
   "cell_type": "markdown",
   "id": "e8ccd798",
   "metadata": {},
   "source": [
    "### Time trend: GDP with region\n",
    "Merge the file *State_region_mapping.csv* with the dataset obtained in the previous question. Make a lineplot showing the mean GDP for each of the five regions with year. Do not display the confidence interval. Which two regions seems to have the least growth in GDP over the past 24 years? \n",
    "\n",
    "*(4 points)*"
   ]
  }
 ],
 "metadata": {
  "kernelspec": {
   "display_name": "Python 3 (ipykernel)",
   "language": "python",
   "name": "python3"
  },
  "language_info": {
   "codemirror_mode": {
    "name": "ipython",
    "version": 3
   },
   "file_extension": ".py",
   "mimetype": "text/x-python",
   "name": "python",
   "nbconvert_exporter": "python",
   "pygments_lexer": "ipython3",
   "version": "3.8.17"
  }
 },
 "nbformat": 4,
 "nbformat_minor": 5
}
